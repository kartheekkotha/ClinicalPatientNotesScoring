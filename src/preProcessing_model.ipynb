{
 "cells": [
  {
   "cell_type": "code",
   "execution_count": 1,
   "metadata": {},
   "outputs": [],
   "source": [
    "import sys\n",
    "from logHelper import logger"
   ]
  },
  {
   "cell_type": "code",
   "execution_count": 11,
   "metadata": {},
   "outputs": [],
   "source": [
    "#Import the necessary modules\n",
    "import matplotlib.pyplot as plt\n",
    "import pandas as pd\n",
    "import numpy as np\n",
    "from ast import literal_eval"
   ]
  },
  {
   "cell_type": "code",
   "execution_count": 3,
   "metadata": {},
   "outputs": [
    {
     "name": "stderr",
     "output_type": "stream",
     "text": [
      "Unable to create process using 'C:\\Users\\Kartheek Kotha\\.conda\\envs\\nlp\\python.exe \"C:\\Users\\Kartheek Kotha\\.conda\\envs\\nlp\\Scripts\\pip-script.py\" install nltk'\n"
     ]
    }
   ],
   "source": [
    "#Import the necessary modules for NLP\n",
    "! pip install nltk\n",
    "import nltk"
   ]
  },
  {
   "cell_type": "markdown",
   "metadata": {},
   "source": [
    "## Configurations"
   ]
  },
  {
   "cell_type": "code",
   "execution_count": 8,
   "metadata": {},
   "outputs": [],
   "source": [
    "base_config = {\n",
    "    \"Base_data_path\": \"../data/nbme-score-clinical-patient-notes\"\n",
    "}"
   ]
  },
  {
   "cell_type": "markdown",
   "metadata": {},
   "source": [
    "## Helper Classes"
   ]
  },
  {
   "cell_type": "markdown",
   "metadata": {},
   "source": [
    "### To prepare data"
   ]
  },
  {
   "cell_type": "code",
   "execution_count": 35,
   "metadata": {},
   "outputs": [],
   "source": [
    "class prepare_data():\n",
    "    def __init__(self , config):\n",
    "        self.config = config\n",
    "    def merge_data(self):\n",
    "        features = pd.read_csv(f\"{self.config['Base_data_path']}/features.csv\")\n",
    "        patient_notes = pd.read_csv(f\"{self.config['Base_data_path']}/patient_notes.csv\")\n",
    "        train_df = pd.read_csv(f\"{self.config['Base_data_path']}/train.csv\")\n",
    "        train_df['annotation_list'] = [literal_eval(x) for x in train_df['annotation']]\n",
    "        train_df['location_list'] = [literal_eval(x) for x in train_df['location']]\n",
    "        \n",
    "        merged = train_df.merge(patient_notes, how='left')\n",
    "        merged = merged.merge(features, how='left')\n",
    "\n",
    "        merged['pn_history'] = merged['pn_history'].apply(lambda x: x.lower())\n",
    "        merged['feature_text'] = merged['feature_text'].apply(lambda x: x.lower())\n",
    "        merged['feature_text'] = merged['feature_text'].apply(lambda x: x.replace('-', ' ').replace('-OR-', \";-\"))\n",
    "        return merged"
   ]
  },
  {
   "cell_type": "markdown",
   "metadata": {},
   "source": [
    "### To pre-process data - Tokenizer"
   ]
  },
  {
   "cell_type": "code",
   "execution_count": 54,
   "metadata": {},
   "outputs": [],
   "source": [
    "class pre_process_data():\n",
    "    def __init__(self , config):\n",
    "        self.config = config\n",
    "    def split_loc(self , loc_list):\n",
    "        final_loc = []\n",
    "        for loc in loc_list:\n",
    "            locations = loc.split(';')\n",
    "            for location in locations:\n",
    "                start , end = location.split()\n",
    "                final_loc.append((int(start) , int(end)))\n",
    "        return final_loc"
   ]
  },
  {
   "cell_type": "markdown",
   "metadata": {},
   "source": [
    "## Testing purpose below"
   ]
  },
  {
   "cell_type": "code",
   "execution_count": 55,
   "metadata": {},
   "outputs": [
    {
     "name": "stdout",
     "output_type": "stream",
     "text": [
      "<class 'pandas.core.frame.DataFrame'>\n",
      "RangeIndex: 14300 entries, 0 to 14299\n",
      "Data columns (total 6 columns):\n",
      " #   Column       Non-Null Count  Dtype \n",
      "---  ------       --------------  ----- \n",
      " 0   id           14300 non-null  object\n",
      " 1   case_num     14300 non-null  int64 \n",
      " 2   pn_num       14300 non-null  int64 \n",
      " 3   feature_num  14300 non-null  int64 \n",
      " 4   annotation   14300 non-null  object\n",
      " 5   location     14300 non-null  object\n",
      "dtypes: int64(3), object(3)\n",
      "memory usage: 670.4+ KB\n",
      "None\n"
     ]
    },
    {
     "data": {
      "text/html": [
       "<div>\n",
       "<style scoped>\n",
       "    .dataframe tbody tr th:only-of-type {\n",
       "        vertical-align: middle;\n",
       "    }\n",
       "\n",
       "    .dataframe tbody tr th {\n",
       "        vertical-align: top;\n",
       "    }\n",
       "\n",
       "    .dataframe thead th {\n",
       "        text-align: right;\n",
       "    }\n",
       "</style>\n",
       "<table border=\"1\" class=\"dataframe\">\n",
       "  <thead>\n",
       "    <tr style=\"text-align: right;\">\n",
       "      <th></th>\n",
       "      <th>id</th>\n",
       "      <th>case_num</th>\n",
       "      <th>pn_num</th>\n",
       "      <th>feature_num</th>\n",
       "      <th>annotation</th>\n",
       "      <th>location</th>\n",
       "    </tr>\n",
       "  </thead>\n",
       "  <tbody>\n",
       "    <tr>\n",
       "      <th>0</th>\n",
       "      <td>00016_000</td>\n",
       "      <td>0</td>\n",
       "      <td>16</td>\n",
       "      <td>0</td>\n",
       "      <td>['dad with recent heart attcak']</td>\n",
       "      <td>['696 724']</td>\n",
       "    </tr>\n",
       "    <tr>\n",
       "      <th>1</th>\n",
       "      <td>00016_001</td>\n",
       "      <td>0</td>\n",
       "      <td>16</td>\n",
       "      <td>1</td>\n",
       "      <td>['mom with \"thyroid disease']</td>\n",
       "      <td>['668 693']</td>\n",
       "    </tr>\n",
       "  </tbody>\n",
       "</table>\n",
       "</div>"
      ],
      "text/plain": [
       "          id  case_num  pn_num  feature_num                        annotation  \\\n",
       "0  00016_000         0      16            0  ['dad with recent heart attcak']   \n",
       "1  00016_001         0      16            1     ['mom with \"thyroid disease']   \n",
       "\n",
       "      location  \n",
       "0  ['696 724']  \n",
       "1  ['668 693']  "
      ]
     },
     "execution_count": 55,
     "metadata": {},
     "output_type": "execute_result"
    }
   ],
   "source": [
    "#read data\n",
    "df = pd.read_csv(f\"{base_config['Base_data_path']}/train.csv\")\n",
    "print(df.info())\n",
    "df.head(2)"
   ]
  },
  {
   "cell_type": "code",
   "execution_count": 56,
   "metadata": {},
   "outputs": [
    {
     "name": "stdout",
     "output_type": "stream",
     "text": [
      "<class 'pandas.core.frame.DataFrame'>\n",
      "RangeIndex: 14300 entries, 0 to 14299\n",
      "Data columns (total 10 columns):\n",
      " #   Column           Non-Null Count  Dtype \n",
      "---  ------           --------------  ----- \n",
      " 0   id               14300 non-null  object\n",
      " 1   case_num         14300 non-null  int64 \n",
      " 2   pn_num           14300 non-null  int64 \n",
      " 3   feature_num      14300 non-null  int64 \n",
      " 4   annotation       14300 non-null  object\n",
      " 5   location         14300 non-null  object\n",
      " 6   annotation_list  14300 non-null  object\n",
      " 7   location_list    14300 non-null  object\n",
      " 8   pn_history       14300 non-null  object\n",
      " 9   feature_text     14300 non-null  object\n",
      "dtypes: int64(3), object(7)\n",
      "memory usage: 1.1+ MB\n",
      "None\n"
     ]
    },
    {
     "data": {
      "text/html": [
       "<div>\n",
       "<style scoped>\n",
       "    .dataframe tbody tr th:only-of-type {\n",
       "        vertical-align: middle;\n",
       "    }\n",
       "\n",
       "    .dataframe tbody tr th {\n",
       "        vertical-align: top;\n",
       "    }\n",
       "\n",
       "    .dataframe thead th {\n",
       "        text-align: right;\n",
       "    }\n",
       "</style>\n",
       "<table border=\"1\" class=\"dataframe\">\n",
       "  <thead>\n",
       "    <tr style=\"text-align: right;\">\n",
       "      <th></th>\n",
       "      <th>id</th>\n",
       "      <th>case_num</th>\n",
       "      <th>pn_num</th>\n",
       "      <th>feature_num</th>\n",
       "      <th>annotation</th>\n",
       "      <th>location</th>\n",
       "      <th>annotation_list</th>\n",
       "      <th>location_list</th>\n",
       "      <th>pn_history</th>\n",
       "      <th>feature_text</th>\n",
       "    </tr>\n",
       "  </thead>\n",
       "  <tbody>\n",
       "    <tr>\n",
       "      <th>0</th>\n",
       "      <td>00016_000</td>\n",
       "      <td>0</td>\n",
       "      <td>16</td>\n",
       "      <td>0</td>\n",
       "      <td>['dad with recent heart attcak']</td>\n",
       "      <td>['696 724']</td>\n",
       "      <td>[dad with recent heart attcak]</td>\n",
       "      <td>[696 724]</td>\n",
       "      <td>hpi: 17yo m presents with palpitations. patien...</td>\n",
       "      <td>family history of mi or family history of myoc...</td>\n",
       "    </tr>\n",
       "    <tr>\n",
       "      <th>1</th>\n",
       "      <td>00016_001</td>\n",
       "      <td>0</td>\n",
       "      <td>16</td>\n",
       "      <td>1</td>\n",
       "      <td>['mom with \"thyroid disease']</td>\n",
       "      <td>['668 693']</td>\n",
       "      <td>[mom with \"thyroid disease]</td>\n",
       "      <td>[668 693]</td>\n",
       "      <td>hpi: 17yo m presents with palpitations. patien...</td>\n",
       "      <td>family history of thyroid disorder</td>\n",
       "    </tr>\n",
       "  </tbody>\n",
       "</table>\n",
       "</div>"
      ],
      "text/plain": [
       "          id  case_num  pn_num  feature_num                        annotation  \\\n",
       "0  00016_000         0      16            0  ['dad with recent heart attcak']   \n",
       "1  00016_001         0      16            1     ['mom with \"thyroid disease']   \n",
       "\n",
       "      location                 annotation_list location_list  \\\n",
       "0  ['696 724']  [dad with recent heart attcak]     [696 724]   \n",
       "1  ['668 693']     [mom with \"thyroid disease]     [668 693]   \n",
       "\n",
       "                                          pn_history  \\\n",
       "0  hpi: 17yo m presents with palpitations. patien...   \n",
       "1  hpi: 17yo m presents with palpitations. patien...   \n",
       "\n",
       "                                        feature_text  \n",
       "0  family history of mi or family history of myoc...  \n",
       "1                 family history of thyroid disorder  "
      ]
     },
     "execution_count": 56,
     "metadata": {},
     "output_type": "execute_result"
    }
   ],
   "source": [
    "obj = prepare_data(base_config)\n",
    "train_df = obj.merge_data()\n",
    "print(train_df.info())\n",
    "train_df.head(2)"
   ]
  },
  {
   "cell_type": "code",
   "execution_count": 59,
   "metadata": {},
   "outputs": [
    {
     "name": "stdout",
     "output_type": "stream",
     "text": [
      "[(696, 724)]\n"
     ]
    }
   ],
   "source": [
    "obj_pre_process = pre_process_data(base_config)\n",
    "print(obj_pre_process.split_loc(train_df['location_list'][0]))"
   ]
  },
  {
   "cell_type": "code",
   "execution_count": null,
   "metadata": {},
   "outputs": [],
   "source": []
  }
 ],
 "metadata": {
  "kernelspec": {
   "display_name": "nlp",
   "language": "python",
   "name": "python3"
  },
  "language_info": {
   "codemirror_mode": {
    "name": "ipython",
    "version": 3
   },
   "file_extension": ".py",
   "mimetype": "text/x-python",
   "name": "python",
   "nbconvert_exporter": "python",
   "pygments_lexer": "ipython3",
   "version": "3.12.1"
  }
 },
 "nbformat": 4,
 "nbformat_minor": 2
}
