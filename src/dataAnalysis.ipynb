{
 "cells": [
  {
   "cell_type": "code",
   "execution_count": 1,
   "metadata": {},
   "outputs": [],
   "source": [
    "import numpy as np\n",
    "import pandas as pd\n",
    "import os\n",
    "import matplotlib.pyplot as plt\n",
    "import ast\n",
    "from ast import literal_eval"
   ]
  },
  {
   "cell_type": "markdown",
   "metadata": {},
   "source": [
    "## Data Reading"
   ]
  },
  {
   "cell_type": "markdown",
   "metadata": {},
   "source": [
    "During this exam, each test taker sees a Standardized Patient, a person trained to portray a clinical case. After interacting with the patient, the test taker documents the relevant facts of the encounter in a patient note. Each patient note is scored by a trained physician who looks for the presence of certain key concepts or features relevant to the case as described in a rubric. The goal of this competition is to develop an automated way of identifying the relevant features within each patient note, with a special focus on the patient history portions of the notes where the information from the interview with the standardized patient is documented."
   ]
  },
  {
   "cell_type": "code",
   "execution_count": 2,
   "metadata": {},
   "outputs": [],
   "source": [
    "DATA_DIR = \"../data/nbme-score-clinical-patient-notes\"\n",
    "notes_df = pd.read_csv(os.path.join(DATA_DIR, \"patient_notes.csv\"))\n",
    "features_df = pd.read_csv(os.path.join(DATA_DIR, \"features.csv\"))\n",
    "train_df = pd.read_csv(os.path.join(DATA_DIR, \"train.csv\"))\n",
    "test_df = pd.read_csv(os.path.join(DATA_DIR, \"test.csv\"))\n",
    "samplesub_df = pd.read_csv(os.path.join(DATA_DIR, \"sample_submission.csv\"))"
   ]
  },
  {
   "cell_type": "code",
   "execution_count": 3,
   "metadata": {},
   "outputs": [],
   "source": [
    "df = train_df.merge(features_df, how=\"left\", on=[\"case_num\", \"feature_num\"])\n",
    "df = df.merge(notes_df, how=\"left\", on=[\"case_num\", \"pn_num\"])\n",
    "df[\"annotation_list\"] = [literal_eval(x) for x in train_df[\"annotation\"]]\n",
    "df[\"location_list\"] = [literal_eval(x) for x in train_df[\"location\"]]\n",
    "df[\"pn_history\"] = df[\"pn_history\"].apply(lambda x: x.lower())\n",
    "df[\"feature_text\"] = df[\"feature_text\"].apply(lambda x: x.lower())\n",
    "df[\"feature_text\"] = df[\"feature_text\"].apply(\n",
    "    lambda x: x.replace(\"-\", \" \").replace(\"-OR-\", \";-\")\n",
    ")"
   ]
  },
  {
   "cell_type": "code",
   "execution_count": 4,
   "metadata": {},
   "outputs": [
    {
     "data": {
      "text/plain": [
       "id             14300\n",
       "case_num          10\n",
       "pn_num          1000\n",
       "feature_num      143\n",
       "annotation      5201\n",
       "location        7534\n",
       "dtype: int64"
      ]
     },
     "execution_count": 4,
     "metadata": {},
     "output_type": "execute_result"
    }
   ],
   "source": [
    "train_df.nunique()"
   ]
  },
  {
   "cell_type": "code",
   "execution_count": 5,
   "metadata": {},
   "outputs": [
    {
     "data": {
      "text/html": [
       "<div>\n",
       "<style scoped>\n",
       "    .dataframe tbody tr th:only-of-type {\n",
       "        vertical-align: middle;\n",
       "    }\n",
       "\n",
       "    .dataframe tbody tr th {\n",
       "        vertical-align: top;\n",
       "    }\n",
       "\n",
       "    .dataframe thead th {\n",
       "        text-align: right;\n",
       "    }\n",
       "</style>\n",
       "<table border=\"1\" class=\"dataframe\">\n",
       "  <thead>\n",
       "    <tr style=\"text-align: right;\">\n",
       "      <th></th>\n",
       "      <th>id</th>\n",
       "      <th>case_num</th>\n",
       "      <th>pn_num</th>\n",
       "      <th>feature_num</th>\n",
       "      <th>annotation</th>\n",
       "      <th>location</th>\n",
       "      <th>feature_text</th>\n",
       "      <th>pn_history</th>\n",
       "      <th>annotation_list</th>\n",
       "      <th>location_list</th>\n",
       "    </tr>\n",
       "  </thead>\n",
       "  <tbody>\n",
       "    <tr>\n",
       "      <th>0</th>\n",
       "      <td>00016_000</td>\n",
       "      <td>0</td>\n",
       "      <td>16</td>\n",
       "      <td>0</td>\n",
       "      <td>['dad with recent heart attcak']</td>\n",
       "      <td>['696 724']</td>\n",
       "      <td>family history of mi or family history of myoc...</td>\n",
       "      <td>hpi: 17yo m presents with palpitations. patien...</td>\n",
       "      <td>[dad with recent heart attcak]</td>\n",
       "      <td>[696 724]</td>\n",
       "    </tr>\n",
       "    <tr>\n",
       "      <th>1</th>\n",
       "      <td>00016_001</td>\n",
       "      <td>0</td>\n",
       "      <td>16</td>\n",
       "      <td>1</td>\n",
       "      <td>['mom with \"thyroid disease']</td>\n",
       "      <td>['668 693']</td>\n",
       "      <td>family history of thyroid disorder</td>\n",
       "      <td>hpi: 17yo m presents with palpitations. patien...</td>\n",
       "      <td>[mom with \"thyroid disease]</td>\n",
       "      <td>[668 693]</td>\n",
       "    </tr>\n",
       "    <tr>\n",
       "      <th>2</th>\n",
       "      <td>00016_002</td>\n",
       "      <td>0</td>\n",
       "      <td>16</td>\n",
       "      <td>2</td>\n",
       "      <td>['chest pressure']</td>\n",
       "      <td>['203 217']</td>\n",
       "      <td>chest pressure</td>\n",
       "      <td>hpi: 17yo m presents with palpitations. patien...</td>\n",
       "      <td>[chest pressure]</td>\n",
       "      <td>[203 217]</td>\n",
       "    </tr>\n",
       "    <tr>\n",
       "      <th>3</th>\n",
       "      <td>00016_003</td>\n",
       "      <td>0</td>\n",
       "      <td>16</td>\n",
       "      <td>3</td>\n",
       "      <td>['intermittent episodes', 'episode']</td>\n",
       "      <td>['70 91', '176 183']</td>\n",
       "      <td>intermittent symptoms</td>\n",
       "      <td>hpi: 17yo m presents with palpitations. patien...</td>\n",
       "      <td>[intermittent episodes, episode]</td>\n",
       "      <td>[70 91, 176 183]</td>\n",
       "    </tr>\n",
       "    <tr>\n",
       "      <th>4</th>\n",
       "      <td>00016_004</td>\n",
       "      <td>0</td>\n",
       "      <td>16</td>\n",
       "      <td>4</td>\n",
       "      <td>['felt as if he were going to pass out']</td>\n",
       "      <td>['222 258']</td>\n",
       "      <td>lightheaded</td>\n",
       "      <td>hpi: 17yo m presents with palpitations. patien...</td>\n",
       "      <td>[felt as if he were going to pass out]</td>\n",
       "      <td>[222 258]</td>\n",
       "    </tr>\n",
       "    <tr>\n",
       "      <th>...</th>\n",
       "      <td>...</td>\n",
       "      <td>...</td>\n",
       "      <td>...</td>\n",
       "      <td>...</td>\n",
       "      <td>...</td>\n",
       "      <td>...</td>\n",
       "      <td>...</td>\n",
       "      <td>...</td>\n",
       "      <td>...</td>\n",
       "      <td>...</td>\n",
       "    </tr>\n",
       "    <tr>\n",
       "      <th>14295</th>\n",
       "      <td>95333_912</td>\n",
       "      <td>9</td>\n",
       "      <td>95333</td>\n",
       "      <td>912</td>\n",
       "      <td>[]</td>\n",
       "      <td>[]</td>\n",
       "      <td>family history of migraines</td>\n",
       "      <td>stephanie madden is a 20 year old woman compla...</td>\n",
       "      <td>[]</td>\n",
       "      <td>[]</td>\n",
       "    </tr>\n",
       "    <tr>\n",
       "      <th>14296</th>\n",
       "      <td>95333_913</td>\n",
       "      <td>9</td>\n",
       "      <td>95333</td>\n",
       "      <td>913</td>\n",
       "      <td>[]</td>\n",
       "      <td>[]</td>\n",
       "      <td>female</td>\n",
       "      <td>stephanie madden is a 20 year old woman compla...</td>\n",
       "      <td>[]</td>\n",
       "      <td>[]</td>\n",
       "    </tr>\n",
       "    <tr>\n",
       "      <th>14297</th>\n",
       "      <td>95333_914</td>\n",
       "      <td>9</td>\n",
       "      <td>95333</td>\n",
       "      <td>914</td>\n",
       "      <td>['photobia']</td>\n",
       "      <td>['274 282']</td>\n",
       "      <td>photophobia</td>\n",
       "      <td>stephanie madden is a 20 year old woman compla...</td>\n",
       "      <td>[photobia]</td>\n",
       "      <td>[274 282]</td>\n",
       "    </tr>\n",
       "    <tr>\n",
       "      <th>14298</th>\n",
       "      <td>95333_915</td>\n",
       "      <td>9</td>\n",
       "      <td>95333</td>\n",
       "      <td>915</td>\n",
       "      <td>['no sick contacts']</td>\n",
       "      <td>['421 437']</td>\n",
       "      <td>no known illness contacts</td>\n",
       "      <td>stephanie madden is a 20 year old woman compla...</td>\n",
       "      <td>[no sick contacts]</td>\n",
       "      <td>[421 437]</td>\n",
       "    </tr>\n",
       "    <tr>\n",
       "      <th>14299</th>\n",
       "      <td>95333_916</td>\n",
       "      <td>9</td>\n",
       "      <td>95333</td>\n",
       "      <td>916</td>\n",
       "      <td>['Subjective fever']</td>\n",
       "      <td>['314 330']</td>\n",
       "      <td>subjective fever</td>\n",
       "      <td>stephanie madden is a 20 year old woman compla...</td>\n",
       "      <td>[Subjective fever]</td>\n",
       "      <td>[314 330]</td>\n",
       "    </tr>\n",
       "  </tbody>\n",
       "</table>\n",
       "<p>14300 rows × 10 columns</p>\n",
       "</div>"
      ],
      "text/plain": [
       "              id  case_num  pn_num  feature_num  \\\n",
       "0      00016_000         0      16            0   \n",
       "1      00016_001         0      16            1   \n",
       "2      00016_002         0      16            2   \n",
       "3      00016_003         0      16            3   \n",
       "4      00016_004         0      16            4   \n",
       "...          ...       ...     ...          ...   \n",
       "14295  95333_912         9   95333          912   \n",
       "14296  95333_913         9   95333          913   \n",
       "14297  95333_914         9   95333          914   \n",
       "14298  95333_915         9   95333          915   \n",
       "14299  95333_916         9   95333          916   \n",
       "\n",
       "                                     annotation              location  \\\n",
       "0              ['dad with recent heart attcak']           ['696 724']   \n",
       "1                 ['mom with \"thyroid disease']           ['668 693']   \n",
       "2                            ['chest pressure']           ['203 217']   \n",
       "3          ['intermittent episodes', 'episode']  ['70 91', '176 183']   \n",
       "4      ['felt as if he were going to pass out']           ['222 258']   \n",
       "...                                         ...                   ...   \n",
       "14295                                        []                    []   \n",
       "14296                                        []                    []   \n",
       "14297                              ['photobia']           ['274 282']   \n",
       "14298                      ['no sick contacts']           ['421 437']   \n",
       "14299                      ['Subjective fever']           ['314 330']   \n",
       "\n",
       "                                            feature_text  \\\n",
       "0      family history of mi or family history of myoc...   \n",
       "1                     family history of thyroid disorder   \n",
       "2                                         chest pressure   \n",
       "3                                  intermittent symptoms   \n",
       "4                                            lightheaded   \n",
       "...                                                  ...   \n",
       "14295                        family history of migraines   \n",
       "14296                                             female   \n",
       "14297                                        photophobia   \n",
       "14298                          no known illness contacts   \n",
       "14299                                   subjective fever   \n",
       "\n",
       "                                              pn_history  \\\n",
       "0      hpi: 17yo m presents with palpitations. patien...   \n",
       "1      hpi: 17yo m presents with palpitations. patien...   \n",
       "2      hpi: 17yo m presents with palpitations. patien...   \n",
       "3      hpi: 17yo m presents with palpitations. patien...   \n",
       "4      hpi: 17yo m presents with palpitations. patien...   \n",
       "...                                                  ...   \n",
       "14295  stephanie madden is a 20 year old woman compla...   \n",
       "14296  stephanie madden is a 20 year old woman compla...   \n",
       "14297  stephanie madden is a 20 year old woman compla...   \n",
       "14298  stephanie madden is a 20 year old woman compla...   \n",
       "14299  stephanie madden is a 20 year old woman compla...   \n",
       "\n",
       "                              annotation_list     location_list  \n",
       "0              [dad with recent heart attcak]         [696 724]  \n",
       "1                 [mom with \"thyroid disease]         [668 693]  \n",
       "2                            [chest pressure]         [203 217]  \n",
       "3            [intermittent episodes, episode]  [70 91, 176 183]  \n",
       "4      [felt as if he were going to pass out]         [222 258]  \n",
       "...                                       ...               ...  \n",
       "14295                                      []                []  \n",
       "14296                                      []                []  \n",
       "14297                              [photobia]         [274 282]  \n",
       "14298                      [no sick contacts]         [421 437]  \n",
       "14299                      [Subjective fever]         [314 330]  \n",
       "\n",
       "[14300 rows x 10 columns]"
      ]
     },
     "execution_count": 5,
     "metadata": {},
     "output_type": "execute_result"
    }
   ],
   "source": [
    "df\n"
   ]
  },
  {
   "cell_type": "code",
   "execution_count": 6,
   "metadata": {},
   "outputs": [
    {
     "name": "stdout",
     "output_type": "stream",
     "text": [
      "There are 1000 patients with annotation in the dataset\n"
     ]
    }
   ],
   "source": [
    "print(f\"There are {df.pn_num.nunique()} patients with annotation in the dataset\")"
   ]
  },
  {
   "cell_type": "code",
   "execution_count": 7,
   "metadata": {},
   "outputs": [
    {
     "name": "stdout",
     "output_type": "stream",
     "text": [
      "There are 42146 patient note history portions in the dataset\n"
     ]
    }
   ],
   "source": [
    "print(f\"There are {notes_df.pn_num.nunique()} patient note history portions in the dataset\")"
   ]
  },
  {
   "cell_type": "code",
   "execution_count": 8,
   "metadata": {},
   "outputs": [],
   "source": [
    "case_cnt = pd.DataFrame(notes_df.groupby([\"case_num\"])[\"case_num\"].count())\n",
    "case_cnt.rename(columns={\"case_num\": \"count\"}, inplace=True)\n",
    "case_cnt.reset_index(inplace=True)"
   ]
  },
  {
   "cell_type": "code",
   "execution_count": 9,
   "metadata": {},
   "outputs": [
    {
     "data": {
      "text/html": [
       "<div>\n",
       "<style scoped>\n",
       "    .dataframe tbody tr th:only-of-type {\n",
       "        vertical-align: middle;\n",
       "    }\n",
       "\n",
       "    .dataframe tbody tr th {\n",
       "        vertical-align: top;\n",
       "    }\n",
       "\n",
       "    .dataframe thead th {\n",
       "        text-align: right;\n",
       "    }\n",
       "</style>\n",
       "<table border=\"1\" class=\"dataframe\">\n",
       "  <thead>\n",
       "    <tr style=\"text-align: right;\">\n",
       "      <th></th>\n",
       "      <th>case_num</th>\n",
       "      <th>count</th>\n",
       "    </tr>\n",
       "  </thead>\n",
       "  <tbody>\n",
       "    <tr>\n",
       "      <th>0</th>\n",
       "      <td>0</td>\n",
       "      <td>2268</td>\n",
       "    </tr>\n",
       "    <tr>\n",
       "      <th>1</th>\n",
       "      <td>1</td>\n",
       "      <td>808</td>\n",
       "    </tr>\n",
       "    <tr>\n",
       "      <th>2</th>\n",
       "      <td>2</td>\n",
       "      <td>1958</td>\n",
       "    </tr>\n",
       "    <tr>\n",
       "      <th>3</th>\n",
       "      <td>3</td>\n",
       "      <td>9753</td>\n",
       "    </tr>\n",
       "    <tr>\n",
       "      <th>4</th>\n",
       "      <td>4</td>\n",
       "      <td>5405</td>\n",
       "    </tr>\n",
       "    <tr>\n",
       "      <th>5</th>\n",
       "      <td>5</td>\n",
       "      <td>6909</td>\n",
       "    </tr>\n",
       "    <tr>\n",
       "      <th>6</th>\n",
       "      <td>6</td>\n",
       "      <td>1597</td>\n",
       "    </tr>\n",
       "    <tr>\n",
       "      <th>7</th>\n",
       "      <td>7</td>\n",
       "      <td>4101</td>\n",
       "    </tr>\n",
       "    <tr>\n",
       "      <th>8</th>\n",
       "      <td>8</td>\n",
       "      <td>4196</td>\n",
       "    </tr>\n",
       "    <tr>\n",
       "      <th>9</th>\n",
       "      <td>9</td>\n",
       "      <td>5151</td>\n",
       "    </tr>\n",
       "  </tbody>\n",
       "</table>\n",
       "</div>"
      ],
      "text/plain": [
       "   case_num  count\n",
       "0         0   2268\n",
       "1         1    808\n",
       "2         2   1958\n",
       "3         3   9753\n",
       "4         4   5405\n",
       "5         5   6909\n",
       "6         6   1597\n",
       "7         7   4101\n",
       "8         8   4196\n",
       "9         9   5151"
      ]
     },
     "execution_count": 9,
     "metadata": {},
     "output_type": "execute_result"
    }
   ],
   "source": [
    "case_cnt"
   ]
  },
  {
   "cell_type": "markdown",
   "metadata": {},
   "source": [
    "##### graph"
   ]
  },
  {
   "cell_type": "code",
   "execution_count": 10,
   "metadata": {},
   "outputs": [
    {
     "data": {
      "image/png": "[encoded data removed]",
      "text/plain": [
       "<Figure size 800x400 with 1 Axes>"
      ]
     },
     "metadata": {},
     "output_type": "display_data"
    }
   ],
   "source": [
    "case_nums = case_cnt[\"case_num\"]\n",
    "counts = case_cnt[\"count\"]\n",
    "\n",
    "plt.figure(figsize=(8,4 ))\n",
    "bars = plt.bar(\n",
    "    case_nums, counts, color=\"#4682B4\", edgecolor=\"black\"\n",
    ")\n",
    "\n",
    "plt.xlabel(\"Case Number\", fontsize=14)\n",
    "plt.ylabel(\"Number of Notes\", fontsize=14)\n",
    "plt.title(\"Number of Notes per Case Number\", fontsize=16)\n",
    "plt.grid(axis=\"y\", linestyle=\"--\", alpha=0.7)\n",
    "plt.xticks(ha=\"right\", fontsize=12)\n",
    "\n",
    "for bar in bars:\n",
    "    height = bar.get_height()\n",
    "    plt.text(\n",
    "        bar.get_x() + bar.get_width() / 2,\n",
    "        height,\n",
    "        f\"{height}\",\n",
    "        ha=\"center\",\n",
    "        va=\"bottom\",\n",
    "        fontsize=10,\n",
    "    )\n",
    "\n",
    "plt.gca().spines[\"top\"].set_visible(False)\n",
    "plt.gca().spines[\"right\"].set_visible(False)\n",
    "\n",
    "plt.show()"
   ]
  },
  {
   "cell_type": "code",
   "execution_count": 11,
   "metadata": {},
   "outputs": [
    {
     "data": {
      "image/png": "[encoded data removed]",
      "text/plain": [
       "<Figure size 600x300 with 1 Axes>"
      ]
     },
     "metadata": {},
     "output_type": "display_data"
    }
   ],
   "source": [
    "# Assuming 'features_df' is your DataFrame containing the data\n",
    "identified_features_per_case_cnt = pd.DataFrame(\n",
    "    features_df.groupby([\"case_num\"])[\"case_num\"].count()\n",
    ")\n",
    "\n",
    "# Rename the column to something meaningful\n",
    "identified_features_per_case_cnt.columns = [\"feature_count\"]\n",
    "\n",
    "# Plotting\n",
    "identified_features_per_case_cnt.plot(\n",
    "    kind=\"line\", figsize=(6, 3), marker=\"o\", color=\"b\"\n",
    ")\n",
    "plt.xlabel(\"Case Number\")\n",
    "plt.ylabel(\"Number of Features\")\n",
    "plt.title(\"Number of Features per Case Number\")\n",
    "plt.grid(True)\n",
    "# Annotating data points\n",
    "for idx, val in identified_features_per_case_cnt.iterrows():\n",
    "    plt.annotate(\n",
    "        str(val[\"feature_count\"]),\n",
    "        xy=(idx, val[\"feature_count\"]),\n",
    "        xytext=(-10, -10),\n",
    "        textcoords=\"offset points\",\n",
    "    )\n",
    "plt.tight_layout()\n",
    "\n",
    "plt.show()"
   ]
  },
  {
   "cell_type": "code",
   "execution_count": null,
   "metadata": {},
   "outputs": [],
   "source": []
  },
  {
   "cell_type": "code",
   "execution_count": null,
   "metadata": {},
   "outputs": [],
   "source": []
  },
  {
   "cell_type": "code",
   "execution_count": null,
   "metadata": {},
   "outputs": [],
   "source": []
  },
  {
   "cell_type": "code",
   "execution_count": null,
   "metadata": {},
   "outputs": [],
   "source": []
  },
  {
   "cell_type": "code",
   "execution_count": null,
   "metadata": {},
   "outputs": [],
   "source": []
  },
  {
   "cell_type": "code",
   "execution_count": null,
   "metadata": {},
   "outputs": [],
   "source": []
  },
  {
   "cell_type": "code",
   "execution_count": null,
   "metadata": {},
   "outputs": [],
   "source": []
  },
  {
   "cell_type": "code",
   "execution_count": null,
   "metadata": {},
   "outputs": [],
   "source": []
  },
  {
   "cell_type": "code",
   "execution_count": null,
   "metadata": {},
   "outputs": [],
   "source": []
  },
  {
   "cell_type": "code",
   "execution_count": null,
   "metadata": {},
   "outputs": [],
   "source": [
    "from transformers import AutoTokenizer, AutoModel, AutoConfig"
   ]
  },
  {
   "cell_type": "code",
   "execution_count": null,
   "metadata": {},
   "outputs": [],
   "source": [
    "tokenizer = AutoTokenizer.from_pretrained(\"emilyalsentzer/Bio_ClinicalBERT\")"
   ]
  },
  {
   "cell_type": "code",
   "execution_count": null,
   "metadata": {},
   "outputs": [],
   "source": [
    "def transform_by_patient(df):\n",
    "    df_new = pd.DataFrame(df.pn_num.unique(), columns=[\"pn_num\"])\n",
    "    df[\"location_span\"] = df.location.apply(ast.literal_eval)\n",
    "\n",
    "    location_lst = []\n",
    "    notes = []\n",
    "    case = []\n",
    "    for num in df.pn_num.unique():\n",
    "        idx = df.pn_num == num\n",
    "        locations = df.loc[idx, [\"feature_num\", \"location_span\"]]\n",
    "        notes.append(df.pn_history[idx].tolist()[0])\n",
    "        case.append(df.case_num[idx].tolist()[0])\n",
    "        location_flat = {}\n",
    "        for _, feat, loc in locations.itertuples():\n",
    "            location_flat[feat] = loc\n",
    "        location_lst.append(location_flat)\n",
    "\n",
    "    df_new[\"case_num\"] = case\n",
    "    df_new[\"location_lst\"] = location_lst\n",
    "    df_new[\"pn_history\"] = notes\n",
    "    note_lens = []\n",
    "\n",
    "    for note in notes:\n",
    "        token_lst = tokenizer.tokenize(note)\n",
    "        note_len = len(token_lst)\n",
    "        note_lens.append(note_len)\n",
    "\n",
    "    df_new[\"note_lens\"] = note_lens\n",
    "    feat_lens = []\n",
    "    for location in df_new.location_lst:\n",
    "        instance_len = [feat for feat, value in location.items() if value]\n",
    "        feat_lens.append(len(instance_len))\n",
    "\n",
    "    df_new[\"feat_lens\"] = feat_lens\n",
    "\n",
    "    return df_new"
   ]
  },
  {
   "cell_type": "code",
   "execution_count": null,
   "metadata": {},
   "outputs": [],
   "source": [
    "df_patient = transform_by_patient(df)"
   ]
  },
  {
   "cell_type": "code",
   "execution_count": null,
   "metadata": {},
   "outputs": [],
   "source": [
    "note_lens = np.array(df_patient.note_lens)\n",
    "n, bins, patches = plt.hist(note_lens, bins=40, rwidth=0.8)\n",
    "plt.xlabel(\"Length of Patient Notes\", fontsize=15)\n",
    "plt.ylabel(\"Count\", fontsize=15)"
   ]
  },
  {
   "cell_type": "code",
   "execution_count": null,
   "metadata": {},
   "outputs": [],
   "source": [
    "print(f\"Max note length: {np.max(note_lens)}\")\n",
    "print(f\"Average noken length: {np.mean(note_lens)}\")\n",
    "print(f\"Median noken length: {np.median(note_lens)}\")"
   ]
  },
  {
   "cell_type": "markdown",
   "metadata": {},
   "source": [
    "## Case-Specific Summary"
   ]
  },
  {
   "cell_type": "code",
   "execution_count": null,
   "metadata": {},
   "outputs": [],
   "source": [
    "case_num = pd.DataFrame(df_patient.groupby([\"case_num\"])[\"case_num\"].count())"
   ]
  },
  {
   "cell_type": "code",
   "execution_count": null,
   "metadata": {},
   "outputs": [],
   "source": [
    "case_num[\"avg_note_lens\"] = (\n",
    "    df_patient.groupby([\"case_num\"])[\"note_lens\"].mean().tolist()\n",
    ")\n",
    "case_num[\"feature_num\"] = features_df.groupby([\"case_num\"])[\"feature_num\"].count().tolist()\n",
    "case_num[\"avg_anno\"] = df_patient.groupby([\"case_num\"])[\"feat_lens\"].mean().tolist()"
   ]
  },
  {
   "cell_type": "code",
   "execution_count": null,
   "metadata": {},
   "outputs": [],
   "source": [
    "case_num.rename(columns={\"case_num\": \"count\"}, inplace=True)\n",
    "case_num"
   ]
  },
  {
   "cell_type": "code",
   "execution_count": null,
   "metadata": {},
   "outputs": [],
   "source": []
  },
  {
   "cell_type": "code",
   "execution_count": null,
   "metadata": {},
   "outputs": [],
   "source": []
  },
  {
   "cell_type": "code",
   "execution_count": null,
   "metadata": {},
   "outputs": [],
   "source": []
  },
  {
   "cell_type": "code",
   "execution_count": null,
   "metadata": {},
   "outputs": [],
   "source": []
  },
  {
   "cell_type": "code",
   "execution_count": null,
   "metadata": {},
   "outputs": [],
   "source": []
  },
  {
   "cell_type": "code",
   "execution_count": null,
   "metadata": {},
   "outputs": [],
   "source": []
  },
  {
   "cell_type": "code",
   "execution_count": null,
   "metadata": {},
   "outputs": [],
   "source": []
  },
  {
   "cell_type": "markdown",
   "metadata": {},
   "source": [
    "\n",
    "### FEATURES"
   ]
  },
  {
   "cell_type": "markdown",
   "metadata": {},
   "source": [
    "--------\n",
    "143 rows<br>\n",
    "3 columns:  \n",
    "<ol>\n",
    " <li>feature_num : unique ID no. of each complaint/ observation, in increasing order, not continuous<br>143 unique vals</li>  \n",
    " <li>case_num : number of patients with that particular complaint/observation<br>10 unique vals</li>  \n",
    " <li>feature_text : complaint/observation - distinct<br>131 unique vals</li>\n",
    " </ol>"
   ]
  },
  {
   "cell_type": "code",
   "execution_count": null,
   "metadata": {},
   "outputs": [],
   "source": [
    "#extact data from the features.csv file into a pandas dataframe\n",
    "# features_df = pd.read_csv('../data/nbme-score-clinical-patient-notes/features.csv')\n",
    "print(features_df.head(5))\n",
    "print(features_df.columns)\n",
    "print(len(features_df))"
   ]
  },
  {
   "cell_type": "code",
   "execution_count": null,
   "metadata": {},
   "outputs": [],
   "source": [
    "#unique values in each col of features.csv\n",
    "for col in features_df.columns:\n",
    "    print(col, features_df[col].nunique())"
   ]
  },
  {
   "cell_type": "code",
   "execution_count": null,
   "metadata": {},
   "outputs": [],
   "source": []
  },
  {
   "cell_type": "code",
   "execution_count": null,
   "metadata": {},
   "outputs": [],
   "source": []
  },
  {
   "cell_type": "code",
   "execution_count": null,
   "metadata": {},
   "outputs": [],
   "source": []
  },
  {
   "cell_type": "code",
   "execution_count": null,
   "metadata": {},
   "outputs": [],
   "source": []
  },
  {
   "cell_type": "markdown",
   "metadata": {},
   "source": [
    "\n",
    "### PATIENT NOTES\n"
   ]
  },
  {
   "cell_type": "markdown",
   "metadata": {},
   "source": [
    "--------\n",
    "42146 rows<br>\n",
    "3 columns:  \n",
    "<ol>\n",
    " <li>pn_num : unique ID no. of each patient, increasing order<br>42146 unique vals\n",
    " </li>  \n",
    " <li>case_num : **idk what this represents**<br>10 unique vals</li>  \n",
    " <li>pn_history : detailed description of complaints and observations. Most patients also have details of PMH, PSHH, FH, Social History, Medications, Sexual history, POS, Family history, Allergies. A patient has either all, or some of these details filled, under either acronyms or varying subheadings.<br>42146 unique vals</li>\n",
    " </ol>"
   ]
  },
  {
   "cell_type": "code",
   "execution_count": null,
   "metadata": {},
   "outputs": [],
   "source": [
    "# notes_df = pd.read_csv('../data/nbme-score-clinical-patient-notes/patient_notes.csv')\n",
    "print(notes_df.head(5))\n",
    "print(notes_df.columns)\n",
    "print(len(notes_df))\n"
   ]
  },
  {
   "cell_type": "code",
   "execution_count": null,
   "metadata": {},
   "outputs": [],
   "source": [
    "# unique values in each col of patient_notes.csv\n",
    "for col in notes_df.columns:\n",
    "    print(col, notes_df[col].nunique())"
   ]
  },
  {
   "cell_type": "markdown",
   "metadata": {},
   "source": [
    "### SAMPLE SUBMISSION\n",
    "--------"
   ]
  },
  {
   "cell_type": "markdown",
   "metadata": {},
   "source": [
    "5 rows<br>\n",
    "2 columns:  \n",
    "<ol>\n",
    " <li>id : submission number<br>5 unique vals\n",
    " </li>  \n",
    " <li>location : **idk what this represents**<br>3 unique vals, some NaN(blank) values</li>  \n",
    "\n",
    " </ol>"
   ]
  },
  {
   "cell_type": "code",
   "execution_count": null,
   "metadata": {},
   "outputs": [],
   "source": [
    "print(samplesub_df.head(5))\n",
    "print(samplesub_df.columns)\n",
    "print(len(samplesub_df))\n",
    "for col in samplesub_df.columns:\n",
    "    print(col, samplesub_df[col].nunique())"
   ]
  },
  {
   "cell_type": "markdown",
   "metadata": {},
   "source": [
    "### Train and Test"
   ]
  },
  {
   "cell_type": "code",
   "execution_count": null,
   "metadata": {},
   "outputs": [],
   "source": [
    "train_df.head"
   ]
  },
  {
   "cell_type": "code",
   "execution_count": null,
   "metadata": {},
   "outputs": [],
   "source": [
    "train_df.columns"
   ]
  },
  {
   "cell_type": "code",
   "execution_count": null,
   "metadata": {},
   "outputs": [],
   "source": [
    "print(len(train_df))\n",
    "print(train_df.shape)"
   ]
  },
  {
   "cell_type": "code",
   "execution_count": null,
   "metadata": {},
   "outputs": [],
   "source": [
    "train_df.head(1)"
   ]
  },
  {
   "cell_type": "code",
   "execution_count": null,
   "metadata": {},
   "outputs": [],
   "source": [
    "test_df.head(5)"
   ]
  },
  {
   "cell_type": "code",
   "execution_count": null,
   "metadata": {},
   "outputs": [],
   "source": [
    "test_df.columns"
   ]
  },
  {
   "cell_type": "code",
   "execution_count": null,
   "metadata": {},
   "outputs": [],
   "source": [
    "# get patient notes for a particular patient with pn_num = 16 m case_num = 1\n",
    "print(\n",
    "    notes_df[(notes_df[\"pn_num\"] == 16) & (notes_df[\"case_num\"] == 0)][\n",
    "        \"pn_history\"\n",
    "    ].values[0]\n",
    ")"
   ]
  },
  {
   "cell_type": "code",
   "execution_count": null,
   "metadata": {},
   "outputs": [],
   "source": [
    "print(features_df[(features_df['feature_num'] == 0) & (features_df['case_num'] == 0)]['feature_text'].values[0])"
   ]
  },
  {
   "cell_type": "markdown",
   "metadata": {},
   "source": [
    "## Data Analysis"
   ]
  },
  {
   "cell_type": "code",
   "execution_count": null,
   "metadata": {},
   "outputs": [],
   "source": []
  }
 ],
 "metadata": {
  "kernelspec": {
   "display_name": "nlp",
   "language": "python",
   "name": "python3"
  },
  "language_info": {
   "codemirror_mode": {
    "name": "ipython",
    "version": 3
   },
   "file_extension": ".py",
   "mimetype": "text/x-python",
   "name": "python",
   "nbconvert_exporter": "python",
   "pygments_lexer": "ipython3",
   "version": "3.11.2"
  }
 },
 "nbformat": 4,
 "nbformat_minor": 2
}
