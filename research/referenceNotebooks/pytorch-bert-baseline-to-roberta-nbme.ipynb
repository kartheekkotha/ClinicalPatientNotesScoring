{
 "cells": [
  {
   "cell_type": "markdown",
   "id": "03655130",
   "metadata": {
    "papermill": {
     "duration": 0.030716,
     "end_time": "2022-02-25T07:26:57.331440",
     "exception": false,
     "start_time": "2022-02-25T07:26:57.300724",
     "status": "completed"
    },
    "tags": []
   },
   "source": [
    "# NBME - Score Clinical Patient Notes\n",
    "In the last notebook, I used bert base model and got accuracy like 0.83 on PB.\n",
    "Here is the [notebook link](https://www.kaggle.com/iamsdt/pytorch-bert-baseline-nbme)\n",
    "\n",
    "In this notebook, let's use RoBERTa.\n",
    "\n",
    "\n",
    "### Bert vs RoBERTa\n",
    "From RoBERTa original Paper\n",
    "> BERT relies on randomly masking and predicting tokens. The original BERT implementation performed masking\n",
    "once during data preprocessing, resulting in a single static mask. To avoid using the same mask for\n",
    "each training instance in every epoch, training data\n",
    "was duplicated 10 times so that each sequence is\n",
    "masked in 10 different ways over the 40 epochs of\n",
    "training. Thus, each training sequence was seen\n",
    "with the same mask four times during training.\n",
    "\n",
    ">We compare this strategy with dynamic masking where we generate the masking pattern every\n",
    "time we feed a sequence to the model. This becomes crucial when pretraining for more steps or\n",
    "with larger datasets. We find that our reimplementation\n",
    "with static masking performs similar to the\n",
    "original BERT model, and dynamic masking is\n",
    "comparable or slightly better than static masking.\n",
    "Given these results and the additional efficiency\n",
    "benefits of dynamic masking, we use dynamic\n",
    "masking in the remainder of the experiments\n",
    "\n",
    "Results:\n",
    "\n",
    "|  Masking   |   | SQuAD 2.0   |  MNLI-m |  SST-2 |\n",
    "|---|---|---|---|---|\n",
    "|  reference    |   | 76.3  | 84.3  | 92.8  |\n",
    "|  static |   |  78.3  |  84.3 | 92.5  |\n",
    "|  dynamic    |   | 78.7  |  84.0 |  92.9 |\n",
    "\n",
    "\n",
    "\n",
    "RoBERTa [paper Link](https://arxiv.org/abs/1907.11692)\n",
    "\n",
    "Not that much improvement, if we compared with Bert vs RoBERTa, slight improvement only"
   ]
  },
  {
   "cell_type": "markdown",
   "id": "6f06ed04",
   "metadata": {
    "papermill": {
     "duration": 0.028911,
     "end_time": "2022-02-25T07:26:57.392297",
     "exception": false,
     "start_time": "2022-02-25T07:26:57.363386",
     "status": "completed"
    },
    "tags": []
   },
   "source": [
    "- **Framework:** Pytorch\n",
    "- **Model Architecture:**\n",
    "    - RoBERTa\n",
    "    - Linear(768, 512)\n",
    "    - Linear(512, 512)\n",
    "    - Linear(512, 1)\n",
    "- **LR:** 1e-5\n",
    "- **Batch Size:** 8\n",
    "- **Epoch:** 5\n",
    "- **Dropout:** 0.2\n",
    "- **Criterion:** BCEWithLogitsLoss\n",
    "- **Optimizer:** AdamW\n",
    "\n",
    "# Tokenizer params\n",
    "- **Max Lenght:** 416\n",
    "- **Padding:** max_lenght\n",
    "- **Truncation:** only_scond"
   ]
  },
  {
   "cell_type": "code",
   "execution_count": 1,
   "id": "3b22c990",
   "metadata": {
    "execution": {
     "iopub.execute_input": "2022-02-25T07:26:57.533069Z",
     "iopub.status.busy": "2022-02-25T07:26:57.525706Z",
     "iopub.status.idle": "2022-02-25T07:27:05.768780Z",
     "shell.execute_reply": "2022-02-25T07:27:05.768090Z",
     "shell.execute_reply.started": "2022-02-24T17:04:05.988476Z"
    },
    "papermill": {
     "duration": 8.327026,
     "end_time": "2022-02-25T07:27:05.769061",
     "exception": false,
     "start_time": "2022-02-25T07:26:57.442035",
     "status": "completed"
    },
    "tags": []
   },
   "outputs": [],
   "source": [
    "from ast import literal_eval\n",
    "from itertools import chain\n",
    "\n",
    "import numpy as np\n",
    "import pandas as pd\n",
    "import torch\n",
    "import torch.nn as nn\n",
    "from sklearn.metrics import precision_recall_fscore_support\n",
    "from sklearn.model_selection import train_test_split\n",
    "from torch import optim\n",
    "from torch.utils.data import DataLoader\n",
    "from torch.utils.data import Dataset\n",
    "from tqdm.notebook import tqdm\n",
    "from transformers import AutoModel, AutoTokenizer, RobertaTokenizerFast, RobertaModel"
   ]
  },
  {
   "cell_type": "markdown",
   "id": "0e2bb96c",
   "metadata": {
    "papermill": {
     "duration": 0.027827,
     "end_time": "2022-02-25T07:27:05.825652",
     "exception": false,
     "start_time": "2022-02-25T07:27:05.797825",
     "status": "completed"
    },
    "tags": []
   },
   "source": [
    "# Helper Functions\n",
    "### 1. Datasets Helper Function\n",
    "need to merge `features.csv`, `patient_notes.csv` with `train.csv`"
   ]
  },
  {
   "cell_type": "code",
   "execution_count": 2,
   "id": "e47ca590",
   "metadata": {
    "execution": {
     "iopub.execute_input": "2022-02-25T07:27:05.893149Z",
     "iopub.status.busy": "2022-02-25T07:27:05.892221Z",
     "iopub.status.idle": "2022-02-25T07:27:05.895250Z",
     "shell.execute_reply": "2022-02-25T07:27:05.895828Z",
     "shell.execute_reply.started": "2022-02-24T17:04:13.714224Z"
    },
    "papermill": {
     "duration": 0.041675,
     "end_time": "2022-02-25T07:27:05.895989",
     "exception": false,
     "start_time": "2022-02-25T07:27:05.854314",
     "status": "completed"
    },
    "tags": []
   },
   "outputs": [],
   "source": [
    "BASE_URL = \"../input/nbme-score-clinical-patient-notes\"\n",
    "\n",
    "\n",
    "def process_feature_text(text):\n",
    "    return text.replace(\"-OR-\", \";-\").replace(\"-\", \" \")\n",
    "\n",
    "\n",
    "def prepare_datasets():\n",
    "    features = pd.read_csv(f\"{BASE_URL}/features.csv\")\n",
    "    notes = pd.read_csv(f\"{BASE_URL}/patient_notes.csv\")\n",
    "    df = pd.read_csv(f\"{BASE_URL}/train.csv\")\n",
    "    df[\"annotation_list\"] = [literal_eval(x) for x in df[\"annotation\"]]\n",
    "    df[\"location_list\"] = [literal_eval(x) for x in df[\"location\"]]\n",
    "\n",
    "    merged = df.merge(notes, how=\"left\")\n",
    "    merged = merged.merge(features, how=\"left\")\n",
    "\n",
    "    merged[\"feature_text\"] = [process_feature_text(x) for x in merged[\"feature_text\"]]\n",
    "    merged[\"feature_text\"] = merged[\"feature_text\"].apply(lambda x: x.lower())\n",
    "    merged[\"pn_history\"] = merged[\"pn_history\"].apply(lambda x: x.lower())\n",
    "\n",
    "    return merged"
   ]
  },
  {
   "cell_type": "markdown",
   "id": "cb1415d7",
   "metadata": {
    "papermill": {
     "duration": 0.027591,
     "end_time": "2022-02-25T07:27:05.951237",
     "exception": false,
     "start_time": "2022-02-25T07:27:05.923646",
     "status": "completed"
    },
    "tags": []
   },
   "source": [
    "### 2. Tokenizer Helper Function"
   ]
  },
  {
   "cell_type": "code",
   "execution_count": 3,
   "id": "1498fee8",
   "metadata": {
    "execution": {
     "iopub.execute_input": "2022-02-25T07:27:06.021159Z",
     "iopub.status.busy": "2022-02-25T07:27:06.018917Z",
     "iopub.status.idle": "2022-02-25T07:27:06.021937Z",
     "shell.execute_reply": "2022-02-25T07:27:06.022451Z",
     "shell.execute_reply.started": "2022-02-24T17:04:19.673149Z"
    },
    "papermill": {
     "duration": 0.042365,
     "end_time": "2022-02-25T07:27:06.022615",
     "exception": false,
     "start_time": "2022-02-25T07:27:05.980250",
     "status": "completed"
    },
    "tags": []
   },
   "outputs": [],
   "source": [
    "def loc_list_to_ints(loc_list):\n",
    "    to_return = []\n",
    "    for loc_str in loc_list:\n",
    "        loc_strs = loc_str.split(\";\")\n",
    "        for loc in loc_strs:\n",
    "            start, end = loc.split()\n",
    "            to_return.append((int(start), int(end)))\n",
    "    return to_return\n",
    "\n",
    "\n",
    "def tokenize_and_add_labels(tokenizer, data, config):\n",
    "    out = tokenizer(\n",
    "        data[\"feature_text\"],\n",
    "        data[\"pn_history\"],\n",
    "        truncation=config['truncation'],\n",
    "        max_length=config['max_length'],\n",
    "        padding=config['padding'],\n",
    "        return_offsets_mapping=config['return_offsets_mapping']\n",
    "    )\n",
    "    labels = [0.0] * len(out[\"input_ids\"])\n",
    "    out[\"location_int\"] = loc_list_to_ints(data[\"location_list\"])\n",
    "    out[\"sequence_ids\"] = out.sequence_ids()\n",
    "\n",
    "    for idx, (seq_id, offsets) in enumerate(zip(out[\"sequence_ids\"], out[\"offset_mapping\"])):\n",
    "        if not seq_id or seq_id == 0:\n",
    "            labels[idx] = -1\n",
    "            continue\n",
    "\n",
    "        token_start, token_end = offsets\n",
    "        for feature_start, feature_end in out[\"location_int\"]:\n",
    "            if token_start >= feature_start and token_end <= feature_end:\n",
    "                labels[idx] = 1.0\n",
    "                break\n",
    "\n",
    "    out[\"labels\"] = labels\n",
    "\n",
    "    return out"
   ]
  },
  {
   "cell_type": "markdown",
   "id": "c6ad0624",
   "metadata": {
    "papermill": {
     "duration": 0.028688,
     "end_time": "2022-02-25T07:27:06.078902",
     "exception": false,
     "start_time": "2022-02-25T07:27:06.050214",
     "status": "completed"
    },
    "tags": []
   },
   "source": [
    "### 3. Predection and Score Helper Function"
   ]
  },
  {
   "cell_type": "code",
   "execution_count": 4,
   "id": "1e89bce6",
   "metadata": {
    "execution": {
     "iopub.execute_input": "2022-02-25T07:27:06.150692Z",
     "iopub.status.busy": "2022-02-25T07:27:06.147651Z",
     "iopub.status.idle": "2022-02-25T07:27:06.153724Z",
     "shell.execute_reply": "2022-02-25T07:27:06.153194Z",
     "shell.execute_reply.started": "2022-02-24T17:04:22.347399Z"
    },
    "papermill": {
     "duration": 0.047391,
     "end_time": "2022-02-25T07:27:06.153978",
     "exception": false,
     "start_time": "2022-02-25T07:27:06.106587",
     "status": "completed"
    },
    "tags": []
   },
   "outputs": [],
   "source": [
    "from sklearn.metrics import accuracy_score\n",
    "\n",
    "def get_location_predictions(preds, offset_mapping, sequence_ids, test=False):\n",
    "    all_predictions = []\n",
    "    for pred, offsets, seq_ids in zip(preds, offset_mapping, sequence_ids):\n",
    "        pred = 1 / (1 + np.exp(-pred))\n",
    "        start_idx = None\n",
    "        end_idx = None\n",
    "        current_preds = []\n",
    "        for pred, offset, seq_id in zip(pred, offsets, seq_ids):\n",
    "            if seq_id is None or seq_id == 0:\n",
    "                continue\n",
    "\n",
    "            if pred > 0.5:\n",
    "                if start_idx is None:\n",
    "                    start_idx = offset[0]\n",
    "                end_idx = offset[1]\n",
    "            elif start_idx is not None:\n",
    "                if test:\n",
    "                    current_preds.append(f\"{start_idx} {end_idx}\")\n",
    "                else:\n",
    "                    current_preds.append((start_idx, end_idx))\n",
    "                start_idx = None\n",
    "        if test:\n",
    "            all_predictions.append(\"; \".join(current_preds))\n",
    "        else:\n",
    "            all_predictions.append(current_preds)\n",
    "            \n",
    "    return all_predictions\n",
    "\n",
    "\n",
    "def calculate_char_cv(predictions, offset_mapping, sequence_ids, labels):\n",
    "    all_labels = []\n",
    "    all_preds = []\n",
    "    for preds, offsets, seq_ids, labels in zip(predictions, offset_mapping, sequence_ids, labels):\n",
    "\n",
    "        num_chars = max(list(chain(*offsets)))\n",
    "        char_labels = np.zeros(num_chars)\n",
    "\n",
    "        for o, s_id, label in zip(offsets, seq_ids, labels):\n",
    "            if s_id is None or s_id == 0:\n",
    "                continue\n",
    "            if int(label) == 1:\n",
    "                char_labels[o[0]:o[1]] = 1\n",
    "\n",
    "        char_preds = np.zeros(num_chars)\n",
    "\n",
    "        for start_idx, end_idx in preds:\n",
    "            char_preds[start_idx:end_idx] = 1\n",
    "\n",
    "        all_labels.extend(char_labels)\n",
    "        all_preds.extend(char_preds)\n",
    "\n",
    "    results = precision_recall_fscore_support(all_labels, all_preds, average=\"binary\", labels=np.unique(all_preds))\n",
    "    accuracy = accuracy_score(all_labels, all_preds)\n",
    "    \n",
    "\n",
    "    return {\n",
    "        \"Accuracy\": accuracy,\n",
    "        \"precision\": results[0],\n",
    "        \"recall\": results[1],\n",
    "        \"f1\": results[2]\n",
    "    }"
   ]
  },
  {
   "cell_type": "markdown",
   "id": "725574fd",
   "metadata": {
    "papermill": {
     "duration": 0.029778,
     "end_time": "2022-02-25T07:27:06.211822",
     "exception": false,
     "start_time": "2022-02-25T07:27:06.182044",
     "status": "completed"
    },
    "tags": []
   },
   "source": [
    "# Dataset"
   ]
  },
  {
   "cell_type": "code",
   "execution_count": 5,
   "id": "6f671d7e",
   "metadata": {
    "execution": {
     "iopub.execute_input": "2022-02-25T07:27:06.280600Z",
     "iopub.status.busy": "2022-02-25T07:27:06.279361Z",
     "iopub.status.idle": "2022-02-25T07:27:06.281660Z",
     "shell.execute_reply": "2022-02-25T07:27:06.282271Z",
     "shell.execute_reply.started": "2022-02-24T17:06:53.621702Z"
    },
    "papermill": {
     "duration": 0.041546,
     "end_time": "2022-02-25T07:27:06.282431",
     "exception": false,
     "start_time": "2022-02-25T07:27:06.240885",
     "status": "completed"
    },
    "tags": []
   },
   "outputs": [],
   "source": [
    "class CustomDataset(Dataset):\n",
    "    def __init__(self, data, tokenizer, config):\n",
    "        self.data = data\n",
    "        self.tokenizer = tokenizer\n",
    "        self.config = config\n",
    "\n",
    "    def __len__(self):\n",
    "        return len(self.data)\n",
    "\n",
    "    def __getitem__(self, idx):\n",
    "        data = self.data.iloc[idx]\n",
    "        tokens = tokenize_and_add_labels(self.tokenizer, data, self.config)\n",
    "\n",
    "        input_ids = np.array(tokens[\"input_ids\"])\n",
    "        attention_mask = np.array(tokens[\"attention_mask\"])\n",
    "#         token_type_ids = __getitem__np.array(tokens[\"token_type_ids\"])\n",
    "\n",
    "        labels = np.array(tokens[\"labels\"])\n",
    "        offset_mapping = np.array(tokens['offset_mapping'])\n",
    "        sequence_ids = np.array(tokens['sequence_ids']).astype(\"float16\")\n",
    "        \n",
    "        return input_ids, attention_mask, labels, offset_mapping, sequence_ids"
   ]
  },
  {
   "cell_type": "markdown",
   "id": "322508ab",
   "metadata": {
    "papermill": {
     "duration": 0.028353,
     "end_time": "2022-02-25T07:27:06.339462",
     "exception": false,
     "start_time": "2022-02-25T07:27:06.311109",
     "status": "completed"
    },
    "tags": []
   },
   "source": [
    "# Model\n",
    "- Lets use **BERT** base Architecture\n",
    "- Also Used 3 FC layers\n",
    "\n",
    "**Comments:** 3 layers improve accuracy 2% on public score"
   ]
  },
  {
   "cell_type": "code",
   "execution_count": 6,
   "id": "b2e800b1",
   "metadata": {
    "execution": {
     "iopub.execute_input": "2022-02-25T07:27:06.405496Z",
     "iopub.status.busy": "2022-02-25T07:27:06.400044Z",
     "iopub.status.idle": "2022-02-25T07:27:06.408520Z",
     "shell.execute_reply": "2022-02-25T07:27:06.407999Z",
     "shell.execute_reply.started": "2022-02-24T17:07:59.903458Z"
    },
    "papermill": {
     "duration": 0.040551,
     "end_time": "2022-02-25T07:27:06.408667",
     "exception": false,
     "start_time": "2022-02-25T07:27:06.368116",
     "status": "completed"
    },
    "tags": []
   },
   "outputs": [],
   "source": [
    "class CustomModel(nn.Module):\n",
    "    def __init__(self, config):\n",
    "        super().__init__()\n",
    "        self.bert = RobertaModel.from_pretrained(config['model_name'])  # BERT model\n",
    "        self.dropout = nn.Dropout(p=config['dropout'])\n",
    "        self.config = config\n",
    "        self.fc1 = nn.Linear(768, 512)\n",
    "        self.fc2 = nn.Linear(512, 512)\n",
    "        self.fc3 = nn.Linear(512, 1)\n",
    "\n",
    "    def forward(self, input_ids, attention_mask):\n",
    "        outputs = self.bert(input_ids=input_ids, attention_mask=attention_mask)\n",
    "        logits = self.fc1(outputs[0])\n",
    "        logits = self.fc2(self.dropout(logits))\n",
    "        logits = self.fc3(self.dropout(logits)).squeeze(-1)\n",
    "        return logits"
   ]
  },
  {
   "cell_type": "markdown",
   "id": "118652fd",
   "metadata": {
    "papermill": {
     "duration": 0.028408,
     "end_time": "2022-02-25T07:27:06.465895",
     "exception": false,
     "start_time": "2022-02-25T07:27:06.437487",
     "status": "completed"
    },
    "tags": []
   },
   "source": [
    "## Hyperparameters\n"
   ]
  },
  {
   "cell_type": "code",
   "execution_count": 7,
   "id": "5df4948d",
   "metadata": {
    "execution": {
     "iopub.execute_input": "2022-02-25T07:27:06.528276Z",
     "iopub.status.busy": "2022-02-25T07:27:06.527168Z",
     "iopub.status.idle": "2022-02-25T07:27:06.530557Z",
     "shell.execute_reply": "2022-02-25T07:27:06.529998Z",
     "shell.execute_reply.started": "2022-02-24T17:07:00.452275Z"
    },
    "papermill": {
     "duration": 0.036821,
     "end_time": "2022-02-25T07:27:06.530687",
     "exception": false,
     "start_time": "2022-02-25T07:27:06.493866",
     "status": "completed"
    },
    "tags": []
   },
   "outputs": [],
   "source": [
    "hyperparameters = {\n",
    "    \"max_length\": 416,\n",
    "    \"padding\": \"max_length\",\n",
    "    \"return_offsets_mapping\": True,\n",
    "    \"truncation\": \"only_second\",\n",
    "    \"model_name\": \"../input/huggingface-roberta-variants/roberta-base/roberta-base\",\n",
    "    \"dropout\": 0.2,\n",
    "    \"lr\": 1e-5,\n",
    "    \"test_size\": 0.2,\n",
    "    \"seed\": 1268,\n",
    "    \"batch_size\": 8\n",
    "}"
   ]
  },
  {
   "cell_type": "markdown",
   "id": "d68daaea",
   "metadata": {
    "papermill": {
     "duration": 0.027654,
     "end_time": "2022-02-25T07:27:06.585961",
     "exception": false,
     "start_time": "2022-02-25T07:27:06.558307",
     "status": "completed"
    },
    "tags": []
   },
   "source": [
    "# Prepare Datasets\n",
    "Train and Test split: 20%\n",
    "\n",
    "Total Data:\n",
    "- Train: 11440\n",
    "- Test: 2860"
   ]
  },
  {
   "cell_type": "code",
   "execution_count": 8,
   "id": "d05ca817",
   "metadata": {
    "execution": {
     "iopub.execute_input": "2022-02-25T07:27:06.648004Z",
     "iopub.status.busy": "2022-02-25T07:27:06.647181Z",
     "iopub.status.idle": "2022-02-25T07:27:07.853745Z",
     "shell.execute_reply": "2022-02-25T07:27:07.853226Z",
     "shell.execute_reply.started": "2022-02-24T17:07:03.218068Z"
    },
    "papermill": {
     "duration": 1.240443,
     "end_time": "2022-02-25T07:27:07.853940",
     "exception": false,
     "start_time": "2022-02-25T07:27:06.613497",
     "status": "completed"
    },
    "tags": []
   },
   "outputs": [
    {
     "name": "stdout",
     "output_type": "stream",
     "text": [
      "Train size 11440\n",
      "Test Size 2860\n"
     ]
    }
   ],
   "source": [
    "train_df = prepare_datasets()\n",
    "\n",
    "# train_df = train_df[: int(train_df.shape[0] * 0.5)]\n",
    "\n",
    "X_train, X_test = train_test_split(train_df, test_size=hyperparameters['test_size'],\n",
    "                                   random_state=hyperparameters['seed'])\n",
    "\n",
    "\n",
    "print(\"Train size\", len(X_train))\n",
    "print(\"Test Size\", len(X_test))"
   ]
  },
  {
   "cell_type": "code",
   "execution_count": 9,
   "id": "b9af9d66",
   "metadata": {
    "execution": {
     "iopub.execute_input": "2022-02-25T07:27:07.920595Z",
     "iopub.status.busy": "2022-02-25T07:27:07.919806Z",
     "iopub.status.idle": "2022-02-25T07:27:08.065274Z",
     "shell.execute_reply": "2022-02-25T07:27:08.064613Z",
     "shell.execute_reply.started": "2022-02-24T17:07:05.407624Z"
    },
    "papermill": {
     "duration": 0.181696,
     "end_time": "2022-02-25T07:27:08.065420",
     "exception": false,
     "start_time": "2022-02-25T07:27:07.883724",
     "status": "completed"
    },
    "tags": []
   },
   "outputs": [],
   "source": [
    "tokenizer = RobertaTokenizerFast.from_pretrained(hyperparameters['model_name'])\n",
    "\n",
    "training_data = CustomDataset(X_train, tokenizer, hyperparameters)\n",
    "train_dataloader = DataLoader(training_data, batch_size=hyperparameters['batch_size'], shuffle=True)\n",
    "\n",
    "test_data = CustomDataset(X_test, tokenizer, hyperparameters)\n",
    "test_dataloader = DataLoader(test_data, batch_size=hyperparameters['batch_size'], shuffle=False)"
   ]
  },
  {
   "cell_type": "markdown",
   "id": "5d2d1e50",
   "metadata": {
    "papermill": {
     "duration": 0.027674,
     "end_time": "2022-02-25T07:27:08.121940",
     "exception": false,
     "start_time": "2022-02-25T07:27:08.094266",
     "status": "completed"
    },
    "tags": []
   },
   "source": [
    "# Train\n",
    "Lets train the model\n",
    "with BCEWithLogitsLoss and AdamW as optimizer\n",
    "\n",
    "**Notes:** on BCEWithLogitsLoss, the default value for reduction is `mean` (the sum of the output will be divided by the number of elements in the output). If we use this default value, it will produce negative loss. Because we have some negative labels. To fix this negative loss issue, we can use `none` as parameter. To calculate the mean, first, we have to filter out the negative values. [DOC](https://pytorch.org/docs/stable/generated/torch.nn.BCEWithLogitsLoss.html)"
   ]
  },
  {
   "cell_type": "code",
   "execution_count": 10,
   "id": "949acaaa",
   "metadata": {
    "execution": {
     "iopub.execute_input": "2022-02-25T07:27:08.182445Z",
     "iopub.status.busy": "2022-02-25T07:27:08.181339Z",
     "iopub.status.idle": "2022-02-25T07:27:19.600297Z",
     "shell.execute_reply": "2022-02-25T07:27:19.600990Z",
     "shell.execute_reply.started": "2022-02-24T17:08:05.297197Z"
    },
    "papermill": {
     "duration": 11.451059,
     "end_time": "2022-02-25T07:27:19.601245",
     "exception": false,
     "start_time": "2022-02-25T07:27:08.150186",
     "status": "completed"
    },
    "tags": []
   },
   "outputs": [
    {
     "name": "stderr",
     "output_type": "stream",
     "text": [
      "Some weights of the model checkpoint at ../input/huggingface-roberta-variants/roberta-base/roberta-base were not used when initializing RobertaModel: ['lm_head.bias', 'lm_head.layer_norm.bias', 'lm_head.dense.weight', 'lm_head.layer_norm.weight', 'lm_head.decoder.weight', 'lm_head.dense.bias']\n",
      "- This IS expected if you are initializing RobertaModel from the checkpoint of a model trained on another task or with another architecture (e.g. initializing a BertForSequenceClassification model from a BertForPreTraining model).\n",
      "- This IS NOT expected if you are initializing RobertaModel from the checkpoint of a model that you expect to be exactly identical (initializing a BertForSequenceClassification model from a BertForSequenceClassification model).\n"
     ]
    }
   ],
   "source": [
    "DEVICE = \"cuda\" if torch.cuda.is_available() else \"cpu\"\n",
    "\n",
    "model = CustomModel(hyperparameters).to(DEVICE)\n",
    "\n",
    "criterion = torch.nn.BCEWithLogitsLoss(reduction = \"none\")\n",
    "optimizer = optim.AdamW(model.parameters(), lr=hyperparameters['lr'])"
   ]
  },
  {
   "cell_type": "code",
   "execution_count": 11,
   "id": "02f879a4",
   "metadata": {
    "execution": {
     "iopub.execute_input": "2022-02-25T07:27:19.715798Z",
     "iopub.status.busy": "2022-02-25T07:27:19.714496Z",
     "iopub.status.idle": "2022-02-25T07:27:19.717361Z",
     "shell.execute_reply": "2022-02-25T07:27:19.718036Z",
     "shell.execute_reply.started": "2022-02-24T17:08:08.366575Z"
    },
    "papermill": {
     "duration": 0.065145,
     "end_time": "2022-02-25T07:27:19.718282",
     "exception": false,
     "start_time": "2022-02-25T07:27:19.653137",
     "status": "completed"
    },
    "tags": []
   },
   "outputs": [],
   "source": [
    "def train_model(model, dataloader, optimizer, criterion):\n",
    "        model.train()\n",
    "        train_loss = []\n",
    "\n",
    "        for batch in tqdm(dataloader):\n",
    "            optimizer.zero_grad()\n",
    "            input_ids = batch[0].to(DEVICE)\n",
    "            attention_mask = batch[1].to(DEVICE)\n",
    "#             token_type_ids = batch[2].to(DEVICE)\n",
    "            labels = batch[2].to(DEVICE)\n",
    "\n",
    "            logits = model(input_ids, attention_mask)\n",
    "            loss = criterion(logits, labels)\n",
    "            # since, we have\n",
    "            loss = torch.masked_select(loss, labels > -1.0).mean()\n",
    "            train_loss.append(loss.item() * input_ids.size(0))\n",
    "            loss.backward()\n",
    "            # clip the the gradients to 1.0. It helps in preventing the exploding gradient problem\n",
    "            # it's also improve f1 accuracy slightly\n",
    "            nn.utils.clip_grad_norm_(model.parameters(), 1.0)\n",
    "            optimizer.step()\n",
    "\n",
    "        return sum(train_loss)/len(train_loss)"
   ]
  },
  {
   "cell_type": "code",
   "execution_count": 12,
   "id": "093d97eb",
   "metadata": {
    "execution": {
     "iopub.execute_input": "2022-02-25T07:27:19.861372Z",
     "iopub.status.busy": "2022-02-25T07:27:19.860235Z",
     "iopub.status.idle": "2022-02-25T07:27:19.872678Z",
     "shell.execute_reply": "2022-02-25T07:27:19.873497Z",
     "shell.execute_reply.started": "2022-02-24T17:08:10.56329Z"
    },
    "papermill": {
     "duration": 0.108535,
     "end_time": "2022-02-25T07:27:19.873702",
     "exception": false,
     "start_time": "2022-02-25T07:27:19.765167",
     "status": "completed"
    },
    "tags": []
   },
   "outputs": [],
   "source": [
    "def eval_model(model, dataloader, criterion):\n",
    "        model.eval()\n",
    "        valid_loss = []\n",
    "        preds = []\n",
    "        offsets = []\n",
    "        seq_ids = []\n",
    "        valid_labels = []\n",
    "\n",
    "        for batch in tqdm(dataloader):\n",
    "            input_ids = batch[0].to(DEVICE)\n",
    "            attention_mask = batch[1].to(DEVICE)\n",
    "#             token_type_ids = batch[2].to(DEVICE)\n",
    "            labels = batch[2].to(DEVICE)\n",
    "            offset_mapping = batch[3]\n",
    "            sequence_ids = batch[4]\n",
    "\n",
    "            logits = model(input_ids, attention_mask)\n",
    "            loss = criterion(logits, labels)\n",
    "            loss = torch.masked_select(loss, labels > -1.0).mean()\n",
    "            valid_loss.append(loss.item() * input_ids.size(0))\n",
    "\n",
    "            preds.append(logits.detach().cpu().numpy())\n",
    "            offsets.append(offset_mapping.numpy())\n",
    "            seq_ids.append(sequence_ids.numpy())\n",
    "            valid_labels.append(labels.detach().cpu().numpy())\n",
    "\n",
    "        preds = np.concatenate(preds, axis=0)\n",
    "        offsets = np.concatenate(offsets, axis=0)\n",
    "        seq_ids = np.concatenate(seq_ids, axis=0)\n",
    "        valid_labels = np.concatenate(valid_labels, axis=0)\n",
    "        location_preds = get_location_predictions(preds, offsets, seq_ids, test=False)\n",
    "        score = calculate_char_cv(location_preds, offsets, seq_ids, valid_labels)\n",
    "\n",
    "        return sum(valid_loss)/len(valid_loss), score"
   ]
  },
  {
   "cell_type": "code",
   "execution_count": 13,
   "id": "c29fa8ed",
   "metadata": {
    "execution": {
     "iopub.execute_input": "2022-02-25T07:27:19.978599Z",
     "iopub.status.busy": "2022-02-25T07:27:19.977461Z",
     "iopub.status.idle": "2022-02-25T07:27:19.980316Z",
     "shell.execute_reply": "2022-02-25T07:27:19.979491Z",
     "shell.execute_reply.started": "2022-02-24T17:08:12.594149Z"
    },
    "papermill": {
     "duration": 0.057829,
     "end_time": "2022-02-25T07:27:19.980506",
     "exception": false,
     "start_time": "2022-02-25T07:27:19.922677",
     "status": "completed"
    },
    "tags": []
   },
   "outputs": [],
   "source": [
    "import time\n",
    "\n",
    "train_loss_data, valid_loss_data = [], []\n",
    "score_data_list = []\n",
    "valid_loss_min = np.Inf\n",
    "since = time.time()\n",
    "epochs = 3"
   ]
  },
  {
   "cell_type": "code",
   "execution_count": 14,
   "id": "dcc99421",
   "metadata": {
    "execution": {
     "iopub.execute_input": "2022-02-25T07:27:20.093416Z",
     "iopub.status.busy": "2022-02-25T07:27:20.092034Z",
     "iopub.status.idle": "2022-02-25T08:00:28.435545Z",
     "shell.execute_reply": "2022-02-25T08:00:28.436151Z",
     "shell.execute_reply.started": "2022-02-24T17:08:14.302599Z"
    },
    "papermill": {
     "duration": 1988.407467,
     "end_time": "2022-02-25T08:00:28.436346",
     "exception": false,
     "start_time": "2022-02-25T07:27:20.028879",
     "status": "completed"
    },
    "tags": []
   },
   "outputs": [
    {
     "name": "stdout",
     "output_type": "stream",
     "text": [
      "Epoch: 1/3\n"
     ]
    },
    {
     "data": {
      "application/vnd.jupyter.widget-view+json": {
       "model_id": "64e2b4fdda8d45279221113e16d1270f",
       "version_major": 2,
       "version_minor": 0
      },
      "text/plain": [
       "  0%|          | 0/1430 [00:00<?, ?it/s]"
      ]
     },
     "metadata": {},
     "output_type": "display_data"
    },
    {
     "name": "stdout",
     "output_type": "stream",
     "text": [
      "Train loss: 0.31856258368576557\n"
     ]
    },
    {
     "data": {
      "application/vnd.jupyter.widget-view+json": {
       "model_id": "20ecb899a14e454683f0e85d82d4356c",
       "version_major": 2,
       "version_minor": 0
      },
      "text/plain": [
       "  0%|          | 0/358 [00:00<?, ?it/s]"
      ]
     },
     "metadata": {},
     "output_type": "display_data"
    },
    {
     "name": "stdout",
     "output_type": "stream",
     "text": [
      "Valid loss: 0.13456827887986766\n",
      "Valid score: {'Accuracy': 0.992769353442345, 'precision': 0.8027290181020296, 'recall': 0.6770770076053324, 'f1': 0.7345683853864374}\n",
      "Epoch: 2/3\n"
     ]
    },
    {
     "data": {
      "application/vnd.jupyter.widget-view+json": {
       "model_id": "26234d8f8d85458a9277c4376bdf121b",
       "version_major": 2,
       "version_minor": 0
      },
      "text/plain": [
       "  0%|          | 0/1430 [00:00<?, ?it/s]"
      ]
     },
     "metadata": {},
     "output_type": "display_data"
    },
    {
     "name": "stdout",
     "output_type": "stream",
     "text": [
      "Train loss: 0.11553747134466871\n"
     ]
    },
    {
     "data": {
      "application/vnd.jupyter.widget-view+json": {
       "model_id": "5cf7320b09d54cbc9ef0d2bc0ec1d45e",
       "version_major": 2,
       "version_minor": 0
      },
      "text/plain": [
       "  0%|          | 0/358 [00:00<?, ?it/s]"
      ]
     },
     "metadata": {},
     "output_type": "display_data"
    },
    {
     "name": "stdout",
     "output_type": "stream",
     "text": [
      "Valid loss: 0.10811723652985188\n",
      "Valid score: {'Accuracy': 0.9938141457615617, 'precision': 0.7735299719735518, 'recall': 0.8220699227899714, 'f1': 0.7970616273201369}\n",
      "Epoch: 3/3\n"
     ]
    },
    {
     "data": {
      "application/vnd.jupyter.widget-view+json": {
       "model_id": "6156ad4575c34b01aa0e01b1e18ba12a",
       "version_major": 2,
       "version_minor": 0
      },
      "text/plain": [
       "  0%|          | 0/1430 [00:00<?, ?it/s]"
      ]
     },
     "metadata": {},
     "output_type": "display_data"
    },
    {
     "name": "stdout",
     "output_type": "stream",
     "text": [
      "Train loss: 0.08322859278637305\n"
     ]
    },
    {
     "data": {
      "application/vnd.jupyter.widget-view+json": {
       "model_id": "7bcf9d09182e4cb2a9dedf2fa819356a",
       "version_major": 2,
       "version_minor": 0
      },
      "text/plain": [
       "  0%|          | 0/358 [00:00<?, ?it/s]"
      ]
     },
     "metadata": {},
     "output_type": "display_data"
    },
    {
     "name": "stdout",
     "output_type": "stream",
     "text": [
      "Valid loss: 0.11577702006114562\n",
      "Valid score: {'Accuracy': 0.9942290714637947, 'precision': 0.8052369366237979, 'recall': 0.8039096613747434, 'f1': 0.804572751609869}\n",
      "Training completed in 33m 8s\n"
     ]
    }
   ],
   "source": [
    "best_loss = np.inf\n",
    "\n",
    "for i in range(epochs):\n",
    "    print(\"Epoch: {}/{}\".format(i + 1, epochs))\n",
    "    # first train model\n",
    "    train_loss = train_model(model, train_dataloader, optimizer, criterion)\n",
    "    train_loss_data.append(train_loss)\n",
    "    print(f\"Train loss: {train_loss}\")\n",
    "    # evaluate model\n",
    "    valid_loss, score = eval_model(model, test_dataloader, criterion)\n",
    "    valid_loss_data.append(valid_loss)\n",
    "    score_data_list.append(score)\n",
    "    print(f\"Valid loss: {valid_loss}\")\n",
    "    print(f\"Valid score: {score}\")\n",
    "    \n",
    "    if valid_loss < best_loss:\n",
    "        best_loss = valid_loss\n",
    "        torch.save(model.state_dict(), \"nbme_bert_v2.pth\")\n",
    "\n",
    "    \n",
    "time_elapsed = time.time() - since\n",
    "print('Training completed in {:.0f}m {:.0f}s'.format(\n",
    "    time_elapsed // 60, time_elapsed % 60))"
   ]
  },
  {
   "cell_type": "markdown",
   "id": "39678a0f",
   "metadata": {
    "papermill": {
     "duration": 0.035187,
     "end_time": "2022-02-25T08:00:28.507168",
     "exception": false,
     "start_time": "2022-02-25T08:00:28.471981",
     "status": "completed"
    },
    "tags": []
   },
   "source": []
  },
  {
   "cell_type": "code",
   "execution_count": 15,
   "id": "f9d5341b",
   "metadata": {
    "execution": {
     "iopub.execute_input": "2022-02-25T08:00:28.588770Z",
     "iopub.status.busy": "2022-02-25T08:00:28.587645Z",
     "iopub.status.idle": "2022-02-25T08:00:28.878967Z",
     "shell.execute_reply": "2022-02-25T08:00:28.878289Z",
     "shell.execute_reply.started": "2022-02-24T17:24:27.438092Z"
    },
    "papermill": {
     "duration": 0.336868,
     "end_time": "2022-02-25T08:00:28.879139",
     "exception": false,
     "start_time": "2022-02-25T08:00:28.542271",
     "status": "completed"
    },
    "tags": []
   },
   "outputs": [
    {
     "data": {
      "text/plain": [
       "<matplotlib.legend.Legend at 0x7f04c09428d0>"
      ]
     },
     "execution_count": 15,
     "metadata": {},
     "output_type": "execute_result"
    },
    {
     "data": {
      "image/png": "[encoded data removed]",
      "text/plain": [
       "<Figure size 432x288 with 1 Axes>"
      ]
     },
     "metadata": {
      "needs_background": "light"
     },
     "output_type": "display_data"
    }
   ],
   "source": [
    "from matplotlib import pyplot as plt\n",
    "\n",
    "plt.plot(train_loss_data, label=\"Training loss\")\n",
    "plt.plot(valid_loss_data, label=\"validation loss\")\n",
    "plt.legend(frameon=False)"
   ]
  },
  {
   "cell_type": "code",
   "execution_count": 16,
   "id": "a20861c0",
   "metadata": {
    "execution": {
     "iopub.execute_input": "2022-02-25T08:00:28.960012Z",
     "iopub.status.busy": "2022-02-25T08:00:28.959063Z",
     "iopub.status.idle": "2022-02-25T08:00:28.972799Z",
     "shell.execute_reply": "2022-02-25T08:00:28.972278Z",
     "shell.execute_reply.started": "2022-02-24T17:24:32.195962Z"
    },
    "papermill": {
     "duration": 0.057022,
     "end_time": "2022-02-25T08:00:28.972948",
     "exception": false,
     "start_time": "2022-02-25T08:00:28.915926",
     "status": "completed"
    },
    "tags": []
   },
   "outputs": [
    {
     "data": {
      "text/html": [
       "<div>\n",
       "<style scoped>\n",
       "    .dataframe tbody tr th:only-of-type {\n",
       "        vertical-align: middle;\n",
       "    }\n",
       "\n",
       "    .dataframe tbody tr th {\n",
       "        vertical-align: top;\n",
       "    }\n",
       "\n",
       "    .dataframe thead th {\n",
       "        text-align: right;\n",
       "    }\n",
       "</style>\n",
       "<table border=\"1\" class=\"dataframe\">\n",
       "  <thead>\n",
       "    <tr style=\"text-align: right;\">\n",
       "      <th></th>\n",
       "      <th>Accuracy</th>\n",
       "      <th>precision</th>\n",
       "      <th>recall</th>\n",
       "      <th>f1</th>\n",
       "    </tr>\n",
       "  </thead>\n",
       "  <tbody>\n",
       "    <tr>\n",
       "      <th>0</th>\n",
       "      <td>0.992769</td>\n",
       "      <td>0.802729</td>\n",
       "      <td>0.677077</td>\n",
       "      <td>0.734568</td>\n",
       "    </tr>\n",
       "    <tr>\n",
       "      <th>1</th>\n",
       "      <td>0.993814</td>\n",
       "      <td>0.773530</td>\n",
       "      <td>0.822070</td>\n",
       "      <td>0.797062</td>\n",
       "    </tr>\n",
       "    <tr>\n",
       "      <th>2</th>\n",
       "      <td>0.994229</td>\n",
       "      <td>0.805237</td>\n",
       "      <td>0.803910</td>\n",
       "      <td>0.804573</td>\n",
       "    </tr>\n",
       "  </tbody>\n",
       "</table>\n",
       "</div>"
      ],
      "text/plain": [
       "   Accuracy  precision    recall        f1\n",
       "0  0.992769   0.802729  0.677077  0.734568\n",
       "1  0.993814   0.773530  0.822070  0.797062\n",
       "2  0.994229   0.805237  0.803910  0.804573"
      ]
     },
     "execution_count": 16,
     "metadata": {},
     "output_type": "execute_result"
    }
   ],
   "source": [
    "import pandas as pd\n",
    "\n",
    "score_df = pd.DataFrame.from_dict(score_data_list)\n",
    "score_df.head()"
   ]
  },
  {
   "cell_type": "markdown",
   "id": "c58228a0",
   "metadata": {
    "papermill": {
     "duration": 0.036836,
     "end_time": "2022-02-25T08:00:29.046179",
     "exception": false,
     "start_time": "2022-02-25T08:00:29.009343",
     "status": "completed"
    },
    "tags": []
   },
   "source": [
    "# Prepare For Testing"
   ]
  },
  {
   "cell_type": "markdown",
   "id": "d4ad5e83",
   "metadata": {
    "papermill": {
     "duration": 0.037127,
     "end_time": "2022-02-25T08:00:29.120379",
     "exception": false,
     "start_time": "2022-02-25T08:00:29.083252",
     "status": "completed"
    },
    "tags": []
   },
   "source": [
    "Load best model"
   ]
  },
  {
   "cell_type": "code",
   "execution_count": 17,
   "id": "37f2a0f8",
   "metadata": {
    "execution": {
     "iopub.execute_input": "2022-02-25T08:00:29.198964Z",
     "iopub.status.busy": "2022-02-25T08:00:29.197690Z",
     "iopub.status.idle": "2022-02-25T08:00:29.497721Z",
     "shell.execute_reply": "2022-02-25T08:00:29.498300Z",
     "shell.execute_reply.started": "2022-02-24T17:24:47.449073Z"
    },
    "papermill": {
     "duration": 0.341899,
     "end_time": "2022-02-25T08:00:29.498469",
     "exception": false,
     "start_time": "2022-02-25T08:00:29.156570",
     "status": "completed"
    },
    "tags": []
   },
   "outputs": [
    {
     "data": {
      "text/plain": [
       "<All keys matched successfully>"
      ]
     },
     "execution_count": 17,
     "metadata": {},
     "output_type": "execute_result"
    }
   ],
   "source": [
    "model.load_state_dict(torch.load(\"nbme_bert_v2.pth\", map_location = DEVICE))"
   ]
  },
  {
   "cell_type": "code",
   "execution_count": 18,
   "id": "c2c3ac89",
   "metadata": {
    "execution": {
     "iopub.execute_input": "2022-02-25T08:00:29.585075Z",
     "iopub.status.busy": "2022-02-25T08:00:29.579581Z",
     "iopub.status.idle": "2022-02-25T08:00:30.061432Z",
     "shell.execute_reply": "2022-02-25T08:00:30.062769Z",
     "shell.execute_reply.started": "2022-02-24T17:25:04.439985Z"
    },
    "papermill": {
     "duration": 0.528114,
     "end_time": "2022-02-25T08:00:30.063071",
     "exception": false,
     "start_time": "2022-02-25T08:00:29.534957",
     "status": "completed"
    },
    "tags": []
   },
   "outputs": [],
   "source": [
    "def create_test_df():\n",
    "    feats = pd.read_csv(f\"{BASE_URL}/features.csv\")\n",
    "    notes = pd.read_csv(f\"{BASE_URL}/patient_notes.csv\")\n",
    "    test = pd.read_csv(f\"{BASE_URL}/test.csv\")\n",
    "\n",
    "    merged = test.merge(notes, how = \"left\")\n",
    "    merged = merged.merge(feats, how = \"left\")\n",
    "\n",
    "    def process_feature_text(text):\n",
    "        return text.replace(\"-OR-\", \";-\").replace(\"-\", \" \")\n",
    "    \n",
    "    merged[\"feature_text\"] = [process_feature_text(x) for x in merged[\"feature_text\"]]\n",
    "    \n",
    "    return merged\n",
    "\n",
    "\n",
    "class SubmissionDataset(Dataset):\n",
    "    def __init__(self, data, tokenizer, config):\n",
    "        self.data = data\n",
    "        self.tokenizer = tokenizer\n",
    "        self.config = config\n",
    "    \n",
    "    def __len__(self):\n",
    "        return len(self.data)\n",
    "    \n",
    "    def __getitem__(self, idx):\n",
    "        example = self.data.loc[idx]\n",
    "        tokenized = self.tokenizer(\n",
    "            example[\"feature_text\"],\n",
    "            example[\"pn_history\"],\n",
    "            truncation = self.config['truncation'],\n",
    "            max_length = self.config['max_length'],\n",
    "            padding = self.config['padding'],\n",
    "            return_offsets_mapping = self.config['return_offsets_mapping']\n",
    "        )\n",
    "        tokenized[\"sequence_ids\"] = tokenized.sequence_ids()\n",
    "\n",
    "        input_ids = np.array(tokenized[\"input_ids\"])\n",
    "        attention_mask = np.array(tokenized[\"attention_mask\"])\n",
    "        offset_mapping = np.array(tokenized[\"offset_mapping\"])\n",
    "        sequence_ids = np.array(tokenized[\"sequence_ids\"]).astype(\"float16\")\n",
    "\n",
    "        return input_ids, attention_mask, offset_mapping, sequence_ids\n",
    "\n",
    "\n",
    "test_df = create_test_df()\n",
    "\n",
    "submission_data = SubmissionDataset(test_df, tokenizer, hyperparameters)\n",
    "submission_dataloader = DataLoader(submission_data, batch_size=hyperparameters['batch_size'], shuffle=False)"
   ]
  },
  {
   "cell_type": "code",
   "execution_count": 19,
   "id": "c6b823a0",
   "metadata": {
    "execution": {
     "iopub.execute_input": "2022-02-25T08:00:30.202568Z",
     "iopub.status.busy": "2022-02-25T08:00:30.201450Z",
     "iopub.status.idle": "2022-02-25T08:00:30.390365Z",
     "shell.execute_reply": "2022-02-25T08:00:30.391736Z",
     "shell.execute_reply.started": "2022-02-24T17:25:33.183872Z"
    },
    "papermill": {
     "duration": 0.264777,
     "end_time": "2022-02-25T08:00:30.392056",
     "exception": false,
     "start_time": "2022-02-25T08:00:30.127279",
     "status": "completed"
    },
    "tags": []
   },
   "outputs": [
    {
     "data": {
      "application/vnd.jupyter.widget-view+json": {
       "model_id": "b472491f89184af18745685c85cdd5b5",
       "version_major": 2,
       "version_minor": 0
      },
      "text/plain": [
       "  0%|          | 0/1 [00:00<?, ?it/s]"
      ]
     },
     "metadata": {},
     "output_type": "display_data"
    }
   ],
   "source": [
    "model.eval()\n",
    "preds = []\n",
    "offsets = []\n",
    "seq_ids = []\n",
    "\n",
    "for batch in tqdm(submission_dataloader):\n",
    "    input_ids = batch[0].to(DEVICE)\n",
    "    attention_mask = batch[1].to(DEVICE)\n",
    "    offset_mapping = batch[2]\n",
    "    sequence_ids = batch[3]\n",
    "\n",
    "    logits = model(input_ids, attention_mask)\n",
    "    \n",
    "    preds.append(logits.detach().cpu().numpy())\n",
    "    offsets.append(offset_mapping.numpy())\n",
    "    seq_ids.append(sequence_ids.numpy())\n",
    "\n",
    "preds = np.concatenate(preds, axis=0)\n",
    "offsets = np.concatenate(offsets, axis=0)\n",
    "seq_ids = np.concatenate(seq_ids, axis=0)"
   ]
  },
  {
   "cell_type": "code",
   "execution_count": 20,
   "id": "86f5e984",
   "metadata": {
    "execution": {
     "iopub.execute_input": "2022-02-25T08:00:30.615480Z",
     "iopub.status.busy": "2022-02-25T08:00:30.613986Z",
     "iopub.status.idle": "2022-02-25T08:00:30.655005Z",
     "shell.execute_reply": "2022-02-25T08:00:30.650584Z",
     "shell.execute_reply.started": "2022-02-24T17:25:35.846345Z"
    },
    "papermill": {
     "duration": 0.151093,
     "end_time": "2022-02-25T08:00:30.655278",
     "exception": false,
     "start_time": "2022-02-25T08:00:30.504185",
     "status": "completed"
    },
    "tags": []
   },
   "outputs": [],
   "source": [
    "location_preds = get_location_predictions(preds, offsets, seq_ids, test=True)"
   ]
  },
  {
   "cell_type": "code",
   "execution_count": 21,
   "id": "9acaecbd",
   "metadata": {
    "execution": {
     "iopub.execute_input": "2022-02-25T08:00:31.011724Z",
     "iopub.status.busy": "2022-02-25T08:00:31.008513Z",
     "iopub.status.idle": "2022-02-25T08:00:31.029574Z",
     "shell.execute_reply": "2022-02-25T08:00:31.028028Z",
     "shell.execute_reply.started": "2022-02-24T17:25:38.269375Z"
    },
    "papermill": {
     "duration": 0.203986,
     "end_time": "2022-02-25T08:00:31.029904",
     "exception": false,
     "start_time": "2022-02-25T08:00:30.825918",
     "status": "completed"
    },
    "tags": []
   },
   "outputs": [
    {
     "data": {
      "text/plain": [
       "(5, 5)"
      ]
     },
     "execution_count": 21,
     "metadata": {},
     "output_type": "execute_result"
    }
   ],
   "source": [
    "len(location_preds), len(test_df)"
   ]
  },
  {
   "cell_type": "code",
   "execution_count": 22,
   "id": "526eba41",
   "metadata": {
    "execution": {
     "iopub.execute_input": "2022-02-25T08:00:31.310008Z",
     "iopub.status.busy": "2022-02-25T08:00:31.309153Z",
     "iopub.status.idle": "2022-02-25T08:00:31.325216Z",
     "shell.execute_reply": "2022-02-25T08:00:31.324437Z",
     "shell.execute_reply.started": "2022-02-24T17:25:40.458054Z"
    },
    "papermill": {
     "duration": 0.133966,
     "end_time": "2022-02-25T08:00:31.325382",
     "exception": false,
     "start_time": "2022-02-25T08:00:31.191416",
     "status": "completed"
    },
    "tags": []
   },
   "outputs": [],
   "source": [
    "test_df[\"location\"] = location_preds"
   ]
  },
  {
   "cell_type": "code",
   "execution_count": 23,
   "id": "2d257345",
   "metadata": {
    "execution": {
     "iopub.execute_input": "2022-02-25T08:00:31.471552Z",
     "iopub.status.busy": "2022-02-25T08:00:31.470786Z",
     "iopub.status.idle": "2022-02-25T08:00:31.493474Z",
     "shell.execute_reply": "2022-02-25T08:00:31.494277Z",
     "shell.execute_reply.started": "2022-02-24T17:25:42.283029Z"
    },
    "papermill": {
     "duration": 0.102316,
     "end_time": "2022-02-25T08:00:31.494474",
     "exception": false,
     "start_time": "2022-02-25T08:00:31.392158",
     "status": "completed"
    },
    "tags": []
   },
   "outputs": [
    {
     "data": {
      "text/html": [
       "<div>\n",
       "<style scoped>\n",
       "    .dataframe tbody tr th:only-of-type {\n",
       "        vertical-align: middle;\n",
       "    }\n",
       "\n",
       "    .dataframe tbody tr th {\n",
       "        vertical-align: top;\n",
       "    }\n",
       "\n",
       "    .dataframe thead th {\n",
       "        text-align: right;\n",
       "    }\n",
       "</style>\n",
       "<table border=\"1\" class=\"dataframe\">\n",
       "  <thead>\n",
       "    <tr style=\"text-align: right;\">\n",
       "      <th></th>\n",
       "      <th>id</th>\n",
       "      <th>location</th>\n",
       "    </tr>\n",
       "  </thead>\n",
       "  <tbody>\n",
       "    <tr>\n",
       "      <th>0</th>\n",
       "      <td>00016_000</td>\n",
       "      <td>696 724</td>\n",
       "    </tr>\n",
       "    <tr>\n",
       "      <th>1</th>\n",
       "      <td>00016_001</td>\n",
       "      <td>668 693</td>\n",
       "    </tr>\n",
       "    <tr>\n",
       "      <th>2</th>\n",
       "      <td>00016_002</td>\n",
       "      <td>203 217</td>\n",
       "    </tr>\n",
       "    <tr>\n",
       "      <th>3</th>\n",
       "      <td>00016_003</td>\n",
       "      <td>70 91</td>\n",
       "    </tr>\n",
       "    <tr>\n",
       "      <th>4</th>\n",
       "      <td>00016_004</td>\n",
       "      <td>NaN</td>\n",
       "    </tr>\n",
       "  </tbody>\n",
       "</table>\n",
       "</div>"
      ],
      "text/plain": [
       "          id location\n",
       "0  00016_000  696 724\n",
       "1  00016_001  668 693\n",
       "2  00016_002  203 217\n",
       "3  00016_003    70 91\n",
       "4  00016_004      NaN"
      ]
     },
     "execution_count": 23,
     "metadata": {},
     "output_type": "execute_result"
    }
   ],
   "source": [
    "test_df[[\"id\", \"location\"]].to_csv(\"submission.csv\", index = False)\n",
    "pd.read_csv(\"submission.csv\").head()"
   ]
  },
  {
   "cell_type": "markdown",
   "id": "d17041e7",
   "metadata": {
    "papermill": {
     "duration": 0.045018,
     "end_time": "2022-02-25T08:00:31.585029",
     "exception": false,
     "start_time": "2022-02-25T08:00:31.540011",
     "status": "completed"
    },
    "tags": []
   },
   "source": [
    "# Special Credits\n",
    "- [tomohiroh](https://www.kaggle.com/tomohiroh/nbme-bert-for-beginners)\n",
    "- [gazu468](https://www.kaggle.com/gazu468/nbme-details-eda)\n"
   ]
  }
 ],
 "metadata": {
  "kernelspec": {
   "display_name": "Python 3",
   "language": "python",
   "name": "python3"
  },
  "language_info": {
   "codemirror_mode": {
    "name": "ipython",
    "version": 3
   },
   "file_extension": ".py",
   "mimetype": "text/x-python",
   "name": "python",
   "nbconvert_exporter": "python",
   "pygments_lexer": "ipython3",
   "version": "3.7.12"
  },
  "papermill": {
   "default_parameters": {},
   "duration": 2027.558612,
   "end_time": "2022-02-25T08:00:34.867189",
   "environment_variables": {},
   "exception": null,
   "input_path": "__notebook__.ipynb",
   "output_path": "__notebook__.ipynb",
   "parameters": {},
   "start_time": "2022-02-25T07:26:47.308577",
   "version": "2.3.3"
  },
  "widgets": {
   "application/vnd.jupyter.widget-state+json": {
    "state": {
     "07fee3ad86414f8494852cf0664b215e": {
      "model_module": "@jupyter-widgets/controls",
      "model_module_version": "1.5.0",
      "model_name": "DescriptionStyleModel",
      "state": {
       "_model_module": "@jupyter-widgets/controls",
       "_model_module_version": "1.5.0",
       "_model_name": "DescriptionStyleModel",
       "_view_count": null,
       "_view_module": "@jupyter-widgets/base",
       "_view_module_version": "1.2.0",
       "_view_name": "StyleView",
       "description_width": ""
      }
     },
     "105019620e404da09ed6716d58decbd8": {
      "model_module": "@jupyter-widgets/controls",
      "model_module_version": "1.5.0",
      "model_name": "DescriptionStyleModel",
      "state": {
       "_model_module": "@jupyter-widgets/controls",
       "_model_module_version": "1.5.0",
       "_model_name": "DescriptionStyleModel",
       "_view_count": null,
       "_view_module": "@jupyter-widgets/base",
       "_view_module_version": "1.2.0",
       "_view_name": "StyleView",
       "description_width": ""
      }
     },
     "1467c31bc0614c47bf20c14073d32f5b": {
      "model_module": "@jupyter-widgets/controls",
      "model_module_version": "1.5.0",
      "model_name": "DescriptionStyleModel",
      "state": {
       "_model_module": "@jupyter-widgets/controls",
       "_model_module_version": "1.5.0",
       "_model_name": "DescriptionStyleModel",
       "_view_count": null,
       "_view_module": "@jupyter-widgets/base",
       "_view_module_version": "1.2.0",
       "_view_name": "StyleView",
       "description_width": ""
      }
     },
     "1571d14010454cd882f3d9bf74698a4f": {
      "model_module": "@jupyter-widgets/controls",
      "model_module_version": "1.5.0",
      "model_name": "ProgressStyleModel",
      "state": {
       "_model_module": "@jupyter-widgets/controls",
       "_model_module_version": "1.5.0",
       "_model_name": "ProgressStyleModel",
       "_view_count": null,
       "_view_module": "@jupyter-widgets/base",
       "_view_module_version": "1.2.0",
       "_view_name": "StyleView",
       "bar_color": null,
       "description_width": ""
      }
     },
     "169d3542cb234b7bb45c8376f48dcc7e": {
      "model_module": "@jupyter-widgets/base",
      "model_module_version": "1.2.0",
      "model_name": "LayoutModel",
      "state": {
       "_model_module": "@jupyter-widgets/base",
       "_model_module_version": "1.2.0",
       "_model_name": "LayoutModel",
       "_view_count": null,
       "_view_module": "@jupyter-widgets/base",
       "_view_module_version": "1.2.0",
       "_view_name": "LayoutView",
       "align_content": null,
       "align_items": null,
       "align_self": null,
       "border": null,
       "bottom": null,
       "display": null,
       "flex": null,
       "flex_flow": null,
       "grid_area": null,
       "grid_auto_columns": null,
       "grid_auto_flow": null,
       "grid_auto_rows": null,
       "grid_column": null,
       "grid_gap": null,
       "grid_row": null,
       "grid_template_areas": null,
       "grid_template_columns": null,
       "grid_template_rows": null,
       "height": null,
       "justify_content": null,
       "justify_items": null,
       "left": null,
       "margin": null,
       "max_height": null,
       "max_width": null,
       "min_height": null,
       "min_width": null,
       "object_fit": null,
       "object_position": null,
       "order": null,
       "overflow": null,
       "overflow_x": null,
       "overflow_y": null,
       "padding": null,
       "right": null,
       "top": null,
       "visibility": null,
       "width": null
      }
     },
     "1c9179b5e1284b35a9e8606527c8a152": {
      "model_module": "@jupyter-widgets/base",
      "model_module_version": "1.2.0",
      "model_name": "LayoutModel",
      "state": {
       "_model_module": "@jupyter-widgets/base",
       "_model_module_version": "1.2.0",
       "_model_name": "LayoutModel",
       "_view_count": null,
       "_view_module": "@jupyter-widgets/base",
       "_view_module_version": "1.2.0",
       "_view_name": "LayoutView",
       "align_content": null,
       "align_items": null,
       "align_self": null,
       "border": null,
       "bottom": null,
       "display": null,
       "flex": null,
       "flex_flow": null,
       "grid_area": null,
       "grid_auto_columns": null,
       "grid_auto_flow": null,
       "grid_auto_rows": null,
       "grid_column": null,
       "grid_gap": null,
       "grid_row": null,
       "grid_template_areas": null,
       "grid_template_columns": null,
       "grid_template_rows": null,
       "height": null,
       "justify_content": null,
       "justify_items": null,
       "left": null,
       "margin": null,
       "max_height": null,
       "max_width": null,
       "min_height": null,
       "min_width": null,
       "object_fit": null,
       "object_position": null,
       "order": null,
       "overflow": null,
       "overflow_x": null,
       "overflow_y": null,
       "padding": null,
       "right": null,
       "top": null,
       "visibility": null,
       "width": null
      }
     },
     "1d71dabb74c0453b8707ffdbb3c71402": {
      "model_module": "@jupyter-widgets/controls",
      "model_module_version": "1.5.0",
      "model_name": "ProgressStyleModel",
      "state": {
       "_model_module": "@jupyter-widgets/controls",
       "_model_module_version": "1.5.0",
       "_model_name": "ProgressStyleModel",
       "_view_count": null,
       "_view_module": "@jupyter-widgets/base",
       "_view_module_version": "1.2.0",
       "_view_name": "StyleView",
       "bar_color": null,
       "description_width": ""
      }
     },
     "20ecb899a14e454683f0e85d82d4356c": {
      "model_module": "@jupyter-widgets/controls",
      "model_module_version": "1.5.0",
      "model_name": "HBoxModel",
      "state": {
       "_dom_classes": [],
       "_model_module": "@jupyter-widgets/controls",
       "_model_module_version": "1.5.0",
       "_model_name": "HBoxModel",
       "_view_count": null,
       "_view_module": "@jupyter-widgets/controls",
       "_view_module_version": "1.5.0",
       "_view_name": "HBoxView",
       "box_style": "",
       "children": [
        "IPY_MODEL_46fe1ef3d8b94e9f8784a39130da0813",
        "IPY_MODEL_2eb0473d0c9d4ba0a1c19732c3af8684",
        "IPY_MODEL_c97d429673684663b7b98014289ebf2d"
       ],
       "layout": "IPY_MODEL_48ee5388ba0b46fbbbea2775fe377056"
      }
     },
     "25998bcb04b74b23ab32a6888f7a3d92": {
      "model_module": "@jupyter-widgets/controls",
      "model_module_version": "1.5.0",
      "model_name": "DescriptionStyleModel",
      "state": {
       "_model_module": "@jupyter-widgets/controls",
       "_model_module_version": "1.5.0",
       "_model_name": "DescriptionStyleModel",
       "_view_count": null,
       "_view_module": "@jupyter-widgets/base",
       "_view_module_version": "1.2.0",
       "_view_name": "StyleView",
       "description_width": ""
      }
     },
     "26234d8f8d85458a9277c4376bdf121b": {
      "model_module": "@jupyter-widgets/controls",
      "model_module_version": "1.5.0",
      "model_name": "HBoxModel",
      "state": {
       "_dom_classes": [],
       "_model_module": "@jupyter-widgets/controls",
       "_model_module_version": "1.5.0",
       "_model_name": "HBoxModel",
       "_view_count": null,
       "_view_module": "@jupyter-widgets/controls",
       "_view_module_version": "1.5.0",
       "_view_name": "HBoxView",
       "box_style": "",
       "children": [
        "IPY_MODEL_c4bd0f31dc504c1296529b647f7bbac0",
        "IPY_MODEL_511a19540550458abcdfbc8aade43f91",
        "IPY_MODEL_fde6cdede4354605bc62856aee393471"
       ],
       "layout": "IPY_MODEL_e82b5a8676dd4b95900fda5b9b71415e"
      }
     },
     "29228339f3ec4c9e9888aa133b8a458f": {
      "model_module": "@jupyter-widgets/base",
      "model_module_version": "1.2.0",
      "model_name": "LayoutModel",
      "state": {
       "_model_module": "@jupyter-widgets/base",
       "_model_module_version": "1.2.0",
       "_model_name": "LayoutModel",
       "_view_count": null,
       "_view_module": "@jupyter-widgets/base",
       "_view_module_version": "1.2.0",
       "_view_name": "LayoutView",
       "align_content": null,
       "align_items": null,
       "align_self": null,
       "border": null,
       "bottom": null,
       "display": null,
       "flex": null,
       "flex_flow": null,
       "grid_area": null,
       "grid_auto_columns": null,
       "grid_auto_flow": null,
       "grid_auto_rows": null,
       "grid_column": null,
       "grid_gap": null,
       "grid_row": null,
       "grid_template_areas": null,
       "grid_template_columns": null,
       "grid_template_rows": null,
       "height": null,
       "justify_content": null,
       "justify_items": null,
       "left": null,
       "margin": null,
       "max_height": null,
       "max_width": null,
       "min_height": null,
       "min_width": null,
       "object_fit": null,
       "object_position": null,
       "order": null,
       "overflow": null,
       "overflow_x": null,
       "overflow_y": null,
       "padding": null,
       "right": null,
       "top": null,
       "visibility": null,
       "width": null
      }
     },
     "2eb0473d0c9d4ba0a1c19732c3af8684": {
      "model_module": "@jupyter-widgets/controls",
      "model_module_version": "1.5.0",
      "model_name": "FloatProgressModel",
      "state": {
       "_dom_classes": [],
       "_model_module": "@jupyter-widgets/controls",
       "_model_module_version": "1.5.0",
       "_model_name": "FloatProgressModel",
       "_view_count": null,
       "_view_module": "@jupyter-widgets/controls",
       "_view_module_version": "1.5.0",
       "_view_name": "ProgressView",
       "bar_style": "success",
       "description": "",
       "description_tooltip": null,
       "layout": "IPY_MODEL_d1a5ad05957a42fda701c3fd4d9fd4a5",
       "max": 358,
       "min": 0,
       "orientation": "horizontal",
       "style": "IPY_MODEL_44ffbb7bc3e2419d988bc5f853a3b4a3",
       "value": 358
      }
     },
     "3030ae80993c476b946b084ee9aef0ed": {
      "model_module": "@jupyter-widgets/base",
      "model_module_version": "1.2.0",
      "model_name": "LayoutModel",
      "state": {
       "_model_module": "@jupyter-widgets/base",
       "_model_module_version": "1.2.0",
       "_model_name": "LayoutModel",
       "_view_count": null,
       "_view_module": "@jupyter-widgets/base",
       "_view_module_version": "1.2.0",
       "_view_name": "LayoutView",
       "align_content": null,
       "align_items": null,
       "align_self": null,
       "border": null,
       "bottom": null,
       "display": null,
       "flex": null,
       "flex_flow": null,
       "grid_area": null,
       "grid_auto_columns": null,
       "grid_auto_flow": null,
       "grid_auto_rows": null,
       "grid_column": null,
       "grid_gap": null,
       "grid_row": null,
       "grid_template_areas": null,
       "grid_template_columns": null,
       "grid_template_rows": null,
       "height": null,
       "justify_content": null,
       "justify_items": null,
       "left": null,
       "margin": null,
       "max_height": null,
       "max_width": null,
       "min_height": null,
       "min_width": null,
       "object_fit": null,
       "object_position": null,
       "order": null,
       "overflow": null,
       "overflow_x": null,
       "overflow_y": null,
       "padding": null,
       "right": null,
       "top": null,
       "visibility": null,
       "width": null
      }
     },
     "367ee0d7ca6048729d7f085695a2700b": {
      "model_module": "@jupyter-widgets/controls",
      "model_module_version": "1.5.0",
      "model_name": "FloatProgressModel",
      "state": {
       "_dom_classes": [],
       "_model_module": "@jupyter-widgets/controls",
       "_model_module_version": "1.5.0",
       "_model_name": "FloatProgressModel",
       "_view_count": null,
       "_view_module": "@jupyter-widgets/controls",
       "_view_module_version": "1.5.0",
       "_view_name": "ProgressView",
       "bar_style": "success",
       "description": "",
       "description_tooltip": null,
       "layout": "IPY_MODEL_45307f8784d04438a7d78523f2c9b76f",
       "max": 358,
       "min": 0,
       "orientation": "horizontal",
       "style": "IPY_MODEL_1d71dabb74c0453b8707ffdbb3c71402",
       "value": 358
      }
     },
     "36d77fb26d584684bf747271551d1dd2": {
      "model_module": "@jupyter-widgets/base",
      "model_module_version": "1.2.0",
      "model_name": "LayoutModel",
      "state": {
       "_model_module": "@jupyter-widgets/base",
       "_model_module_version": "1.2.0",
       "_model_name": "LayoutModel",
       "_view_count": null,
       "_view_module": "@jupyter-widgets/base",
       "_view_module_version": "1.2.0",
       "_view_name": "LayoutView",
       "align_content": null,
       "align_items": null,
       "align_self": null,
       "border": null,
       "bottom": null,
       "display": null,
       "flex": null,
       "flex_flow": null,
       "grid_area": null,
       "grid_auto_columns": null,
       "grid_auto_flow": null,
       "grid_auto_rows": null,
       "grid_column": null,
       "grid_gap": null,
       "grid_row": null,
       "grid_template_areas": null,
       "grid_template_columns": null,
       "grid_template_rows": null,
       "height": null,
       "justify_content": null,
       "justify_items": null,
       "left": null,
       "margin": null,
       "max_height": null,
       "max_width": null,
       "min_height": null,
       "min_width": null,
       "object_fit": null,
       "object_position": null,
       "order": null,
       "overflow": null,
       "overflow_x": null,
       "overflow_y": null,
       "padding": null,
       "right": null,
       "top": null,
       "visibility": null,
       "width": null
      }
     },
     "3eefe553405e44efb4b70a243af1caa8": {
      "model_module": "@jupyter-widgets/controls",
      "model_module_version": "1.5.0",
      "model_name": "ProgressStyleModel",
      "state": {
       "_model_module": "@jupyter-widgets/controls",
       "_model_module_version": "1.5.0",
       "_model_name": "ProgressStyleModel",
       "_view_count": null,
       "_view_module": "@jupyter-widgets/base",
       "_view_module_version": "1.2.0",
       "_view_name": "StyleView",
       "bar_color": null,
       "description_width": ""
      }
     },
     "4423dc3a1f4c439d89ae2d374a2a6a7b": {
      "model_module": "@jupyter-widgets/base",
      "model_module_version": "1.2.0",
      "model_name": "LayoutModel",
      "state": {
       "_model_module": "@jupyter-widgets/base",
       "_model_module_version": "1.2.0",
       "_model_name": "LayoutModel",
       "_view_count": null,
       "_view_module": "@jupyter-widgets/base",
       "_view_module_version": "1.2.0",
       "_view_name": "LayoutView",
       "align_content": null,
       "align_items": null,
       "align_self": null,
       "border": null,
       "bottom": null,
       "display": null,
       "flex": null,
       "flex_flow": null,
       "grid_area": null,
       "grid_auto_columns": null,
       "grid_auto_flow": null,
       "grid_auto_rows": null,
       "grid_column": null,
       "grid_gap": null,
       "grid_row": null,
       "grid_template_areas": null,
       "grid_template_columns": null,
       "grid_template_rows": null,
       "height": null,
       "justify_content": null,
       "justify_items": null,
       "left": null,
       "margin": null,
       "max_height": null,
       "max_width": null,
       "min_height": null,
       "min_width": null,
       "object_fit": null,
       "object_position": null,
       "order": null,
       "overflow": null,
       "overflow_x": null,
       "overflow_y": null,
       "padding": null,
       "right": null,
       "top": null,
       "visibility": null,
       "width": null
      }
     },
     "44ffbb7bc3e2419d988bc5f853a3b4a3": {
      "model_module": "@jupyter-widgets/controls",
      "model_module_version": "1.5.0",
      "model_name": "ProgressStyleModel",
      "state": {
       "_model_module": "@jupyter-widgets/controls",
       "_model_module_version": "1.5.0",
       "_model_name": "ProgressStyleModel",
       "_view_count": null,
       "_view_module": "@jupyter-widgets/base",
       "_view_module_version": "1.2.0",
       "_view_name": "StyleView",
       "bar_color": null,
       "description_width": ""
      }
     },
     "450227989b4f4af6958e09ec9cc638b8": {
      "model_module": "@jupyter-widgets/controls",
      "model_module_version": "1.5.0",
      "model_name": "DescriptionStyleModel",
      "state": {
       "_model_module": "@jupyter-widgets/controls",
       "_model_module_version": "1.5.0",
       "_model_name": "DescriptionStyleModel",
       "_view_count": null,
       "_view_module": "@jupyter-widgets/base",
       "_view_module_version": "1.2.0",
       "_view_name": "StyleView",
       "description_width": ""
      }
     },
     "45307f8784d04438a7d78523f2c9b76f": {
      "model_module": "@jupyter-widgets/base",
      "model_module_version": "1.2.0",
      "model_name": "LayoutModel",
      "state": {
       "_model_module": "@jupyter-widgets/base",
       "_model_module_version": "1.2.0",
       "_model_name": "LayoutModel",
       "_view_count": null,
       "_view_module": "@jupyter-widgets/base",
       "_view_module_version": "1.2.0",
       "_view_name": "LayoutView",
       "align_content": null,
       "align_items": null,
       "align_self": null,
       "border": null,
       "bottom": null,
       "display": null,
       "flex": null,
       "flex_flow": null,
       "grid_area": null,
       "grid_auto_columns": null,
       "grid_auto_flow": null,
       "grid_auto_rows": null,
       "grid_column": null,
       "grid_gap": null,
       "grid_row": null,
       "grid_template_areas": null,
       "grid_template_columns": null,
       "grid_template_rows": null,
       "height": null,
       "justify_content": null,
       "justify_items": null,
       "left": null,
       "margin": null,
       "max_height": null,
       "max_width": null,
       "min_height": null,
       "min_width": null,
       "object_fit": null,
       "object_position": null,
       "order": null,
       "overflow": null,
       "overflow_x": null,
       "overflow_y": null,
       "padding": null,
       "right": null,
       "top": null,
       "visibility": null,
       "width": null
      }
     },
     "46fe1ef3d8b94e9f8784a39130da0813": {
      "model_module": "@jupyter-widgets/controls",
      "model_module_version": "1.5.0",
      "model_name": "HTMLModel",
      "state": {
       "_dom_classes": [],
       "_model_module": "@jupyter-widgets/controls",
       "_model_module_version": "1.5.0",
       "_model_name": "HTMLModel",
       "_view_count": null,
       "_view_module": "@jupyter-widgets/controls",
       "_view_module_version": "1.5.0",
       "_view_name": "HTMLView",
       "description": "",
       "description_tooltip": null,
       "layout": "IPY_MODEL_b71d7e678956490eb613b53bb1b0f5c2",
       "placeholder": "​",
       "style": "IPY_MODEL_ac6ccef0911846dd851c1338deaa4d12",
       "value": "100%"
      }
     },
     "48ee5388ba0b46fbbbea2775fe377056": {
      "model_module": "@jupyter-widgets/base",
      "model_module_version": "1.2.0",
      "model_name": "LayoutModel",
      "state": {
       "_model_module": "@jupyter-widgets/base",
       "_model_module_version": "1.2.0",
       "_model_name": "LayoutModel",
       "_view_count": null,
       "_view_module": "@jupyter-widgets/base",
       "_view_module_version": "1.2.0",
       "_view_name": "LayoutView",
       "align_content": null,
       "align_items": null,
       "align_self": null,
       "border": null,
       "bottom": null,
       "display": null,
       "flex": null,
       "flex_flow": null,
       "grid_area": null,
       "grid_auto_columns": null,
       "grid_auto_flow": null,
       "grid_auto_rows": null,
       "grid_column": null,
       "grid_gap": null,
       "grid_row": null,
       "grid_template_areas": null,
       "grid_template_columns": null,
       "grid_template_rows": null,
       "height": null,
       "justify_content": null,
       "justify_items": null,
       "left": null,
       "margin": null,
       "max_height": null,
       "max_width": null,
       "min_height": null,
       "min_width": null,
       "object_fit": null,
       "object_position": null,
       "order": null,
       "overflow": null,
       "overflow_x": null,
       "overflow_y": null,
       "padding": null,
       "right": null,
       "top": null,
       "visibility": null,
       "width": null
      }
     },
     "4c8ba5c1cfc74f55902290c8956de71b": {
      "model_module": "@jupyter-widgets/base",
      "model_module_version": "1.2.0",
      "model_name": "LayoutModel",
      "state": {
       "_model_module": "@jupyter-widgets/base",
       "_model_module_version": "1.2.0",
       "_model_name": "LayoutModel",
       "_view_count": null,
       "_view_module": "@jupyter-widgets/base",
       "_view_module_version": "1.2.0",
       "_view_name": "LayoutView",
       "align_content": null,
       "align_items": null,
       "align_self": null,
       "border": null,
       "bottom": null,
       "display": null,
       "flex": null,
       "flex_flow": null,
       "grid_area": null,
       "grid_auto_columns": null,
       "grid_auto_flow": null,
       "grid_auto_rows": null,
       "grid_column": null,
       "grid_gap": null,
       "grid_row": null,
       "grid_template_areas": null,
       "grid_template_columns": null,
       "grid_template_rows": null,
       "height": null,
       "justify_content": null,
       "justify_items": null,
       "left": null,
       "margin": null,
       "max_height": null,
       "max_width": null,
       "min_height": null,
       "min_width": null,
       "object_fit": null,
       "object_position": null,
       "order": null,
       "overflow": null,
       "overflow_x": null,
       "overflow_y": null,
       "padding": null,
       "right": null,
       "top": null,
       "visibility": null,
       "width": null
      }
     },
     "4d36728dd62b4d14afdb745efbaca759": {
      "model_module": "@jupyter-widgets/controls",
      "model_module_version": "1.5.0",
      "model_name": "HTMLModel",
      "state": {
       "_dom_classes": [],
       "_model_module": "@jupyter-widgets/controls",
       "_model_module_version": "1.5.0",
       "_model_name": "HTMLModel",
       "_view_count": null,
       "_view_module": "@jupyter-widgets/controls",
       "_view_module_version": "1.5.0",
       "_view_name": "HTMLView",
       "description": "",
       "description_tooltip": null,
       "layout": "IPY_MODEL_80249e45ef88423b9fc15404d6206385",
       "placeholder": "​",
       "style": "IPY_MODEL_6ce07b5eb4f54604a17da623c6ea9500",
       "value": "100%"
      }
     },
     "511a19540550458abcdfbc8aade43f91": {
      "model_module": "@jupyter-widgets/controls",
      "model_module_version": "1.5.0",
      "model_name": "FloatProgressModel",
      "state": {
       "_dom_classes": [],
       "_model_module": "@jupyter-widgets/controls",
       "_model_module_version": "1.5.0",
       "_model_name": "FloatProgressModel",
       "_view_count": null,
       "_view_module": "@jupyter-widgets/controls",
       "_view_module_version": "1.5.0",
       "_view_name": "ProgressView",
       "bar_style": "success",
       "description": "",
       "description_tooltip": null,
       "layout": "IPY_MODEL_c0df65b03ab24b09a4ea773dbf4b9dd8",
       "max": 1430,
       "min": 0,
       "orientation": "horizontal",
       "style": "IPY_MODEL_1571d14010454cd882f3d9bf74698a4f",
       "value": 1430
      }
     },
     "5cf7320b09d54cbc9ef0d2bc0ec1d45e": {
      "model_module": "@jupyter-widgets/controls",
      "model_module_version": "1.5.0",
      "model_name": "HBoxModel",
      "state": {
       "_dom_classes": [],
       "_model_module": "@jupyter-widgets/controls",
       "_model_module_version": "1.5.0",
       "_model_name": "HBoxModel",
       "_view_count": null,
       "_view_module": "@jupyter-widgets/controls",
       "_view_module_version": "1.5.0",
       "_view_name": "HBoxView",
       "box_style": "",
       "children": [
        "IPY_MODEL_a9a09ffa453844f8b6fa6217727afdb2",
        "IPY_MODEL_367ee0d7ca6048729d7f085695a2700b",
        "IPY_MODEL_ed5eb751552a46c292bb87017f2beff9"
       ],
       "layout": "IPY_MODEL_959b6cd149d64207b4b593f6f21fbf85"
      }
     },
     "5d84fe7d645647f881bc83d309958438": {
      "model_module": "@jupyter-widgets/controls",
      "model_module_version": "1.5.0",
      "model_name": "ProgressStyleModel",
      "state": {
       "_model_module": "@jupyter-widgets/controls",
       "_model_module_version": "1.5.0",
       "_model_name": "ProgressStyleModel",
       "_view_count": null,
       "_view_module": "@jupyter-widgets/base",
       "_view_module_version": "1.2.0",
       "_view_name": "StyleView",
       "bar_color": null,
       "description_width": ""
      }
     },
     "5ea160a1e58d41c480bf69539dbc39dc": {
      "model_module": "@jupyter-widgets/base",
      "model_module_version": "1.2.0",
      "model_name": "LayoutModel",
      "state": {
       "_model_module": "@jupyter-widgets/base",
       "_model_module_version": "1.2.0",
       "_model_name": "LayoutModel",
       "_view_count": null,
       "_view_module": "@jupyter-widgets/base",
       "_view_module_version": "1.2.0",
       "_view_name": "LayoutView",
       "align_content": null,
       "align_items": null,
       "align_self": null,
       "border": null,
       "bottom": null,
       "display": null,
       "flex": null,
       "flex_flow": null,
       "grid_area": null,
       "grid_auto_columns": null,
       "grid_auto_flow": null,
       "grid_auto_rows": null,
       "grid_column": null,
       "grid_gap": null,
       "grid_row": null,
       "grid_template_areas": null,
       "grid_template_columns": null,
       "grid_template_rows": null,
       "height": null,
       "justify_content": null,
       "justify_items": null,
       "left": null,
       "margin": null,
       "max_height": null,
       "max_width": null,
       "min_height": null,
       "min_width": null,
       "object_fit": null,
       "object_position": null,
       "order": null,
       "overflow": null,
       "overflow_x": null,
       "overflow_y": null,
       "padding": null,
       "right": null,
       "top": null,
       "visibility": null,
       "width": null
      }
     },
     "6156ad4575c34b01aa0e01b1e18ba12a": {
      "model_module": "@jupyter-widgets/controls",
      "model_module_version": "1.5.0",
      "model_name": "HBoxModel",
      "state": {
       "_dom_classes": [],
       "_model_module": "@jupyter-widgets/controls",
       "_model_module_version": "1.5.0",
       "_model_name": "HBoxModel",
       "_view_count": null,
       "_view_module": "@jupyter-widgets/controls",
       "_view_module_version": "1.5.0",
       "_view_name": "HBoxView",
       "box_style": "",
       "children": [
        "IPY_MODEL_4d36728dd62b4d14afdb745efbaca759",
        "IPY_MODEL_a7b7af3aeaa7456aa21de14103c4083f",
        "IPY_MODEL_8ea9b07e725c4184895de4a0fb33a3ab"
       ],
       "layout": "IPY_MODEL_e7892ecf3d8c4d24a59a288852e1636c"
      }
     },
     "64e2b4fdda8d45279221113e16d1270f": {
      "model_module": "@jupyter-widgets/controls",
      "model_module_version": "1.5.0",
      "model_name": "HBoxModel",
      "state": {
       "_dom_classes": [],
       "_model_module": "@jupyter-widgets/controls",
       "_model_module_version": "1.5.0",
       "_model_name": "HBoxModel",
       "_view_count": null,
       "_view_module": "@jupyter-widgets/controls",
       "_view_module_version": "1.5.0",
       "_view_name": "HBoxView",
       "box_style": "",
       "children": [
        "IPY_MODEL_ed5bc9159f8841ecba36360c31a57f2f",
        "IPY_MODEL_82dc110aba4646d4a73c1336cfbce1c1",
        "IPY_MODEL_972a2bd979314dac9051d1d2f06f1a26"
       ],
       "layout": "IPY_MODEL_cd8ebcaad81c4420993cd3a45d553c49"
      }
     },
     "6ce07b5eb4f54604a17da623c6ea9500": {
      "model_module": "@jupyter-widgets/controls",
      "model_module_version": "1.5.0",
      "model_name": "DescriptionStyleModel",
      "state": {
       "_model_module": "@jupyter-widgets/controls",
       "_model_module_version": "1.5.0",
       "_model_name": "DescriptionStyleModel",
       "_view_count": null,
       "_view_module": "@jupyter-widgets/base",
       "_view_module_version": "1.2.0",
       "_view_name": "StyleView",
       "description_width": ""
      }
     },
     "6dbbfe6cb36542638e9341decaa3a485": {
      "model_module": "@jupyter-widgets/base",
      "model_module_version": "1.2.0",
      "model_name": "LayoutModel",
      "state": {
       "_model_module": "@jupyter-widgets/base",
       "_model_module_version": "1.2.0",
       "_model_name": "LayoutModel",
       "_view_count": null,
       "_view_module": "@jupyter-widgets/base",
       "_view_module_version": "1.2.0",
       "_view_name": "LayoutView",
       "align_content": null,
       "align_items": null,
       "align_self": null,
       "border": null,
       "bottom": null,
       "display": null,
       "flex": null,
       "flex_flow": null,
       "grid_area": null,
       "grid_auto_columns": null,
       "grid_auto_flow": null,
       "grid_auto_rows": null,
       "grid_column": null,
       "grid_gap": null,
       "grid_row": null,
       "grid_template_areas": null,
       "grid_template_columns": null,
       "grid_template_rows": null,
       "height": null,
       "justify_content": null,
       "justify_items": null,
       "left": null,
       "margin": null,
       "max_height": null,
       "max_width": null,
       "min_height": null,
       "min_width": null,
       "object_fit": null,
       "object_position": null,
       "order": null,
       "overflow": null,
       "overflow_x": null,
       "overflow_y": null,
       "padding": null,
       "right": null,
       "top": null,
       "visibility": null,
       "width": null
      }
     },
     "767cf44b8ae9497bbe2af146c65af9ce": {
      "model_module": "@jupyter-widgets/controls",
      "model_module_version": "1.5.0",
      "model_name": "DescriptionStyleModel",
      "state": {
       "_model_module": "@jupyter-widgets/controls",
       "_model_module_version": "1.5.0",
       "_model_name": "DescriptionStyleModel",
       "_view_count": null,
       "_view_module": "@jupyter-widgets/base",
       "_view_module_version": "1.2.0",
       "_view_name": "StyleView",
       "description_width": ""
      }
     },
     "7bcf9d09182e4cb2a9dedf2fa819356a": {
      "model_module": "@jupyter-widgets/controls",
      "model_module_version": "1.5.0",
      "model_name": "HBoxModel",
      "state": {
       "_dom_classes": [],
       "_model_module": "@jupyter-widgets/controls",
       "_model_module_version": "1.5.0",
       "_model_name": "HBoxModel",
       "_view_count": null,
       "_view_module": "@jupyter-widgets/controls",
       "_view_module_version": "1.5.0",
       "_view_name": "HBoxView",
       "box_style": "",
       "children": [
        "IPY_MODEL_ee9f7be91d5b4b6882646870325ce2fd",
        "IPY_MODEL_bdacae63c14c48c1abfe71e90cb512b9",
        "IPY_MODEL_eed1933e474c4685b1f29c428e8db8af"
       ],
       "layout": "IPY_MODEL_aecce9e3220048109349d5b6792add06"
      }
     },
     "80249e45ef88423b9fc15404d6206385": {
      "model_module": "@jupyter-widgets/base",
      "model_module_version": "1.2.0",
      "model_name": "LayoutModel",
      "state": {
       "_model_module": "@jupyter-widgets/base",
       "_model_module_version": "1.2.0",
       "_model_name": "LayoutModel",
       "_view_count": null,
       "_view_module": "@jupyter-widgets/base",
       "_view_module_version": "1.2.0",
       "_view_name": "LayoutView",
       "align_content": null,
       "align_items": null,
       "align_self": null,
       "border": null,
       "bottom": null,
       "display": null,
       "flex": null,
       "flex_flow": null,
       "grid_area": null,
       "grid_auto_columns": null,
       "grid_auto_flow": null,
       "grid_auto_rows": null,
       "grid_column": null,
       "grid_gap": null,
       "grid_row": null,
       "grid_template_areas": null,
       "grid_template_columns": null,
       "grid_template_rows": null,
       "height": null,
       "justify_content": null,
       "justify_items": null,
       "left": null,
       "margin": null,
       "max_height": null,
       "max_width": null,
       "min_height": null,
       "min_width": null,
       "object_fit": null,
       "object_position": null,
       "order": null,
       "overflow": null,
       "overflow_x": null,
       "overflow_y": null,
       "padding": null,
       "right": null,
       "top": null,
       "visibility": null,
       "width": null
      }
     },
     "82dc110aba4646d4a73c1336cfbce1c1": {
      "model_module": "@jupyter-widgets/controls",
      "model_module_version": "1.5.0",
      "model_name": "FloatProgressModel",
      "state": {
       "_dom_classes": [],
       "_model_module": "@jupyter-widgets/controls",
       "_model_module_version": "1.5.0",
       "_model_name": "FloatProgressModel",
       "_view_count": null,
       "_view_module": "@jupyter-widgets/controls",
       "_view_module_version": "1.5.0",
       "_view_name": "ProgressView",
       "bar_style": "success",
       "description": "",
       "description_tooltip": null,
       "layout": "IPY_MODEL_5ea160a1e58d41c480bf69539dbc39dc",
       "max": 1430,
       "min": 0,
       "orientation": "horizontal",
       "style": "IPY_MODEL_5d84fe7d645647f881bc83d309958438",
       "value": 1430
      }
     },
     "86ef747f41a64deb9fd973051628ed68": {
      "model_module": "@jupyter-widgets/base",
      "model_module_version": "1.2.0",
      "model_name": "LayoutModel",
      "state": {
       "_model_module": "@jupyter-widgets/base",
       "_model_module_version": "1.2.0",
       "_model_name": "LayoutModel",
       "_view_count": null,
       "_view_module": "@jupyter-widgets/base",
       "_view_module_version": "1.2.0",
       "_view_name": "LayoutView",
       "align_content": null,
       "align_items": null,
       "align_self": null,
       "border": null,
       "bottom": null,
       "display": null,
       "flex": null,
       "flex_flow": null,
       "grid_area": null,
       "grid_auto_columns": null,
       "grid_auto_flow": null,
       "grid_auto_rows": null,
       "grid_column": null,
       "grid_gap": null,
       "grid_row": null,
       "grid_template_areas": null,
       "grid_template_columns": null,
       "grid_template_rows": null,
       "height": null,
       "justify_content": null,
       "justify_items": null,
       "left": null,
       "margin": null,
       "max_height": null,
       "max_width": null,
       "min_height": null,
       "min_width": null,
       "object_fit": null,
       "object_position": null,
       "order": null,
       "overflow": null,
       "overflow_x": null,
       "overflow_y": null,
       "padding": null,
       "right": null,
       "top": null,
       "visibility": null,
       "width": null
      }
     },
     "8735469ee94d40728a8ef6019e3e8c78": {
      "model_module": "@jupyter-widgets/base",
      "model_module_version": "1.2.0",
      "model_name": "LayoutModel",
      "state": {
       "_model_module": "@jupyter-widgets/base",
       "_model_module_version": "1.2.0",
       "_model_name": "LayoutModel",
       "_view_count": null,
       "_view_module": "@jupyter-widgets/base",
       "_view_module_version": "1.2.0",
       "_view_name": "LayoutView",
       "align_content": null,
       "align_items": null,
       "align_self": null,
       "border": null,
       "bottom": null,
       "display": null,
       "flex": null,
       "flex_flow": null,
       "grid_area": null,
       "grid_auto_columns": null,
       "grid_auto_flow": null,
       "grid_auto_rows": null,
       "grid_column": null,
       "grid_gap": null,
       "grid_row": null,
       "grid_template_areas": null,
       "grid_template_columns": null,
       "grid_template_rows": null,
       "height": null,
       "justify_content": null,
       "justify_items": null,
       "left": null,
       "margin": null,
       "max_height": null,
       "max_width": null,
       "min_height": null,
       "min_width": null,
       "object_fit": null,
       "object_position": null,
       "order": null,
       "overflow": null,
       "overflow_x": null,
       "overflow_y": null,
       "padding": null,
       "right": null,
       "top": null,
       "visibility": null,
       "width": null
      }
     },
     "88c37f62b12b464892e83bfc2b367156": {
      "model_module": "@jupyter-widgets/controls",
      "model_module_version": "1.5.0",
      "model_name": "ProgressStyleModel",
      "state": {
       "_model_module": "@jupyter-widgets/controls",
       "_model_module_version": "1.5.0",
       "_model_name": "ProgressStyleModel",
       "_view_count": null,
       "_view_module": "@jupyter-widgets/base",
       "_view_module_version": "1.2.0",
       "_view_name": "StyleView",
       "bar_color": null,
       "description_width": ""
      }
     },
     "8ea9b07e725c4184895de4a0fb33a3ab": {
      "model_module": "@jupyter-widgets/controls",
      "model_module_version": "1.5.0",
      "model_name": "HTMLModel",
      "state": {
       "_dom_classes": [],
       "_model_module": "@jupyter-widgets/controls",
       "_model_module_version": "1.5.0",
       "_model_name": "HTMLModel",
       "_view_count": null,
       "_view_module": "@jupyter-widgets/controls",
       "_view_module_version": "1.5.0",
       "_view_name": "HTMLView",
       "description": "",
       "description_tooltip": null,
       "layout": "IPY_MODEL_f0d045a5094d44669bfb4c7dfd71a272",
       "placeholder": "​",
       "style": "IPY_MODEL_e9ba5aafc8a1472e914dff5978955cb6",
       "value": " 1430/1430 [09:51&lt;00:00,  2.44it/s]"
      }
     },
     "959b6cd149d64207b4b593f6f21fbf85": {
      "model_module": "@jupyter-widgets/base",
      "model_module_version": "1.2.0",
      "model_name": "LayoutModel",
      "state": {
       "_model_module": "@jupyter-widgets/base",
       "_model_module_version": "1.2.0",
       "_model_name": "LayoutModel",
       "_view_count": null,
       "_view_module": "@jupyter-widgets/base",
       "_view_module_version": "1.2.0",
       "_view_name": "LayoutView",
       "align_content": null,
       "align_items": null,
       "align_self": null,
       "border": null,
       "bottom": null,
       "display": null,
       "flex": null,
       "flex_flow": null,
       "grid_area": null,
       "grid_auto_columns": null,
       "grid_auto_flow": null,
       "grid_auto_rows": null,
       "grid_column": null,
       "grid_gap": null,
       "grid_row": null,
       "grid_template_areas": null,
       "grid_template_columns": null,
       "grid_template_rows": null,
       "height": null,
       "justify_content": null,
       "justify_items": null,
       "left": null,
       "margin": null,
       "max_height": null,
       "max_width": null,
       "min_height": null,
       "min_width": null,
       "object_fit": null,
       "object_position": null,
       "order": null,
       "overflow": null,
       "overflow_x": null,
       "overflow_y": null,
       "padding": null,
       "right": null,
       "top": null,
       "visibility": null,
       "width": null
      }
     },
     "972a2bd979314dac9051d1d2f06f1a26": {
      "model_module": "@jupyter-widgets/controls",
      "model_module_version": "1.5.0",
      "model_name": "HTMLModel",
      "state": {
       "_dom_classes": [],
       "_model_module": "@jupyter-widgets/controls",
       "_model_module_version": "1.5.0",
       "_model_name": "HTMLModel",
       "_view_count": null,
       "_view_module": "@jupyter-widgets/controls",
       "_view_module_version": "1.5.0",
       "_view_name": "HTMLView",
       "description": "",
       "description_tooltip": null,
       "layout": "IPY_MODEL_b6bdb091803f46e4986bc6190208d25e",
       "placeholder": "​",
       "style": "IPY_MODEL_d053c65333ce4f94b32035c6debd143e",
       "value": " 1430/1430 [09:53&lt;00:00,  2.36it/s]"
      }
     },
     "9c694772f10f4a5eb41b66792ca9af96": {
      "model_module": "@jupyter-widgets/controls",
      "model_module_version": "1.5.0",
      "model_name": "HTMLModel",
      "state": {
       "_dom_classes": [],
       "_model_module": "@jupyter-widgets/controls",
       "_model_module_version": "1.5.0",
       "_model_name": "HTMLModel",
       "_view_count": null,
       "_view_module": "@jupyter-widgets/controls",
       "_view_module_version": "1.5.0",
       "_view_name": "HTMLView",
       "description": "",
       "description_tooltip": null,
       "layout": "IPY_MODEL_8735469ee94d40728a8ef6019e3e8c78",
       "placeholder": "​",
       "style": "IPY_MODEL_105019620e404da09ed6716d58decbd8",
       "value": " 1/1 [00:00&lt;00:00,  5.92it/s]"
      }
     },
     "a1a058b73cfd4adcb7f283d46065ebe6": {
      "model_module": "@jupyter-widgets/controls",
      "model_module_version": "1.5.0",
      "model_name": "FloatProgressModel",
      "state": {
       "_dom_classes": [],
       "_model_module": "@jupyter-widgets/controls",
       "_model_module_version": "1.5.0",
       "_model_name": "FloatProgressModel",
       "_view_count": null,
       "_view_module": "@jupyter-widgets/controls",
       "_view_module_version": "1.5.0",
       "_view_name": "ProgressView",
       "bar_style": "success",
       "description": "",
       "description_tooltip": null,
       "layout": "IPY_MODEL_86ef747f41a64deb9fd973051628ed68",
       "max": 1,
       "min": 0,
       "orientation": "horizontal",
       "style": "IPY_MODEL_d4a7c566e8cf4e45be6a775362250e05",
       "value": 1
      }
     },
     "a7b7af3aeaa7456aa21de14103c4083f": {
      "model_module": "@jupyter-widgets/controls",
      "model_module_version": "1.5.0",
      "model_name": "FloatProgressModel",
      "state": {
       "_dom_classes": [],
       "_model_module": "@jupyter-widgets/controls",
       "_model_module_version": "1.5.0",
       "_model_name": "FloatProgressModel",
       "_view_count": null,
       "_view_module": "@jupyter-widgets/controls",
       "_view_module_version": "1.5.0",
       "_view_name": "ProgressView",
       "bar_style": "success",
       "description": "",
       "description_tooltip": null,
       "layout": "IPY_MODEL_e89e4a1f7a9f4cc1820c29b285e3f453",
       "max": 1430,
       "min": 0,
       "orientation": "horizontal",
       "style": "IPY_MODEL_3eefe553405e44efb4b70a243af1caa8",
       "value": 1430
      }
     },
     "a9a09ffa453844f8b6fa6217727afdb2": {
      "model_module": "@jupyter-widgets/controls",
      "model_module_version": "1.5.0",
      "model_name": "HTMLModel",
      "state": {
       "_dom_classes": [],
       "_model_module": "@jupyter-widgets/controls",
       "_model_module_version": "1.5.0",
       "_model_name": "HTMLModel",
       "_view_count": null,
       "_view_module": "@jupyter-widgets/controls",
       "_view_module_version": "1.5.0",
       "_view_name": "HTMLView",
       "description": "",
       "description_tooltip": null,
       "layout": "IPY_MODEL_3030ae80993c476b946b084ee9aef0ed",
       "placeholder": "​",
       "style": "IPY_MODEL_767cf44b8ae9497bbe2af146c65af9ce",
       "value": "100%"
      }
     },
     "ab365bc6902c4e77aafa6b254a30ceae": {
      "model_module": "@jupyter-widgets/controls",
      "model_module_version": "1.5.0",
      "model_name": "DescriptionStyleModel",
      "state": {
       "_model_module": "@jupyter-widgets/controls",
       "_model_module_version": "1.5.0",
       "_model_name": "DescriptionStyleModel",
       "_view_count": null,
       "_view_module": "@jupyter-widgets/base",
       "_view_module_version": "1.2.0",
       "_view_name": "StyleView",
       "description_width": ""
      }
     },
     "ab8162d76e5c48bda95ef034b9ce9c37": {
      "model_module": "@jupyter-widgets/controls",
      "model_module_version": "1.5.0",
      "model_name": "DescriptionStyleModel",
      "state": {
       "_model_module": "@jupyter-widgets/controls",
       "_model_module_version": "1.5.0",
       "_model_name": "DescriptionStyleModel",
       "_view_count": null,
       "_view_module": "@jupyter-widgets/base",
       "_view_module_version": "1.2.0",
       "_view_name": "StyleView",
       "description_width": ""
      }
     },
     "ac6ccef0911846dd851c1338deaa4d12": {
      "model_module": "@jupyter-widgets/controls",
      "model_module_version": "1.5.0",
      "model_name": "DescriptionStyleModel",
      "state": {
       "_model_module": "@jupyter-widgets/controls",
       "_model_module_version": "1.5.0",
       "_model_name": "DescriptionStyleModel",
       "_view_count": null,
       "_view_module": "@jupyter-widgets/base",
       "_view_module_version": "1.2.0",
       "_view_name": "StyleView",
       "description_width": ""
      }
     },
     "aecce9e3220048109349d5b6792add06": {
      "model_module": "@jupyter-widgets/base",
      "model_module_version": "1.2.0",
      "model_name": "LayoutModel",
      "state": {
       "_model_module": "@jupyter-widgets/base",
       "_model_module_version": "1.2.0",
       "_model_name": "LayoutModel",
       "_view_count": null,
       "_view_module": "@jupyter-widgets/base",
       "_view_module_version": "1.2.0",
       "_view_name": "LayoutView",
       "align_content": null,
       "align_items": null,
       "align_self": null,
       "border": null,
       "bottom": null,
       "display": null,
       "flex": null,
       "flex_flow": null,
       "grid_area": null,
       "grid_auto_columns": null,
       "grid_auto_flow": null,
       "grid_auto_rows": null,
       "grid_column": null,
       "grid_gap": null,
       "grid_row": null,
       "grid_template_areas": null,
       "grid_template_columns": null,
       "grid_template_rows": null,
       "height": null,
       "justify_content": null,
       "justify_items": null,
       "left": null,
       "margin": null,
       "max_height": null,
       "max_width": null,
       "min_height": null,
       "min_width": null,
       "object_fit": null,
       "object_position": null,
       "order": null,
       "overflow": null,
       "overflow_x": null,
       "overflow_y": null,
       "padding": null,
       "right": null,
       "top": null,
       "visibility": null,
       "width": null
      }
     },
     "b357df79302b4dada9342b453a01c2e2": {
      "model_module": "@jupyter-widgets/base",
      "model_module_version": "1.2.0",
      "model_name": "LayoutModel",
      "state": {
       "_model_module": "@jupyter-widgets/base",
       "_model_module_version": "1.2.0",
       "_model_name": "LayoutModel",
       "_view_count": null,
       "_view_module": "@jupyter-widgets/base",
       "_view_module_version": "1.2.0",
       "_view_name": "LayoutView",
       "align_content": null,
       "align_items": null,
       "align_self": null,
       "border": null,
       "bottom": null,
       "display": null,
       "flex": null,
       "flex_flow": null,
       "grid_area": null,
       "grid_auto_columns": null,
       "grid_auto_flow": null,
       "grid_auto_rows": null,
       "grid_column": null,
       "grid_gap": null,
       "grid_row": null,
       "grid_template_areas": null,
       "grid_template_columns": null,
       "grid_template_rows": null,
       "height": null,
       "justify_content": null,
       "justify_items": null,
       "left": null,
       "margin": null,
       "max_height": null,
       "max_width": null,
       "min_height": null,
       "min_width": null,
       "object_fit": null,
       "object_position": null,
       "order": null,
       "overflow": null,
       "overflow_x": null,
       "overflow_y": null,
       "padding": null,
       "right": null,
       "top": null,
       "visibility": null,
       "width": null
      }
     },
     "b472491f89184af18745685c85cdd5b5": {
      "model_module": "@jupyter-widgets/controls",
      "model_module_version": "1.5.0",
      "model_name": "HBoxModel",
      "state": {
       "_dom_classes": [],
       "_model_module": "@jupyter-widgets/controls",
       "_model_module_version": "1.5.0",
       "_model_name": "HBoxModel",
       "_view_count": null,
       "_view_module": "@jupyter-widgets/controls",
       "_view_module_version": "1.5.0",
       "_view_name": "HBoxView",
       "box_style": "",
       "children": [
        "IPY_MODEL_f467b430904649189ec534b5e0aa3563",
        "IPY_MODEL_a1a058b73cfd4adcb7f283d46065ebe6",
        "IPY_MODEL_9c694772f10f4a5eb41b66792ca9af96"
       ],
       "layout": "IPY_MODEL_1c9179b5e1284b35a9e8606527c8a152"
      }
     },
     "b6bdb091803f46e4986bc6190208d25e": {
      "model_module": "@jupyter-widgets/base",
      "model_module_version": "1.2.0",
      "model_name": "LayoutModel",
      "state": {
       "_model_module": "@jupyter-widgets/base",
       "_model_module_version": "1.2.0",
       "_model_name": "LayoutModel",
       "_view_count": null,
       "_view_module": "@jupyter-widgets/base",
       "_view_module_version": "1.2.0",
       "_view_name": "LayoutView",
       "align_content": null,
       "align_items": null,
       "align_self": null,
       "border": null,
       "bottom": null,
       "display": null,
       "flex": null,
       "flex_flow": null,
       "grid_area": null,
       "grid_auto_columns": null,
       "grid_auto_flow": null,
       "grid_auto_rows": null,
       "grid_column": null,
       "grid_gap": null,
       "grid_row": null,
       "grid_template_areas": null,
       "grid_template_columns": null,
       "grid_template_rows": null,
       "height": null,
       "justify_content": null,
       "justify_items": null,
       "left": null,
       "margin": null,
       "max_height": null,
       "max_width": null,
       "min_height": null,
       "min_width": null,
       "object_fit": null,
       "object_position": null,
       "order": null,
       "overflow": null,
       "overflow_x": null,
       "overflow_y": null,
       "padding": null,
       "right": null,
       "top": null,
       "visibility": null,
       "width": null
      }
     },
     "b71d7e678956490eb613b53bb1b0f5c2": {
      "model_module": "@jupyter-widgets/base",
      "model_module_version": "1.2.0",
      "model_name": "LayoutModel",
      "state": {
       "_model_module": "@jupyter-widgets/base",
       "_model_module_version": "1.2.0",
       "_model_name": "LayoutModel",
       "_view_count": null,
       "_view_module": "@jupyter-widgets/base",
       "_view_module_version": "1.2.0",
       "_view_name": "LayoutView",
       "align_content": null,
       "align_items": null,
       "align_self": null,
       "border": null,
       "bottom": null,
       "display": null,
       "flex": null,
       "flex_flow": null,
       "grid_area": null,
       "grid_auto_columns": null,
       "grid_auto_flow": null,
       "grid_auto_rows": null,
       "grid_column": null,
       "grid_gap": null,
       "grid_row": null,
       "grid_template_areas": null,
       "grid_template_columns": null,
       "grid_template_rows": null,
       "height": null,
       "justify_content": null,
       "justify_items": null,
       "left": null,
       "margin": null,
       "max_height": null,
       "max_width": null,
       "min_height": null,
       "min_width": null,
       "object_fit": null,
       "object_position": null,
       "order": null,
       "overflow": null,
       "overflow_x": null,
       "overflow_y": null,
       "padding": null,
       "right": null,
       "top": null,
       "visibility": null,
       "width": null
      }
     },
     "bdacae63c14c48c1abfe71e90cb512b9": {
      "model_module": "@jupyter-widgets/controls",
      "model_module_version": "1.5.0",
      "model_name": "FloatProgressModel",
      "state": {
       "_dom_classes": [],
       "_model_module": "@jupyter-widgets/controls",
       "_model_module_version": "1.5.0",
       "_model_name": "FloatProgressModel",
       "_view_count": null,
       "_view_module": "@jupyter-widgets/controls",
       "_view_module_version": "1.5.0",
       "_view_name": "ProgressView",
       "bar_style": "success",
       "description": "",
       "description_tooltip": null,
       "layout": "IPY_MODEL_c0a04c8b22304c18b870c0b400333ccd",
       "max": 358,
       "min": 0,
       "orientation": "horizontal",
       "style": "IPY_MODEL_88c37f62b12b464892e83bfc2b367156",
       "value": 358
      }
     },
     "c0a04c8b22304c18b870c0b400333ccd": {
      "model_module": "@jupyter-widgets/base",
      "model_module_version": "1.2.0",
      "model_name": "LayoutModel",
      "state": {
       "_model_module": "@jupyter-widgets/base",
       "_model_module_version": "1.2.0",
       "_model_name": "LayoutModel",
       "_view_count": null,
       "_view_module": "@jupyter-widgets/base",
       "_view_module_version": "1.2.0",
       "_view_name": "LayoutView",
       "align_content": null,
       "align_items": null,
       "align_self": null,
       "border": null,
       "bottom": null,
       "display": null,
       "flex": null,
       "flex_flow": null,
       "grid_area": null,
       "grid_auto_columns": null,
       "grid_auto_flow": null,
       "grid_auto_rows": null,
       "grid_column": null,
       "grid_gap": null,
       "grid_row": null,
       "grid_template_areas": null,
       "grid_template_columns": null,
       "grid_template_rows": null,
       "height": null,
       "justify_content": null,
       "justify_items": null,
       "left": null,
       "margin": null,
       "max_height": null,
       "max_width": null,
       "min_height": null,
       "min_width": null,
       "object_fit": null,
       "object_position": null,
       "order": null,
       "overflow": null,
       "overflow_x": null,
       "overflow_y": null,
       "padding": null,
       "right": null,
       "top": null,
       "visibility": null,
       "width": null
      }
     },
     "c0df65b03ab24b09a4ea773dbf4b9dd8": {
      "model_module": "@jupyter-widgets/base",
      "model_module_version": "1.2.0",
      "model_name": "LayoutModel",
      "state": {
       "_model_module": "@jupyter-widgets/base",
       "_model_module_version": "1.2.0",
       "_model_name": "LayoutModel",
       "_view_count": null,
       "_view_module": "@jupyter-widgets/base",
       "_view_module_version": "1.2.0",
       "_view_name": "LayoutView",
       "align_content": null,
       "align_items": null,
       "align_self": null,
       "border": null,
       "bottom": null,
       "display": null,
       "flex": null,
       "flex_flow": null,
       "grid_area": null,
       "grid_auto_columns": null,
       "grid_auto_flow": null,
       "grid_auto_rows": null,
       "grid_column": null,
       "grid_gap": null,
       "grid_row": null,
       "grid_template_areas": null,
       "grid_template_columns": null,
       "grid_template_rows": null,
       "height": null,
       "justify_content": null,
       "justify_items": null,
       "left": null,
       "margin": null,
       "max_height": null,
       "max_width": null,
       "min_height": null,
       "min_width": null,
       "object_fit": null,
       "object_position": null,
       "order": null,
       "overflow": null,
       "overflow_x": null,
       "overflow_y": null,
       "padding": null,
       "right": null,
       "top": null,
       "visibility": null,
       "width": null
      }
     },
     "c4bd0f31dc504c1296529b647f7bbac0": {
      "model_module": "@jupyter-widgets/controls",
      "model_module_version": "1.5.0",
      "model_name": "HTMLModel",
      "state": {
       "_dom_classes": [],
       "_model_module": "@jupyter-widgets/controls",
       "_model_module_version": "1.5.0",
       "_model_name": "HTMLModel",
       "_view_count": null,
       "_view_module": "@jupyter-widgets/controls",
       "_view_module_version": "1.5.0",
       "_view_name": "HTMLView",
       "description": "",
       "description_tooltip": null,
       "layout": "IPY_MODEL_6dbbfe6cb36542638e9341decaa3a485",
       "placeholder": "​",
       "style": "IPY_MODEL_450227989b4f4af6958e09ec9cc638b8",
       "value": "100%"
      }
     },
     "c88e7921433c44d5bccfae72e24bdb15": {
      "model_module": "@jupyter-widgets/base",
      "model_module_version": "1.2.0",
      "model_name": "LayoutModel",
      "state": {
       "_model_module": "@jupyter-widgets/base",
       "_model_module_version": "1.2.0",
       "_model_name": "LayoutModel",
       "_view_count": null,
       "_view_module": "@jupyter-widgets/base",
       "_view_module_version": "1.2.0",
       "_view_name": "LayoutView",
       "align_content": null,
       "align_items": null,
       "align_self": null,
       "border": null,
       "bottom": null,
       "display": null,
       "flex": null,
       "flex_flow": null,
       "grid_area": null,
       "grid_auto_columns": null,
       "grid_auto_flow": null,
       "grid_auto_rows": null,
       "grid_column": null,
       "grid_gap": null,
       "grid_row": null,
       "grid_template_areas": null,
       "grid_template_columns": null,
       "grid_template_rows": null,
       "height": null,
       "justify_content": null,
       "justify_items": null,
       "left": null,
       "margin": null,
       "max_height": null,
       "max_width": null,
       "min_height": null,
       "min_width": null,
       "object_fit": null,
       "object_position": null,
       "order": null,
       "overflow": null,
       "overflow_x": null,
       "overflow_y": null,
       "padding": null,
       "right": null,
       "top": null,
       "visibility": null,
       "width": null
      }
     },
     "c97d429673684663b7b98014289ebf2d": {
      "model_module": "@jupyter-widgets/controls",
      "model_module_version": "1.5.0",
      "model_name": "HTMLModel",
      "state": {
       "_dom_classes": [],
       "_model_module": "@jupyter-widgets/controls",
       "_model_module_version": "1.5.0",
       "_model_name": "HTMLModel",
       "_view_count": null,
       "_view_module": "@jupyter-widgets/controls",
       "_view_module_version": "1.5.0",
       "_view_name": "HTMLView",
       "description": "",
       "description_tooltip": null,
       "layout": "IPY_MODEL_b357df79302b4dada9342b453a01c2e2",
       "placeholder": "​",
       "style": "IPY_MODEL_ee66f4de195e439fba9b91f89b769662",
       "value": " 358/358 [00:50&lt;00:00,  7.15it/s]"
      }
     },
     "cd8ebcaad81c4420993cd3a45d553c49": {
      "model_module": "@jupyter-widgets/base",
      "model_module_version": "1.2.0",
      "model_name": "LayoutModel",
      "state": {
       "_model_module": "@jupyter-widgets/base",
       "_model_module_version": "1.2.0",
       "_model_name": "LayoutModel",
       "_view_count": null,
       "_view_module": "@jupyter-widgets/base",
       "_view_module_version": "1.2.0",
       "_view_name": "LayoutView",
       "align_content": null,
       "align_items": null,
       "align_self": null,
       "border": null,
       "bottom": null,
       "display": null,
       "flex": null,
       "flex_flow": null,
       "grid_area": null,
       "grid_auto_columns": null,
       "grid_auto_flow": null,
       "grid_auto_rows": null,
       "grid_column": null,
       "grid_gap": null,
       "grid_row": null,
       "grid_template_areas": null,
       "grid_template_columns": null,
       "grid_template_rows": null,
       "height": null,
       "justify_content": null,
       "justify_items": null,
       "left": null,
       "margin": null,
       "max_height": null,
       "max_width": null,
       "min_height": null,
       "min_width": null,
       "object_fit": null,
       "object_position": null,
       "order": null,
       "overflow": null,
       "overflow_x": null,
       "overflow_y": null,
       "padding": null,
       "right": null,
       "top": null,
       "visibility": null,
       "width": null
      }
     },
     "d053c65333ce4f94b32035c6debd143e": {
      "model_module": "@jupyter-widgets/controls",
      "model_module_version": "1.5.0",
      "model_name": "DescriptionStyleModel",
      "state": {
       "_model_module": "@jupyter-widgets/controls",
       "_model_module_version": "1.5.0",
       "_model_name": "DescriptionStyleModel",
       "_view_count": null,
       "_view_module": "@jupyter-widgets/base",
       "_view_module_version": "1.2.0",
       "_view_name": "StyleView",
       "description_width": ""
      }
     },
     "d1a5ad05957a42fda701c3fd4d9fd4a5": {
      "model_module": "@jupyter-widgets/base",
      "model_module_version": "1.2.0",
      "model_name": "LayoutModel",
      "state": {
       "_model_module": "@jupyter-widgets/base",
       "_model_module_version": "1.2.0",
       "_model_name": "LayoutModel",
       "_view_count": null,
       "_view_module": "@jupyter-widgets/base",
       "_view_module_version": "1.2.0",
       "_view_name": "LayoutView",
       "align_content": null,
       "align_items": null,
       "align_self": null,
       "border": null,
       "bottom": null,
       "display": null,
       "flex": null,
       "flex_flow": null,
       "grid_area": null,
       "grid_auto_columns": null,
       "grid_auto_flow": null,
       "grid_auto_rows": null,
       "grid_column": null,
       "grid_gap": null,
       "grid_row": null,
       "grid_template_areas": null,
       "grid_template_columns": null,
       "grid_template_rows": null,
       "height": null,
       "justify_content": null,
       "justify_items": null,
       "left": null,
       "margin": null,
       "max_height": null,
       "max_width": null,
       "min_height": null,
       "min_width": null,
       "object_fit": null,
       "object_position": null,
       "order": null,
       "overflow": null,
       "overflow_x": null,
       "overflow_y": null,
       "padding": null,
       "right": null,
       "top": null,
       "visibility": null,
       "width": null
      }
     },
     "d4a7c566e8cf4e45be6a775362250e05": {
      "model_module": "@jupyter-widgets/controls",
      "model_module_version": "1.5.0",
      "model_name": "ProgressStyleModel",
      "state": {
       "_model_module": "@jupyter-widgets/controls",
       "_model_module_version": "1.5.0",
       "_model_name": "ProgressStyleModel",
       "_view_count": null,
       "_view_module": "@jupyter-widgets/base",
       "_view_module_version": "1.2.0",
       "_view_name": "StyleView",
       "bar_color": null,
       "description_width": ""
      }
     },
     "d9429ea7c71d432b9f27bd506d6a05fc": {
      "model_module": "@jupyter-widgets/controls",
      "model_module_version": "1.5.0",
      "model_name": "DescriptionStyleModel",
      "state": {
       "_model_module": "@jupyter-widgets/controls",
       "_model_module_version": "1.5.0",
       "_model_name": "DescriptionStyleModel",
       "_view_count": null,
       "_view_module": "@jupyter-widgets/base",
       "_view_module_version": "1.2.0",
       "_view_name": "StyleView",
       "description_width": ""
      }
     },
     "e7892ecf3d8c4d24a59a288852e1636c": {
      "model_module": "@jupyter-widgets/base",
      "model_module_version": "1.2.0",
      "model_name": "LayoutModel",
      "state": {
       "_model_module": "@jupyter-widgets/base",
       "_model_module_version": "1.2.0",
       "_model_name": "LayoutModel",
       "_view_count": null,
       "_view_module": "@jupyter-widgets/base",
       "_view_module_version": "1.2.0",
       "_view_name": "LayoutView",
       "align_content": null,
       "align_items": null,
       "align_self": null,
       "border": null,
       "bottom": null,
       "display": null,
       "flex": null,
       "flex_flow": null,
       "grid_area": null,
       "grid_auto_columns": null,
       "grid_auto_flow": null,
       "grid_auto_rows": null,
       "grid_column": null,
       "grid_gap": null,
       "grid_row": null,
       "grid_template_areas": null,
       "grid_template_columns": null,
       "grid_template_rows": null,
       "height": null,
       "justify_content": null,
       "justify_items": null,
       "left": null,
       "margin": null,
       "max_height": null,
       "max_width": null,
       "min_height": null,
       "min_width": null,
       "object_fit": null,
       "object_position": null,
       "order": null,
       "overflow": null,
       "overflow_x": null,
       "overflow_y": null,
       "padding": null,
       "right": null,
       "top": null,
       "visibility": null,
       "width": null
      }
     },
     "e82b5a8676dd4b95900fda5b9b71415e": {
      "model_module": "@jupyter-widgets/base",
      "model_module_version": "1.2.0",
      "model_name": "LayoutModel",
      "state": {
       "_model_module": "@jupyter-widgets/base",
       "_model_module_version": "1.2.0",
       "_model_name": "LayoutModel",
       "_view_count": null,
       "_view_module": "@jupyter-widgets/base",
       "_view_module_version": "1.2.0",
       "_view_name": "LayoutView",
       "align_content": null,
       "align_items": null,
       "align_self": null,
       "border": null,
       "bottom": null,
       "display": null,
       "flex": null,
       "flex_flow": null,
       "grid_area": null,
       "grid_auto_columns": null,
       "grid_auto_flow": null,
       "grid_auto_rows": null,
       "grid_column": null,
       "grid_gap": null,
       "grid_row": null,
       "grid_template_areas": null,
       "grid_template_columns": null,
       "grid_template_rows": null,
       "height": null,
       "justify_content": null,
       "justify_items": null,
       "left": null,
       "margin": null,
       "max_height": null,
       "max_width": null,
       "min_height": null,
       "min_width": null,
       "object_fit": null,
       "object_position": null,
       "order": null,
       "overflow": null,
       "overflow_x": null,
       "overflow_y": null,
       "padding": null,
       "right": null,
       "top": null,
       "visibility": null,
       "width": null
      }
     },
     "e89e4a1f7a9f4cc1820c29b285e3f453": {
      "model_module": "@jupyter-widgets/base",
      "model_module_version": "1.2.0",
      "model_name": "LayoutModel",
      "state": {
       "_model_module": "@jupyter-widgets/base",
       "_model_module_version": "1.2.0",
       "_model_name": "LayoutModel",
       "_view_count": null,
       "_view_module": "@jupyter-widgets/base",
       "_view_module_version": "1.2.0",
       "_view_name": "LayoutView",
       "align_content": null,
       "align_items": null,
       "align_self": null,
       "border": null,
       "bottom": null,
       "display": null,
       "flex": null,
       "flex_flow": null,
       "grid_area": null,
       "grid_auto_columns": null,
       "grid_auto_flow": null,
       "grid_auto_rows": null,
       "grid_column": null,
       "grid_gap": null,
       "grid_row": null,
       "grid_template_areas": null,
       "grid_template_columns": null,
       "grid_template_rows": null,
       "height": null,
       "justify_content": null,
       "justify_items": null,
       "left": null,
       "margin": null,
       "max_height": null,
       "max_width": null,
       "min_height": null,
       "min_width": null,
       "object_fit": null,
       "object_position": null,
       "order": null,
       "overflow": null,
       "overflow_x": null,
       "overflow_y": null,
       "padding": null,
       "right": null,
       "top": null,
       "visibility": null,
       "width": null
      }
     },
     "e9ba5aafc8a1472e914dff5978955cb6": {
      "model_module": "@jupyter-widgets/controls",
      "model_module_version": "1.5.0",
      "model_name": "DescriptionStyleModel",
      "state": {
       "_model_module": "@jupyter-widgets/controls",
       "_model_module_version": "1.5.0",
       "_model_name": "DescriptionStyleModel",
       "_view_count": null,
       "_view_module": "@jupyter-widgets/base",
       "_view_module_version": "1.2.0",
       "_view_name": "StyleView",
       "description_width": ""
      }
     },
     "ed5bc9159f8841ecba36360c31a57f2f": {
      "model_module": "@jupyter-widgets/controls",
      "model_module_version": "1.5.0",
      "model_name": "HTMLModel",
      "state": {
       "_dom_classes": [],
       "_model_module": "@jupyter-widgets/controls",
       "_model_module_version": "1.5.0",
       "_model_name": "HTMLModel",
       "_view_count": null,
       "_view_module": "@jupyter-widgets/controls",
       "_view_module_version": "1.5.0",
       "_view_name": "HTMLView",
       "description": "",
       "description_tooltip": null,
       "layout": "IPY_MODEL_4423dc3a1f4c439d89ae2d374a2a6a7b",
       "placeholder": "​",
       "style": "IPY_MODEL_1467c31bc0614c47bf20c14073d32f5b",
       "value": "100%"
      }
     },
     "ed5eb751552a46c292bb87017f2beff9": {
      "model_module": "@jupyter-widgets/controls",
      "model_module_version": "1.5.0",
      "model_name": "HTMLModel",
      "state": {
       "_dom_classes": [],
       "_model_module": "@jupyter-widgets/controls",
       "_model_module_version": "1.5.0",
       "_model_name": "HTMLModel",
       "_view_count": null,
       "_view_module": "@jupyter-widgets/controls",
       "_view_module_version": "1.5.0",
       "_view_name": "HTMLView",
       "description": "",
       "description_tooltip": null,
       "layout": "IPY_MODEL_29228339f3ec4c9e9888aa133b8a458f",
       "placeholder": "​",
       "style": "IPY_MODEL_d9429ea7c71d432b9f27bd506d6a05fc",
       "value": " 358/358 [00:50&lt;00:00,  7.16it/s]"
      }
     },
     "ee66f4de195e439fba9b91f89b769662": {
      "model_module": "@jupyter-widgets/controls",
      "model_module_version": "1.5.0",
      "model_name": "DescriptionStyleModel",
      "state": {
       "_model_module": "@jupyter-widgets/controls",
       "_model_module_version": "1.5.0",
       "_model_name": "DescriptionStyleModel",
       "_view_count": null,
       "_view_module": "@jupyter-widgets/base",
       "_view_module_version": "1.2.0",
       "_view_name": "StyleView",
       "description_width": ""
      }
     },
     "ee9f7be91d5b4b6882646870325ce2fd": {
      "model_module": "@jupyter-widgets/controls",
      "model_module_version": "1.5.0",
      "model_name": "HTMLModel",
      "state": {
       "_dom_classes": [],
       "_model_module": "@jupyter-widgets/controls",
       "_model_module_version": "1.5.0",
       "_model_name": "HTMLModel",
       "_view_count": null,
       "_view_module": "@jupyter-widgets/controls",
       "_view_module_version": "1.5.0",
       "_view_name": "HTMLView",
       "description": "",
       "description_tooltip": null,
       "layout": "IPY_MODEL_4c8ba5c1cfc74f55902290c8956de71b",
       "placeholder": "​",
       "style": "IPY_MODEL_ab8162d76e5c48bda95ef034b9ce9c37",
       "value": "100%"
      }
     },
     "eed1933e474c4685b1f29c428e8db8af": {
      "model_module": "@jupyter-widgets/controls",
      "model_module_version": "1.5.0",
      "model_name": "HTMLModel",
      "state": {
       "_dom_classes": [],
       "_model_module": "@jupyter-widgets/controls",
       "_model_module_version": "1.5.0",
       "_model_name": "HTMLModel",
       "_view_count": null,
       "_view_module": "@jupyter-widgets/controls",
       "_view_module_version": "1.5.0",
       "_view_name": "HTMLView",
       "description": "",
       "description_tooltip": null,
       "layout": "IPY_MODEL_36d77fb26d584684bf747271551d1dd2",
       "placeholder": "​",
       "style": "IPY_MODEL_25998bcb04b74b23ab32a6888f7a3d92",
       "value": " 358/358 [00:51&lt;00:00,  7.02it/s]"
      }
     },
     "f0d045a5094d44669bfb4c7dfd71a272": {
      "model_module": "@jupyter-widgets/base",
      "model_module_version": "1.2.0",
      "model_name": "LayoutModel",
      "state": {
       "_model_module": "@jupyter-widgets/base",
       "_model_module_version": "1.2.0",
       "_model_name": "LayoutModel",
       "_view_count": null,
       "_view_module": "@jupyter-widgets/base",
       "_view_module_version": "1.2.0",
       "_view_name": "LayoutView",
       "align_content": null,
       "align_items": null,
       "align_self": null,
       "border": null,
       "bottom": null,
       "display": null,
       "flex": null,
       "flex_flow": null,
       "grid_area": null,
       "grid_auto_columns": null,
       "grid_auto_flow": null,
       "grid_auto_rows": null,
       "grid_column": null,
       "grid_gap": null,
       "grid_row": null,
       "grid_template_areas": null,
       "grid_template_columns": null,
       "grid_template_rows": null,
       "height": null,
       "justify_content": null,
       "justify_items": null,
       "left": null,
       "margin": null,
       "max_height": null,
       "max_width": null,
       "min_height": null,
       "min_width": null,
       "object_fit": null,
       "object_position": null,
       "order": null,
       "overflow": null,
       "overflow_x": null,
       "overflow_y": null,
       "padding": null,
       "right": null,
       "top": null,
       "visibility": null,
       "width": null
      }
     },
     "f467b430904649189ec534b5e0aa3563": {
      "model_module": "@jupyter-widgets/controls",
      "model_module_version": "1.5.0",
      "model_name": "HTMLModel",
      "state": {
       "_dom_classes": [],
       "_model_module": "@jupyter-widgets/controls",
       "_model_module_version": "1.5.0",
       "_model_name": "HTMLModel",
       "_view_count": null,
       "_view_module": "@jupyter-widgets/controls",
       "_view_module_version": "1.5.0",
       "_view_name": "HTMLView",
       "description": "",
       "description_tooltip": null,
       "layout": "IPY_MODEL_169d3542cb234b7bb45c8376f48dcc7e",
       "placeholder": "​",
       "style": "IPY_MODEL_ab365bc6902c4e77aafa6b254a30ceae",
       "value": "100%"
      }
     },
     "fde6cdede4354605bc62856aee393471": {
      "model_module": "@jupyter-widgets/controls",
      "model_module_version": "1.5.0",
      "model_name": "HTMLModel",
      "state": {
       "_dom_classes": [],
       "_model_module": "@jupyter-widgets/controls",
       "_model_module_version": "1.5.0",
       "_model_name": "HTMLModel",
       "_view_count": null,
       "_view_module": "@jupyter-widgets/controls",
       "_view_module_version": "1.5.0",
       "_view_name": "HTMLView",
       "description": "",
       "description_tooltip": null,
       "layout": "IPY_MODEL_c88e7921433c44d5bccfae72e24bdb15",
       "placeholder": "​",
       "style": "IPY_MODEL_07fee3ad86414f8494852cf0664b215e",
       "value": " 1430/1430 [09:52&lt;00:00,  2.43it/s]"
      }
     }
    },
    "version_major": 2,
    "version_minor": 0
   }
  }
 },
 "nbformat": 4,
 "nbformat_minor": 5
}
