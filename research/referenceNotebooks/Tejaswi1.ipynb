{
 "cells": [
  {
   "cell_type": "markdown",
   "metadata": {},
   "source": [
    "Data Analysis\n",
    "============="
   ]
  },
  {
   "cell_type": "code",
   "execution_count": 1,
   "metadata": {},
   "outputs": [],
   "source": [
    "import pandas as pd\n",
    "import numpy as np"
   ]
  },
  {
   "cell_type": "markdown",
   "metadata": {},
   "source": [
    "FEATURES\n",
    "--------"
   ]
  },
  {
   "cell_type": "markdown",
   "metadata": {},
   "source": [
    "143 rows<br>\n",
    "3 columns:  \n",
    "<ol>\n",
    " <li>feature_num : unique ID no. of each complaint/ observation, in increasing order, not continuous</li>  \n",
    " <li>case_num : number of patients with that particular complaint/observation</li>  \n",
    " <li>feature_text : complaint/observation - distinct</li>\n",
    " </ol>"
   ]
  },
  {
   "cell_type": "code",
   "execution_count": 3,
   "metadata": {},
   "outputs": [],
   "source": [
    "#extact data from the features.csv file into a pandas dataframe\n",
    "features_df = pd.read_csv('../../data/nbme-score-clinical-patient-notes/features.csv')\n"
   ]
  },
  {
   "cell_type": "code",
   "execution_count": 6,
   "metadata": {},
   "outputs": [
    {
     "name": "stdout",
     "output_type": "stream",
     "text": [
      "   feature_num  case_num                                       feature_text\n",
      "0            0         0  Family-history-of-MI-OR-Family-history-of-myoc...\n",
      "1            1         0                 Family-history-of-thyroid-disorder\n",
      "2            2         0                                     Chest-pressure\n",
      "3            3         0                              Intermittent-symptoms\n",
      "4            4         0                                        Lightheaded\n",
      "Index(['feature_num', 'case_num', 'feature_text'], dtype='object')\n",
      "143\n"
     ]
    }
   ],
   "source": [
    "print(features_df.head(5))\n",
    "print(features_df.columns)\n",
    "print(len(features_df))\n"
   ]
  },
  {
   "cell_type": "markdown",
   "metadata": {},
   "source": [
    "PATIENT NOTES\n",
    "--------"
   ]
  },
  {
   "cell_type": "markdown",
   "metadata": {},
   "source": [
    "42146 rows<br>\n",
    "3 columns:  \n",
    "<ol>\n",
    " <li>pn_num : unique ID no. of each patient, increasing order</li>  \n",
    " <li>case_num : **idk what this represents**</li>  \n",
    " <li>pn_history : detailed description of complaints and observations. Most patients also have details of PMH, PSHH, FH, Social History, Medications, Sexual history, POS, Family history, Allergies. A patient has either all, or some of these details filled, under either acronyms or varying subheadings.</li>\n",
    " </ol>"
   ]
  },
  {
   "cell_type": "code",
   "execution_count": 7,
   "metadata": {},
   "outputs": [
    {
     "name": "stdout",
     "output_type": "stream",
     "text": [
      "   pn_num  case_num                                         pn_history\n",
      "0       0         0  17-year-old male, has come to the student heal...\n",
      "1       1         0  17 yo male with recurrent palpitations for the...\n",
      "2       2         0  Dillon Cleveland is a 17 y.o. male patient wit...\n",
      "3       3         0  a 17 yo m c/o palpitation started 3 mos ago; \\...\n",
      "4       4         0  17yo male with no pmh here for evaluation of p...\n",
      "Index(['pn_num', 'case_num', 'pn_history'], dtype='object')\n",
      "42146\n"
     ]
    }
   ],
   "source": [
    "\n",
    "patientnotes_df = pd.read_csv('../../data/nbme-score-clinical-patient-notes/patient_notes.csv')\n",
    "print(patientnotes_df.head(5))\n",
    "print(patientnotes_df.columns)\n",
    "print(len(patientnotes_df))\n"
   ]
  }
 ],
 "metadata": {
  "kernelspec": {
   "display_name": "Python 3",
   "language": "python",
   "name": "python3"
  },
  "language_info": {
   "codemirror_mode": {
    "name": "ipython",
    "version": 3
   },
   "file_extension": ".py",
   "mimetype": "text/x-python",
   "name": "python",
   "nbconvert_exporter": "python",
   "pygments_lexer": "ipython3",
   "version": "3.6.3"
  }
 },
 "nbformat": 4,
 "nbformat_minor": 2
}
