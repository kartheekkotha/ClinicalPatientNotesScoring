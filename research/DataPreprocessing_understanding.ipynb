{
 "cells": [
  {
   "cell_type": "code",
   "execution_count": 3,
   "metadata": {},
   "outputs": [],
   "source": [
    "import sys\n",
    "sys.path.append('../src')"
   ]
  },
  {
   "cell_type": "code",
   "execution_count": 4,
   "metadata": {},
   "outputs": [],
   "source": [
    "from logHelper import logger"
   ]
  },
  {
   "cell_type": "code",
   "execution_count": 5,
   "metadata": {},
   "outputs": [
    {
     "name": "stdout",
     "output_type": "stream",
     "text": [
      "[2024-03-06 13:07:31,860: INFO: 2381599552: Welcome to the custom Logging Page]\n"
     ]
    }
   ],
   "source": [
    "logger.info(\"Welcome to the custom Logging Page\")"
   ]
  },
  {
   "cell_type": "markdown",
   "metadata": {},
   "source": [
    "Data Analysis\n",
    "============="
   ]
  },
  {
   "cell_type": "code",
   "execution_count": 3,
   "metadata": {},
   "outputs": [],
   "source": [
    "\n",
    "import pandas as pd\n",
    "import numpy as np"
   ]
  },
  {
   "cell_type": "markdown",
   "metadata": {},
   "source": [
    "\n",
    "FEATURES\n",
    "--------\n",
    "143 rows<br>\n",
    "3 columns:  \n",
    "<ol>\n",
    " <li>feature_num : unique ID no. of each complaint/ observation, in increasing order, not continuous<br>143 unique vals</li>  \n",
    " <li>case_num : number of patients with that particular complaint/observation<br>10 unique vals</li>  \n",
    " <li>feature_text : complaint/observation - distinct<br>131 unique vals</li>\n",
    " </ol>"
   ]
  },
  {
   "cell_type": "code",
   "execution_count": 4,
   "metadata": {},
   "outputs": [
    {
     "name": "stdout",
     "output_type": "stream",
     "text": [
      "   feature_num  case_num                                       feature_text\n",
      "0            0         0  Family-history-of-MI-OR-Family-history-of-myoc...\n",
      "1            1         0                 Family-history-of-thyroid-disorder\n",
      "2            2         0                                     Chest-pressure\n",
      "3            3         0                              Intermittent-symptoms\n",
      "4            4         0                                        Lightheaded\n",
      "Index(['feature_num', 'case_num', 'feature_text'], dtype='object')\n",
      "143\n"
     ]
    }
   ],
   "source": [
    "\n",
    "#extact data from the features.csv file into a pandas dataframe\n",
    "features_df = pd.read_csv('../data/nbme-score-clinical-patient-notes/features.csv')\n",
    "\n",
    "print(features_df.head(5))\n",
    "print(features_df.columns)\n",
    "print(len(features_df))\n"
   ]
  },
  {
   "cell_type": "code",
   "execution_count": 6,
   "metadata": {},
   "outputs": [
    {
     "name": "stdout",
     "output_type": "stream",
     "text": [
      "feature_num 143\n",
      "case_num 10\n",
      "feature_text 131\n"
     ]
    }
   ],
   "source": [
    "#unique values in each col of features.csv\n",
    "for col in features_df.columns:\n",
    "    print(col, features_df[col].nunique())"
   ]
  },
  {
   "cell_type": "markdown",
   "metadata": {},
   "source": [
    "\n",
    "PATIENT NOTES\n",
    "--------\n",
    "42146 rows<br>\n",
    "3 columns:  \n",
    "<ol>\n",
    " <li>pn_num : unique ID no. of each patient, increasing order<br>42146 unique vals\n",
    " </li>  \n",
    " <li>case_num : **idk what this represents**<br>10 unique vals</li>  \n",
    " <li>pn_history : detailed description of complaints and observations. Most patients also have details of PMH, PSHH, FH, Social History, Medications, Sexual history, POS, Family history, Allergies. A patient has either all, or some of these details filled, under either acronyms or varying subheadings.<br>42146 unique vals</li>\n",
    " </ol>"
   ]
  },
  {
   "cell_type": "code",
   "execution_count": 5,
   "metadata": {},
   "outputs": [
    {
     "name": "stdout",
     "output_type": "stream",
     "text": [
      "   pn_num  case_num                                         pn_history\n",
      "0       0         0  17-year-old male, has come to the student heal...\n",
      "1       1         0  17 yo male with recurrent palpitations for the...\n",
      "2       2         0  Dillon Cleveland is a 17 y.o. male patient wit...\n",
      "3       3         0  a 17 yo m c/o palpitation started 3 mos ago; \\...\n",
      "4       4         0  17yo male with no pmh here for evaluation of p...\n",
      "Index(['pn_num', 'case_num', 'pn_history'], dtype='object')\n",
      "42146\n"
     ]
    }
   ],
   "source": [
    "\n",
    "\n",
    "patientnotes_df = pd.read_csv('../data/nbme-score-clinical-patient-notes/patient_notes.csv')\n",
    "print(patientnotes_df.head(5))\n",
    "print(patientnotes_df.columns)\n",
    "print(len(patientnotes_df))\n"
   ]
  },
  {
   "cell_type": "code",
   "execution_count": 7,
   "metadata": {},
   "outputs": [
    {
     "name": "stdout",
     "output_type": "stream",
     "text": [
      "pn_num 42146\n",
      "case_num 10\n",
      "pn_history 42146\n"
     ]
    }
   ],
   "source": [
    "#unique values in each col of patient_notes.csv\n",
    "for col in patientnotes_df.columns:\n",
    "    print(col, patientnotes_df[col].nunique())"
   ]
  },
  {
   "cell_type": "markdown",
   "metadata": {},
   "source": [
    "SAMPLE SUBMISSION\n",
    "--------\n",
    "5 rows<br>\n",
    "2 columns:  \n",
    "<ol>\n",
    " <li>id : submission number<br>5 unique vals\n",
    " </li>  \n",
    " <li>location : **idk what this represents**<br>3 unique vals, some NaN(blank) values</li>  \n",
    "\n",
    " </ol>"
   ]
  },
  {
   "cell_type": "code",
   "execution_count": 9,
   "metadata": {},
   "outputs": [
    {
     "name": "stdout",
     "output_type": "stream",
     "text": [
      "          id         location\n",
      "0  00016_000            0 100\n",
      "1  00016_001              NaN\n",
      "2  00016_002  200 250;300 400\n",
      "3  00016_003              NaN\n",
      "4  00016_004           75 110\n",
      "Index(['id', 'location'], dtype='object')\n",
      "5\n",
      "id 5\n",
      "location 3\n"
     ]
    }
   ],
   "source": [
    "\n",
    "\n",
    "samplesub_df = pd.read_csv('../data/nbme-score-clinical-patient-notes/sample_submission.csv')\n",
    "print(samplesub_df.head(5))\n",
    "print(samplesub_df.columns)\n",
    "print(len(samplesub_df))\n",
    "for col in samplesub_df.columns:\n",
    "    print(col, samplesub_df[col].nunique())"
   ]
  }
 ],
 "metadata": {
  "kernelspec": {
   "display_name": "Python 3",
   "language": "python",
   "name": "python3"
  },
  "language_info": {
   "codemirror_mode": {
    "name": "ipython",
    "version": 3
   },
   "file_extension": ".py",
   "mimetype": "text/x-python",
   "name": "python",
   "nbconvert_exporter": "python",
   "pygments_lexer": "ipython3",
   "version": "3.6.3"
  }
 },
 "nbformat": 4,
 "nbformat_minor": 2
}
