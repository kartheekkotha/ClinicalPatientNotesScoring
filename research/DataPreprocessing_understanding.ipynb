{
 "cells": [
  {
   "cell_type": "code",
   "execution_count": 2,
   "metadata": {},
   "outputs": [],
   "source": [
    "import sys\n",
    "sys.path.append('../src')"
   ]
  },
  {
   "cell_type": "code",
   "execution_count": 3,
   "metadata": {},
   "outputs": [],
   "source": [
    "#Import the necessary modules\n",
    "import matplotlib.pyplot as plt\n",
    "import pandas as pd\n",
    "import numpy as np\n",
    "from logHelper import logger"
   ]
  },
  {
   "cell_type": "code",
   "execution_count": null,
   "metadata": {},
   "outputs": [
    {
     "name": "stderr",
     "output_type": "stream",
     "text": [
      "Unable to create process using 'C:\\Users\\Kartheek Kotha\\.conda\\envs\\nlp\\python.exe \"C:\\Users\\Kartheek Kotha\\.conda\\envs\\nlp\\Scripts\\pip-script.py\" install nltk'\n"
     ]
    }
   ],
   "source": [
    "#Import the necessary modules for NLP\n",
    "! pip install nltk\n",
    "import nltk"
   ]
  },
  {
   "cell_type": "code",
   "execution_count": null,
   "metadata": {},
   "outputs": [
    {
     "name": "stdout",
     "output_type": "stream",
     "text": [
      "[2024-03-26 14:37:33,997: INFO: 2381599552: Welcome to the custom Logging Page]\n"
     ]
    }
   ],
   "source": [
    "logger.info(\"Welcome to the custom Logging Page\")"
   ]
  },
  {
   "cell_type": "markdown",
   "metadata": {},
   "source": [
    "During this exam, each test taker sees a Standardized Patient, a person trained to portray a clinical case. After interacting with the patient, the test taker documents the relevant facts of the encounter in a patient note. Each patient note is scored by a trained physician who looks for the presence of certain key concepts or features relevant to the case as described in a rubric. The goal of this competition is to develop an automated way of identifying the relevant features within each patient note, with a special focus on the patient history portions of the notes where the information from the interview with the standardized patient is documented."
   ]
  },
  {
   "cell_type": "markdown",
   "metadata": {},
   "source": [
    "Data Analysis\n",
    "============="
   ]
  },
  {
   "cell_type": "code",
   "execution_count": null,
   "metadata": {},
   "outputs": [
    {
     "name": "stdout",
     "output_type": "stream",
     "text": [
      "[2024-03-26 14:37:35,070: INFO: utils: NumExpr defaulting to 8 threads.]\n"
     ]
    }
   ],
   "source": [
    "import pandas as pd\n",
    "import numpy as np"
   ]
  },
  {
   "cell_type": "markdown",
   "metadata": {},
   "source": [
    "\n",
    "FEATURES\n",
    "--------\n",
    "143 rows<br>\n",
    "3 columns:  \n",
    "<ol>\n",
    " <li>feature_num : unique ID no. of each complaint/ observation, in increasing order, not continuous<br>143 unique vals</li>  \n",
    " <li>case_num : number of patients with that particular complaint/observation<br>10 unique vals</li>  \n",
    " <li>feature_text : complaint/observation - distinct<br>131 unique vals</li>\n",
    " </ol>"
   ]
  },
  {
   "cell_type": "code",
   "execution_count": 11,
   "metadata": {},
   "outputs": [
    {
     "name": "stdout",
     "output_type": "stream",
     "text": [
      "   feature_num  case_num                                       feature_text\n",
      "0            0         0  Family-history-of-MI-OR-Family-history-of-myoc...\n",
      "1            1         0                 Family-history-of-thyroid-disorder\n",
      "2            2         0                                     Chest-pressure\n",
      "3            3         0                              Intermittent-symptoms\n",
      "4            4         0                                        Lightheaded\n",
      "Index(['feature_num', 'case_num', 'feature_text'], dtype='object')\n",
      "143\n"
     ]
    }
   ],
   "source": [
    "\n",
    "#extact data from the features.csv file into a pandas dataframe\n",
    "features_df = pd.read_csv('../data/nbme-score-clinical-patient-notes/features.csv')\n",
    "\n",
    "print(features_df.head(5))\n",
    "print(features_df.columns)\n",
    "print(len(features_df))\n"
   ]
  },
  {
   "cell_type": "code",
   "execution_count": 12,
   "metadata": {},
   "outputs": [
    {
     "name": "stdout",
     "output_type": "stream",
     "text": [
      "feature_num 143\n",
      "case_num 10\n",
      "feature_text 131\n"
     ]
    }
   ],
   "source": [
    "#unique values in each col of features.csv\n",
    "for col in features_df.columns:\n",
    "    print(col, features_df[col].nunique())"
   ]
  },
  {
   "cell_type": "markdown",
   "metadata": {},
   "source": [
    "\n",
    "PATIENT NOTES\n",
    "--------\n",
    "42146 rows<br>\n",
    "3 columns:  \n",
    "<ol>\n",
    " <li>pn_num : unique ID no. of each patient, increasing order<br>42146 unique vals\n",
    " </li>  \n",
    " <li>case_num : **idk what this represents**<br>10 unique vals</li>  \n",
    " <li>pn_history : detailed description of complaints and observations. Most patients also have details of PMH, PSHH, FH, Social History, Medications, Sexual history, POS, Family history, Allergies. A patient has either all, or some of these details filled, under either acronyms or varying subheadings.<br>42146 unique vals</li>\n",
    " </ol>"
   ]
  },
  {
   "cell_type": "code",
   "execution_count": 13,
   "metadata": {},
   "outputs": [
    {
     "name": "stdout",
     "output_type": "stream",
     "text": [
      "   pn_num  case_num                                         pn_history\n",
      "0       0         0  17-year-old male, has come to the student heal...\n",
      "1       1         0  17 yo male with recurrent palpitations for the...\n",
      "2       2         0  Dillon Cleveland is a 17 y.o. male patient wit...\n",
      "3       3         0  a 17 yo m c/o palpitation started 3 mos ago; \\...\n",
      "4       4         0  17yo male with no pmh here for evaluation of p...\n",
      "Index(['pn_num', 'case_num', 'pn_history'], dtype='object')\n",
      "42146\n"
     ]
    }
   ],
   "source": [
    "patientnotes_df = pd.read_csv('../data/nbme-score-clinical-patient-notes/patient_notes.csv')\n",
    "print(patientnotes_df.head(5))\n",
    "print(patientnotes_df.columns)\n",
    "print(len(patientnotes_df))\n"
   ]
  },
  {
   "cell_type": "code",
   "execution_count": 14,
   "metadata": {},
   "outputs": [
    {
     "name": "stdout",
     "output_type": "stream",
     "text": [
      "pn_num 42146\n",
      "case_num 10\n",
      "pn_history 42146\n"
     ]
    }
   ],
   "source": [
    "#unique values in each col of patient_notes.csv\n",
    "for col in patientnotes_df.columns:\n",
    "    print(col, patientnotes_df[col].nunique())"
   ]
  },
  {
   "cell_type": "markdown",
   "metadata": {},
   "source": [
    "SAMPLE SUBMISSION\n",
    "--------\n",
    "5 rows<br>\n",
    "2 columns:  \n",
    "<ol>\n",
    " <li>id : submission number<br>5 unique vals\n",
    " </li>  \n",
    " <li>location : **idk what this represents**<br>3 unique vals, some NaN(blank) values</li>  \n",
    "\n",
    " </ol>"
   ]
  },
  {
   "cell_type": "code",
   "execution_count": 15,
   "metadata": {},
   "outputs": [
    {
     "name": "stdout",
     "output_type": "stream",
     "text": [
      "          id         location\n",
      "0  00016_000            0 100\n",
      "1  00016_001              NaN\n",
      "2  00016_002  200 250;300 400\n",
      "3  00016_003              NaN\n",
      "4  00016_004           75 110\n",
      "Index(['id', 'location'], dtype='object')\n",
      "5\n",
      "id 5\n",
      "location 3\n"
     ]
    }
   ],
   "source": [
    "samplesub_df = pd.read_csv('../data/nbme-score-clinical-patient-notes/sample_submission.csv')\n",
    "print(samplesub_df.head(5))\n",
    "print(samplesub_df.columns)\n",
    "print(len(samplesub_df))\n",
    "for col in samplesub_df.columns:\n",
    "    print(col, samplesub_df[col].nunique())"
   ]
  },
  {
   "cell_type": "markdown",
   "metadata": {},
   "source": [
    "## Train and test"
   ]
  },
  {
   "cell_type": "code",
   "execution_count": 16,
   "metadata": {},
   "outputs": [
    {
     "name": "stdout",
     "output_type": "stream",
     "text": [
      "<bound method NDFrame.head of               id  case_num  pn_num  feature_num  \\\n",
      "0      00016_000         0      16            0   \n",
      "1      00016_001         0      16            1   \n",
      "2      00016_002         0      16            2   \n",
      "3      00016_003         0      16            3   \n",
      "4      00016_004         0      16            4   \n",
      "...          ...       ...     ...          ...   \n",
      "14295  95333_912         9   95333          912   \n",
      "14296  95333_913         9   95333          913   \n",
      "14297  95333_914         9   95333          914   \n",
      "14298  95333_915         9   95333          915   \n",
      "14299  95333_916         9   95333          916   \n",
      "\n",
      "                                     annotation              location  \n",
      "0              ['dad with recent heart attcak']           ['696 724']  \n",
      "1                 ['mom with \"thyroid disease']           ['668 693']  \n",
      "2                            ['chest pressure']           ['203 217']  \n",
      "3          ['intermittent episodes', 'episode']  ['70 91', '176 183']  \n",
      "4      ['felt as if he were going to pass out']           ['222 258']  \n",
      "...                                         ...                   ...  \n",
      "14295                                        []                    []  \n",
      "14296                                        []                    []  \n",
      "14297                              ['photobia']           ['274 282']  \n",
      "14298                      ['no sick contacts']           ['421 437']  \n",
      "14299                      ['Subjective fever']           ['314 330']  \n",
      "\n",
      "[14300 rows x 6 columns]>\n"
     ]
    }
   ],
   "source": [
    "train_df = pd.read_csv('../data/nbme-score-clinical-patient-notes/train.csv')\n",
    "print(train_df.head)"
   ]
  },
  {
   "cell_type": "code",
   "execution_count": 17,
   "metadata": {},
   "outputs": [
    {
     "name": "stdout",
     "output_type": "stream",
     "text": [
      "Index(['id', 'case_num', 'pn_num', 'feature_num', 'annotation', 'location'], dtype='object')\n"
     ]
    }
   ],
   "source": [
    "print(train_df.columns)"
   ]
  },
  {
   "cell_type": "code",
   "execution_count": 18,
   "metadata": {},
   "outputs": [
    {
     "name": "stdout",
     "output_type": "stream",
     "text": [
      "14300\n",
      "(14300, 6)\n"
     ]
    }
   ],
   "source": [
    "print(len(train_df))\n",
    "print(train_df.shape)"
   ]
  },
  {
   "cell_type": "code",
   "execution_count": 19,
   "metadata": {},
   "outputs": [
    {
     "data": {
      "text/html": [
       "<div>\n",
       "<style scoped>\n",
       "    .dataframe tbody tr th:only-of-type {\n",
       "        vertical-align: middle;\n",
       "    }\n",
       "\n",
       "    .dataframe tbody tr th {\n",
       "        vertical-align: top;\n",
       "    }\n",
       "\n",
       "    .dataframe thead th {\n",
       "        text-align: right;\n",
       "    }\n",
       "</style>\n",
       "<table border=\"1\" class=\"dataframe\">\n",
       "  <thead>\n",
       "    <tr style=\"text-align: right;\">\n",
       "      <th></th>\n",
       "      <th>id</th>\n",
       "      <th>case_num</th>\n",
       "      <th>pn_num</th>\n",
       "      <th>feature_num</th>\n",
       "      <th>annotation</th>\n",
       "      <th>location</th>\n",
       "    </tr>\n",
       "  </thead>\n",
       "  <tbody>\n",
       "    <tr>\n",
       "      <th>0</th>\n",
       "      <td>00016_000</td>\n",
       "      <td>0</td>\n",
       "      <td>16</td>\n",
       "      <td>0</td>\n",
       "      <td>['dad with recent heart attcak']</td>\n",
       "      <td>['696 724']</td>\n",
       "    </tr>\n",
       "  </tbody>\n",
       "</table>\n",
       "</div>"
      ],
      "text/plain": [
       "          id  case_num  pn_num  feature_num                        annotation  \\\n",
       "0  00016_000         0      16            0  ['dad with recent heart attcak']   \n",
       "\n",
       "      location  \n",
       "0  ['696 724']  "
      ]
     },
     "execution_count": 19,
     "metadata": {},
     "output_type": "execute_result"
    }
   ],
   "source": [
    "train_df.head(1)"
   ]
  },
  {
   "cell_type": "code",
   "execution_count": 20,
   "metadata": {},
   "outputs": [
    {
     "data": {
      "text/html": [
       "<div>\n",
       "<style scoped>\n",
       "    .dataframe tbody tr th:only-of-type {\n",
       "        vertical-align: middle;\n",
       "    }\n",
       "\n",
       "    .dataframe tbody tr th {\n",
       "        vertical-align: top;\n",
       "    }\n",
       "\n",
       "    .dataframe thead th {\n",
       "        text-align: right;\n",
       "    }\n",
       "</style>\n",
       "<table border=\"1\" class=\"dataframe\">\n",
       "  <thead>\n",
       "    <tr style=\"text-align: right;\">\n",
       "      <th></th>\n",
       "      <th>id</th>\n",
       "      <th>case_num</th>\n",
       "      <th>pn_num</th>\n",
       "      <th>feature_num</th>\n",
       "    </tr>\n",
       "  </thead>\n",
       "  <tbody>\n",
       "    <tr>\n",
       "      <th>0</th>\n",
       "      <td>00016_000</td>\n",
       "      <td>0</td>\n",
       "      <td>16</td>\n",
       "      <td>0</td>\n",
       "    </tr>\n",
       "    <tr>\n",
       "      <th>1</th>\n",
       "      <td>00016_001</td>\n",
       "      <td>0</td>\n",
       "      <td>16</td>\n",
       "      <td>1</td>\n",
       "    </tr>\n",
       "    <tr>\n",
       "      <th>2</th>\n",
       "      <td>00016_002</td>\n",
       "      <td>0</td>\n",
       "      <td>16</td>\n",
       "      <td>2</td>\n",
       "    </tr>\n",
       "    <tr>\n",
       "      <th>3</th>\n",
       "      <td>00016_003</td>\n",
       "      <td>0</td>\n",
       "      <td>16</td>\n",
       "      <td>3</td>\n",
       "    </tr>\n",
       "    <tr>\n",
       "      <th>4</th>\n",
       "      <td>00016_004</td>\n",
       "      <td>0</td>\n",
       "      <td>16</td>\n",
       "      <td>4</td>\n",
       "    </tr>\n",
       "  </tbody>\n",
       "</table>\n",
       "</div>"
      ],
      "text/plain": [
       "          id  case_num  pn_num  feature_num\n",
       "0  00016_000         0      16            0\n",
       "1  00016_001         0      16            1\n",
       "2  00016_002         0      16            2\n",
       "3  00016_003         0      16            3\n",
       "4  00016_004         0      16            4"
      ]
     },
     "execution_count": 20,
     "metadata": {},
     "output_type": "execute_result"
    }
   ],
   "source": [
    "test_df = pd.read_csv('../data/nbme-score-clinical-patient-notes/test.csv')\n",
    "test_df.head(5)"
   ]
  },
  {
   "cell_type": "code",
   "execution_count": 21,
   "metadata": {},
   "outputs": [
    {
     "data": {
      "text/plain": [
       "Index(['id', 'case_num', 'pn_num', 'feature_num'], dtype='object')"
      ]
     },
     "execution_count": 21,
     "metadata": {},
     "output_type": "execute_result"
    }
   ],
   "source": [
    "test_df.columns"
   ]
  },
  {
   "cell_type": "code",
   "execution_count": 22,
   "metadata": {},
   "outputs": [
    {
     "name": "stdout",
     "output_type": "stream",
     "text": [
      "HPI: 17yo M presents with palpitations. Patient reports 3-4 months of intermittent episodes of \"heart beating/pounding out of my chest.\" 2 days ago during a soccer game had an episode, but this time had chest pressure and felt as if he were going to pass out (did not lose conciousness). Of note patient endorses abusing adderall, primarily to study (1-3 times per week). Before recent soccer game, took adderrall night before and morning of game. Denies shortness of breath, diaphoresis, fevers, chills, headache, fatigue, changes in sleep, changes in vision/hearing, abdominal paun, changes in bowel or urinary habits. \n",
      "PMHx: none\n",
      "Rx: uses friends adderrall\n",
      "FHx: mom with \"thyroid disease,\" dad with recent heart attcak\n",
      "All: none\n",
      "Immunizations: up to date\n",
      "SHx: Freshmen in college. Endorses 3-4 drinks 3 nights / week (on weekends), denies tabacco, endorses trying marijuana. Sexually active with girlfriend x 1 year, uses condoms\n"
     ]
    }
   ],
   "source": [
    "#get patient notes for a particular patient with pn_num = 16 m case_num = 1\n",
    "print(patientnotes_df[(patientnotes_df['pn_num'] == 16) & (patientnotes_df['case_num'] == 0)]['pn_history'].values[0])"
   ]
  },
  {
   "cell_type": "code",
   "execution_count": 23,
   "metadata": {},
   "outputs": [
    {
     "name": "stdout",
     "output_type": "stream",
     "text": [
      "Family-history-of-MI-OR-Family-history-of-myocardial-infarction\n"
     ]
    }
   ],
   "source": [
    "print(features_df[(features_df['feature_num'] == 0) & (features_df['case_num'] == 0)]['feature_text'].values[0])"
   ]
  },
  {
   "cell_type": "markdown",
   "metadata": {},
   "source": [
    "### Data Analysis"
   ]
  },
  {
   "cell_type": "code",
   "execution_count": 24,
   "metadata": {},
   "outputs": [
    {
     "name": "stdout",
     "output_type": "stream",
     "text": [
      "   case_num  pn_history  percentage\n",
      "3         3        9753   23.140986\n",
      "5         5        6909   16.393015\n",
      "4         4        5405   12.824467\n",
      "9         9        5151   12.221800\n",
      "8         8        4196    9.955868\n",
      "7         7        4101    9.730461\n",
      "0         0        2268    5.381294\n",
      "2         2        1958    4.645755\n",
      "6         6        1597    3.789209\n",
      "1         1         808    1.917145\n"
     ]
    },
    {
     "data": {
      "image/png": "[encoded data removed]",
      "text/plain": [
       "<Figure size 1200x600 with 1 Axes>"
      ]
     },
     "metadata": {},
     "output_type": "display_data"
    }
   ],
   "source": [
    "temp = patientnotes_df.groupby('case_num').count()['pn_history'].reset_index().sort_values(by='pn_history', ascending=False)\n",
    "# temp.style.background_gradient(cmap='Purples')\n",
    "sum_val = temp['pn_history'].sum()\n",
    "temp['percentage'] = temp['pn_history'].apply(lambda x: x/sum_val*100)\n",
    "print(temp)\n",
    "plt.figure(figsize=(12,6))\n",
    "plt.title('Number of Patient Notes per Case')\n",
    "plt.bar(temp['case_num'], temp['pn_history'])\n",
    "plt.show()"
   ]
  },
  {
   "cell_type": "markdown",
   "metadata": {},
   "source": [
    "### Data Pre-processing"
   ]
  },
  {
   "cell_type": "code",
   "execution_count": 25,
   "metadata": {},
   "outputs": [],
   "source": [
    "class PreProcess():\n",
    "  def __init__(self ,df , columnName):\n",
    "    self.df = df\n",
    "    self.columnName = columnName\n",
    "  # removing the URL's from the data\n",
    "  def removeUrl(self):\n",
    "    self.df[self.columnName] = self.df[self.columnName].str.replace(r'http\\S+', '', regex=True)\n",
    "  # removing the Special Charecters's from the data\n",
    "  def removeSpecialChar(self):\n",
    "    self.df[self.columnName] = self.df[self.columnName].str.replace(r'[^\\w\\s]', '', regex=True)\n",
    "    self.df[self.columnName] = self.df[self.columnName].str.replace(r'\\s+', ' ', regex=True)\n",
    "  # removing the Numerica and Alpha Numerics from the data\n",
    "  def removeNumeric_AlphaNumeric(self, removeNumeric = True , removeAlphaNumeric = True):\n",
    "    if removeNumeric:\n",
    "      self.df[self.columnName] = self.df[self.columnName].str.replace(r'\\d+', '', regex=True)\n",
    "    if removeAlphaNumeric:\n",
    "      self.df[self.columnName] = self.df[self.columnName].apply(lambda x: re.sub(r'[^a-zA-Z\\s]', '', x))\n",
    "  # Lower casing everything\n",
    "  def lowerCase(self):\n",
    "    self.df[self.columnName] = self.df[self.columnName].str.lower()\n",
    "  # Adding all the pre-processing of the data into one fucntion\n",
    "  def pre_process(self , removeLinks = True , removeSpec = True , removeNum = True, lowerCase = True):\n",
    "    if removeLinks:\n",
    "      self.removeUrl()\n",
    "      print(f'After removing the URL\\'s \\n {self.df.head()}')\n",
    "    if removeSpec:\n",
    "      self.removeSpecialChar()\n",
    "      print(f'After removing the Special charecters\\'s \\n {self.df.head()}')\n",
    "    if removeNum:\n",
    "      self.removeNumeric_AlphaNumeric(removeNumeric = True , removeAlphaNumeric = True)\n",
    "      print(f'After removing the Numerics and Alphs-Numerics \\n {self.df.head()}')\n",
    "    if lowerCase:\n",
    "      self.lowerCase()\n",
    "      print(f'After Lower casing \\n{self.df.head()}')\n",
    "  # removing stop words\n",
    "  def removeStopWords(self):\n",
    "    nltk.download('stopwords')\n",
    "    stop = stopwords.words('english')\n",
    "    self.df[self.columnName] = self.df[self.columnName].apply(lambda x: ' '.join([word for word in x.split() if word not in (stop)]))\n",
    "    print(f'After removing the stopWords\\n {self.df.head()}')\n",
    "  # tokenization using Glove using Pytorch\n",
    "  def tokenization_glove(self): \n",
    "    global_vectors = GloVe(name='840B', dim=300)\n",
    "    \n",
    "  # lemmitization\n",
    "  # stemming\n",
    "  def get_df(self):\n",
    "    return self.df"
   ]
  },
  {
   "cell_type": "markdown",
   "metadata": {},
   "source": []
  },
  {
   "cell_type": "markdown",
   "metadata": {},
   "source": []
  }
 ],
 "metadata": {
  "kernelspec": {
   "display_name": "Python 3",
   "language": "python",
   "name": "python3"
  },
  "language_info": {
   "codemirror_mode": {
    "name": "ipython",
    "version": 3
   },
   "file_extension": ".py",
   "mimetype": "text/x-python",
   "name": "python",
   "nbconvert_exporter": "python",
   "pygments_lexer": "ipython3",
   "version": "3.12.1"
  }
 },
 "nbformat": 4,
 "nbformat_minor": 2
}
